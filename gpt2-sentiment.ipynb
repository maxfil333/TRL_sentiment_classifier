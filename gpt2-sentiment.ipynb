{
 "cells": [
  {
   "cell_type": "markdown",
   "metadata": {},
   "source": [
    "# Tune GPT2 to generate positive reviews\n",
    "> Optimise GPT2 to produce positive IMDB movie reviews using a BERT sentiment classifier as a reward function."
   ]
  },
  {
   "cell_type": "markdown",
   "metadata": {},
   "source": [
    "<div style=\"text-align: center\">\n",
    "<img src='https://huggingface.co/datasets/trl-internal-testing/example-images/resolve/main/images/gpt2_bert_training.png' width='600'>\n",
    "<p style=\"text-align: center;\"> <b>Figure:</b> Experiment setup to tune GPT2. The yellow arrows are outside the scope of this notebook, but the trained models are available through Hugging Face. </p>\n",
    "</div>\n",
    "\n",
    "\n",
    "In this notebook we fine-tune GPT2 (small) to generate positive movie reviews based on the IMDB dataset. The model gets the start of a real review and is tasked to produce positive continuations. To reward positive continuations we use a BERT classifier to analyse the sentiment of the produced sentences and use the classifier's outputs as rewards signals for PPO training."
   ]
  },
  {
   "cell_type": "markdown",
   "metadata": {},
   "source": [
    "## Setup experiment"
   ]
  },
  {
   "cell_type": "markdown",
   "metadata": {},
   "source": [
    "### Import dependencies"
   ]
  },
  {
   "cell_type": "code",
   "execution_count": null,
   "metadata": {},
   "outputs": [],
   "source": [
    "%load_ext autoreload\n",
    "%autoreload 2"
   ]
  },
  {
   "cell_type": "code",
   "execution_count": null,
   "metadata": {},
   "outputs": [],
   "source": [
    "%pip install transformers trl wandb"
   ]
  },
  {
   "cell_type": "code",
   "execution_count": 2,
   "metadata": {},
   "outputs": [],
   "source": [
    "import torch\n",
    "from tqdm import tqdm\n",
    "import pandas as pd\n",
    "\n",
    "tqdm.pandas()\n",
    "\n",
    "from transformers import pipeline, AutoTokenizer\n",
    "from datasets import load_dataset\n",
    "\n",
    "from trl import PPOTrainer, PPOConfig, AutoModelForCausalLMWithValueHead\n",
    "from trl.core import LengthSampler"
   ]
  },
  {
   "cell_type": "markdown",
   "metadata": {},
   "source": [
    "### Configuration"
   ]
  },
  {
   "cell_type": "code",
   "execution_count": 3,
   "metadata": {},
   "outputs": [],
   "source": [
    "config = PPOConfig(\n",
    "    model_name=\"lvwerra/gpt2-imdb\",\n",
    "    learning_rate=1.41e-5,\n",
    "    log_with=\"wandb\",\n",
    ")\n",
    "\n",
    "sent_kwargs = {\"return_all_scores\": True, \"function_to_apply\": \"none\", \"batch_size\": 16}"
   ]
  },
  {
   "cell_type": "code",
   "execution_count": 4,
   "metadata": {},
   "outputs": [
    {
     "name": "stderr",
     "output_type": "stream",
     "text": [
      "\u001b[34m\u001b[1mwandb\u001b[0m: Logging into wandb.ai. (Learn how to deploy a W&B server locally: https://wandb.me/wandb-server)\n",
      "\u001b[34m\u001b[1mwandb\u001b[0m: You can find your API key in your browser here: https://wandb.ai/authorize\n",
      "\u001b[34m\u001b[1mwandb\u001b[0m: Paste an API key from your profile and hit enter, or press ctrl+c to quit:"
     ]
    },
    {
     "name": "stdin",
     "output_type": "stream",
     "text": [
      "  ········\n"
     ]
    },
    {
     "name": "stderr",
     "output_type": "stream",
     "text": [
      "\u001b[34m\u001b[1mwandb\u001b[0m: Appending key for api.wandb.ai to your netrc file: C:\\Users\\Admin/.netrc\n"
     ]
    },
    {
     "data": {
      "text/html": [
       "Tracking run with wandb version 0.15.12"
      ],
      "text/plain": [
       "<IPython.core.display.HTML object>"
      ]
     },
     "metadata": {},
     "output_type": "display_data"
    },
    {
     "data": {
      "text/html": [
       "Run data is saved locally in <code>D:\\my_projects\\gpt2_sentiment\\wandb\\run-20231018_115405-kvnez6j6</code>"
      ],
      "text/plain": [
       "<IPython.core.display.HTML object>"
      ]
     },
     "metadata": {},
     "output_type": "display_data"
    },
    {
     "data": {
      "text/html": [
       "Syncing run <strong><a href='https://wandb.ai/maxfil333/uncategorized/runs/kvnez6j6' target=\"_blank\">rich-microwave-1</a></strong> to <a href='https://wandb.ai/maxfil333/uncategorized' target=\"_blank\">Weights & Biases</a> (<a href='https://wandb.me/run' target=\"_blank\">docs</a>)<br/>"
      ],
      "text/plain": [
       "<IPython.core.display.HTML object>"
      ]
     },
     "metadata": {},
     "output_type": "display_data"
    },
    {
     "data": {
      "text/html": [
       " View project at <a href='https://wandb.ai/maxfil333/uncategorized' target=\"_blank\">https://wandb.ai/maxfil333/uncategorized</a>"
      ],
      "text/plain": [
       "<IPython.core.display.HTML object>"
      ]
     },
     "metadata": {},
     "output_type": "display_data"
    },
    {
     "data": {
      "text/html": [
       " View run at <a href='https://wandb.ai/maxfil333/uncategorized/runs/kvnez6j6' target=\"_blank\">https://wandb.ai/maxfil333/uncategorized/runs/kvnez6j6</a>"
      ],
      "text/plain": [
       "<IPython.core.display.HTML object>"
      ]
     },
     "metadata": {},
     "output_type": "display_data"
    },
    {
     "data": {
      "text/html": [
       "<button onClick=\"this.nextSibling.style.display='block';this.style.display='none';\">Display W&B run</button><iframe src='https://wandb.ai/maxfil333/uncategorized/runs/kvnez6j6?jupyter=true' style='border:none;width:100%;height:420px;display:none;'></iframe>"
      ],
      "text/plain": [
       "<wandb.sdk.wandb_run.Run at 0x1784c9cead0>"
      ]
     },
     "execution_count": 4,
     "metadata": {},
     "output_type": "execute_result"
    }
   ],
   "source": [
    "import wandb\n",
    "\n",
    "wandb.init()"
   ]
  },
  {
   "cell_type": "markdown",
   "metadata": {},
   "source": [
    "You can see that we load a GPT2 model called `gpt2_imdb`. This model was additionally fine-tuned on the IMDB dataset for 1 epoch with the huggingface [script](https://github.com/huggingface/transformers/blob/master/examples/run_language_modeling.py) (no special settings). The other parameters are mostly taken from the original paper [\"Fine-Tuning Language Models from Human Preferences\"](\n",
    "https://arxiv.org/pdf/1909.08593.pdf). This model as well as the BERT model is available in the Huggingface model zoo [here](https://huggingface.co/models). The following code should automatically download the models."
   ]
  },
  {
   "cell_type": "markdown",
   "metadata": {},
   "source": [
    "## Load data and models"
   ]
  },
  {
   "attachments": {},
   "cell_type": "markdown",
   "metadata": {},
   "source": [
    "### Load IMDB dataset\n",
    "The IMDB dataset contains 50k movie review annotated with \"positive\"/\"negative\" feedback indicating the sentiment.  We load the IMDB dataset into a DataFrame and filter for comments that are at least 200 characters. Then we tokenize each text and cut it to random size with the `LengthSampler`."
   ]
  },
  {
   "cell_type": "code",
   "execution_count": 5,
   "metadata": {},
   "outputs": [],
   "source": [
    "def build_dataset(config, dataset_name=\"imdb\", input_min_text_length=2, input_max_text_length=8):\n",
    "    \"\"\"\n",
    "    Build dataset for training. This builds the dataset from `load_dataset`, one should\n",
    "    customize this function to train the model on its own dataset.\n",
    "\n",
    "    Args:\n",
    "        dataset_name (`str`):\n",
    "            The name of the dataset to be loaded.\n",
    "\n",
    "    Returns:\n",
    "        dataloader (`torch.utils.data.DataLoader`):\n",
    "            The dataloader for the dataset.\n",
    "    \"\"\"\n",
    "    tokenizer = AutoTokenizer.from_pretrained(config.model_name)\n",
    "    tokenizer.pad_token = tokenizer.eos_token\n",
    "    # load imdb with datasets\n",
    "    ds = load_dataset(dataset_name, split=\"train\")\n",
    "    ds = ds.rename_columns({\"text\": \"review\"})\n",
    "    ds = ds.filter(lambda x: len(x[\"review\"]) > 200, batched=False)\n",
    "\n",
    "    input_size = LengthSampler(input_min_text_length, input_max_text_length)\n",
    "\n",
    "    def tokenize(sample):\n",
    "        sample[\"input_ids\"] = tokenizer.encode(sample[\"review\"])[: input_size()]\n",
    "        sample[\"query\"] = tokenizer.decode(sample[\"input_ids\"])\n",
    "        return sample\n",
    "\n",
    "    ds = ds.map(tokenize, batched=False)\n",
    "    ds.set_format(type=\"torch\")\n",
    "    return ds"
   ]
  },
  {
   "cell_type": "code",
   "execution_count": 6,
   "metadata": {},
   "outputs": [
    {
     "data": {
      "application/vnd.jupyter.widget-view+json": {
       "model_id": "4f8709946e3044c0b375d3002a5abbba",
       "version_major": 2,
       "version_minor": 0
      },
      "text/plain": [
       "Downloading (…)okenizer_config.json:   0%|          | 0.00/17.0 [00:00<?, ?B/s]"
      ]
     },
     "metadata": {},
     "output_type": "display_data"
    },
    {
     "data": {
      "application/vnd.jupyter.widget-view+json": {
       "model_id": "c6cca3727a784b92bd2944332d7a6384",
       "version_major": 2,
       "version_minor": 0
      },
      "text/plain": [
       "Downloading (…)lve/main/config.json:   0%|          | 0.00/577 [00:00<?, ?B/s]"
      ]
     },
     "metadata": {},
     "output_type": "display_data"
    },
    {
     "data": {
      "application/vnd.jupyter.widget-view+json": {
       "model_id": "fcd61659573c4783a459390de2b14e6d",
       "version_major": 2,
       "version_minor": 0
      },
      "text/plain": [
       "Downloading (…)olve/main/vocab.json:   0%|          | 0.00/899k [00:00<?, ?B/s]"
      ]
     },
     "metadata": {},
     "output_type": "display_data"
    },
    {
     "data": {
      "application/vnd.jupyter.widget-view+json": {
       "model_id": "9fa67d982b2f47c0b649191a6a86bdef",
       "version_major": 2,
       "version_minor": 0
      },
      "text/plain": [
       "Downloading (…)olve/main/merges.txt:   0%|          | 0.00/456k [00:00<?, ?B/s]"
      ]
     },
     "metadata": {},
     "output_type": "display_data"
    },
    {
     "data": {
      "application/vnd.jupyter.widget-view+json": {
       "model_id": "4973fd0626764abfb9bca7380c07b3ea",
       "version_major": 2,
       "version_minor": 0
      },
      "text/plain": [
       "Downloading (…)cial_tokens_map.json:   0%|          | 0.00/90.0 [00:00<?, ?B/s]"
      ]
     },
     "metadata": {},
     "output_type": "display_data"
    },
    {
     "data": {
      "application/vnd.jupyter.widget-view+json": {
       "model_id": "16eeec8f6a8e4d0eb857942fdf17ed59",
       "version_major": 2,
       "version_minor": 0
      },
      "text/plain": [
       "Downloading builder script:   0%|          | 0.00/4.31k [00:00<?, ?B/s]"
      ]
     },
     "metadata": {},
     "output_type": "display_data"
    },
    {
     "data": {
      "application/vnd.jupyter.widget-view+json": {
       "model_id": "d8d254a9057a469fa7af362ba95e00bd",
       "version_major": 2,
       "version_minor": 0
      },
      "text/plain": [
       "Downloading metadata:   0%|          | 0.00/2.17k [00:00<?, ?B/s]"
      ]
     },
     "metadata": {},
     "output_type": "display_data"
    },
    {
     "data": {
      "application/vnd.jupyter.widget-view+json": {
       "model_id": "74e3cb98bbff4b3db9ab8bccc1498a76",
       "version_major": 2,
       "version_minor": 0
      },
      "text/plain": [
       "Downloading readme:   0%|          | 0.00/7.59k [00:00<?, ?B/s]"
      ]
     },
     "metadata": {},
     "output_type": "display_data"
    },
    {
     "data": {
      "application/vnd.jupyter.widget-view+json": {
       "model_id": "0ab984277e6f4f6788fb0a86ef7bb080",
       "version_major": 2,
       "version_minor": 0
      },
      "text/plain": [
       "Downloading data:   0%|          | 0.00/84.1M [00:00<?, ?B/s]"
      ]
     },
     "metadata": {},
     "output_type": "display_data"
    },
    {
     "data": {
      "application/vnd.jupyter.widget-view+json": {
       "model_id": "b0a5fc848b7b4875b2bb8c28a09753d7",
       "version_major": 2,
       "version_minor": 0
      },
      "text/plain": [
       "Generating train split:   0%|          | 0/25000 [00:00<?, ? examples/s]"
      ]
     },
     "metadata": {},
     "output_type": "display_data"
    },
    {
     "data": {
      "application/vnd.jupyter.widget-view+json": {
       "model_id": "af008f9ebc5746b4a5a791ab3a422b42",
       "version_major": 2,
       "version_minor": 0
      },
      "text/plain": [
       "Generating test split:   0%|          | 0/25000 [00:00<?, ? examples/s]"
      ]
     },
     "metadata": {},
     "output_type": "display_data"
    },
    {
     "data": {
      "application/vnd.jupyter.widget-view+json": {
       "model_id": "4cd31ade555d4d5c95962050cf60abe6",
       "version_major": 2,
       "version_minor": 0
      },
      "text/plain": [
       "Generating unsupervised split:   0%|          | 0/50000 [00:00<?, ? examples/s]"
      ]
     },
     "metadata": {},
     "output_type": "display_data"
    },
    {
     "data": {
      "application/vnd.jupyter.widget-view+json": {
       "model_id": "aa2bf84a444d4d06b8a018dbd85f8608",
       "version_major": 2,
       "version_minor": 0
      },
      "text/plain": [
       "Filter:   0%|          | 0/25000 [00:00<?, ? examples/s]"
      ]
     },
     "metadata": {},
     "output_type": "display_data"
    },
    {
     "data": {
      "application/vnd.jupyter.widget-view+json": {
       "model_id": "4981141b27cd4823bce43fe95a846a77",
       "version_major": 2,
       "version_minor": 0
      },
      "text/plain": [
       "Map:   0%|          | 0/24895 [00:00<?, ? examples/s]"
      ]
     },
     "metadata": {},
     "output_type": "display_data"
    },
    {
     "name": "stderr",
     "output_type": "stream",
     "text": [
      "Token indices sequence length is longer than the specified maximum sequence length for this model (1168 > 1024). Running this sequence through the model will result in indexing errors\n"
     ]
    }
   ],
   "source": [
    "dataset = build_dataset(config)\n",
    "\n",
    "\n",
    "def collator(data):\n",
    "    return dict((key, [d[key] for d in data]) for key in data[0])"
   ]
  },
  {
   "cell_type": "markdown",
   "metadata": {},
   "source": [
    "### Load pre-trained GPT2 language models"
   ]
  },
  {
   "cell_type": "markdown",
   "metadata": {},
   "source": [
    "We load the GPT2 model with a value head and the tokenizer. We load the model twice; the first model is optimized while the second model serves as a reference to calculate the KL-divergence from the starting point. This serves as an additional reward signal in the PPO training to make sure the optimized model does not deviate too much from the original language model."
   ]
  },
  {
   "cell_type": "code",
   "execution_count": 7,
   "metadata": {},
   "outputs": [
    {
     "data": {
      "application/vnd.jupyter.widget-view+json": {
       "model_id": "31a52145d158492da63557eb7c9d437c",
       "version_major": 2,
       "version_minor": 0
      },
      "text/plain": [
       "Downloading pytorch_model.bin:   0%|          | 0.00/548M [00:00<?, ?B/s]"
      ]
     },
     "metadata": {},
     "output_type": "display_data"
    }
   ],
   "source": [
    "model = AutoModelForCausalLMWithValueHead.from_pretrained(config.model_name)\n",
    "ref_model = AutoModelForCausalLMWithValueHead.from_pretrained(config.model_name)\n",
    "tokenizer = AutoTokenizer.from_pretrained(config.model_name)\n",
    "\n",
    "tokenizer.pad_token = tokenizer.eos_token"
   ]
  },
  {
   "attachments": {},
   "cell_type": "markdown",
   "metadata": {},
   "source": [
    "### Initialize PPOTrainer\n",
    "The `PPOTrainer` takes care of device placement and optimization later on:"
   ]
  },
  {
   "cell_type": "code",
   "execution_count": 8,
   "metadata": {},
   "outputs": [
    {
     "data": {
      "text/html": [
       "Finishing last run (ID:kvnez6j6) before initializing another..."
      ],
      "text/plain": [
       "<IPython.core.display.HTML object>"
      ]
     },
     "metadata": {},
     "output_type": "display_data"
    },
    {
     "data": {
      "text/html": [
       "Waiting for W&B process to finish... <strong style=\"color:green\">(success).</strong>"
      ],
      "text/plain": [
       "<IPython.core.display.HTML object>"
      ]
     },
     "metadata": {},
     "output_type": "display_data"
    },
    {
     "data": {
      "application/vnd.jupyter.widget-view+json": {
       "model_id": "dc8d035ab9ca46cc9e6109418b594f2c",
       "version_major": 2,
       "version_minor": 0
      },
      "text/plain": [
       "VBox(children=(Label(value='0.001 MB of 0.001 MB uploaded (0.000 MB deduped)\\r'), FloatProgress(value=1.0, max…"
      ]
     },
     "metadata": {},
     "output_type": "display_data"
    },
    {
     "data": {
      "text/html": [
       " View run <strong style=\"color:#cdcd00\">rich-microwave-1</strong> at: <a href='https://wandb.ai/maxfil333/uncategorized/runs/kvnez6j6' target=\"_blank\">https://wandb.ai/maxfil333/uncategorized/runs/kvnez6j6</a><br/>Synced 5 W&B file(s), 0 media file(s), 0 artifact file(s) and 0 other file(s)"
      ],
      "text/plain": [
       "<IPython.core.display.HTML object>"
      ]
     },
     "metadata": {},
     "output_type": "display_data"
    },
    {
     "data": {
      "text/html": [
       "Find logs at: <code>.\\wandb\\run-20231018_115405-kvnez6j6\\logs</code>"
      ],
      "text/plain": [
       "<IPython.core.display.HTML object>"
      ]
     },
     "metadata": {},
     "output_type": "display_data"
    },
    {
     "data": {
      "text/html": [
       "Successfully finished last run (ID:kvnez6j6). Initializing new run:<br/>"
      ],
      "text/plain": [
       "<IPython.core.display.HTML object>"
      ]
     },
     "metadata": {},
     "output_type": "display_data"
    },
    {
     "data": {
      "application/vnd.jupyter.widget-view+json": {
       "model_id": "57139d60bf4b41d38b1fc95b70bef2b7",
       "version_major": 2,
       "version_minor": 0
      },
      "text/plain": [
       "VBox(children=(Label(value='Waiting for wandb.init()...\\r'), FloatProgress(value=0.011111111111111112, max=1.0…"
      ]
     },
     "metadata": {},
     "output_type": "display_data"
    },
    {
     "data": {
      "text/html": [
       "Tracking run with wandb version 0.15.12"
      ],
      "text/plain": [
       "<IPython.core.display.HTML object>"
      ]
     },
     "metadata": {},
     "output_type": "display_data"
    },
    {
     "data": {
      "text/html": [
       "Run data is saved locally in <code>D:\\my_projects\\gpt2_sentiment\\wandb\\run-20231018_120317-emoepgso</code>"
      ],
      "text/plain": [
       "<IPython.core.display.HTML object>"
      ]
     },
     "metadata": {},
     "output_type": "display_data"
    },
    {
     "data": {
      "text/html": [
       "Syncing run <strong><a href='https://wandb.ai/maxfil333/trl/runs/emoepgso' target=\"_blank\">flowing-serenity-1</a></strong> to <a href='https://wandb.ai/maxfil333/trl' target=\"_blank\">Weights & Biases</a> (<a href='https://wandb.me/run' target=\"_blank\">docs</a>)<br/>"
      ],
      "text/plain": [
       "<IPython.core.display.HTML object>"
      ]
     },
     "metadata": {},
     "output_type": "display_data"
    },
    {
     "data": {
      "text/html": [
       " View project at <a href='https://wandb.ai/maxfil333/trl' target=\"_blank\">https://wandb.ai/maxfil333/trl</a>"
      ],
      "text/plain": [
       "<IPython.core.display.HTML object>"
      ]
     },
     "metadata": {},
     "output_type": "display_data"
    },
    {
     "data": {
      "text/html": [
       " View run at <a href='https://wandb.ai/maxfil333/trl/runs/emoepgso' target=\"_blank\">https://wandb.ai/maxfil333/trl/runs/emoepgso</a>"
      ],
      "text/plain": [
       "<IPython.core.display.HTML object>"
      ]
     },
     "metadata": {},
     "output_type": "display_data"
    }
   ],
   "source": [
    "ppo_trainer = PPOTrainer(config, model, ref_model, tokenizer, dataset=dataset, data_collator=collator)"
   ]
  },
  {
   "cell_type": "markdown",
   "metadata": {},
   "source": [
    "### Load BERT classifier\n",
    "We load a BERT classifier fine-tuned on the IMDB dataset."
   ]
  },
  {
   "cell_type": "code",
   "execution_count": 9,
   "metadata": {},
   "outputs": [
    {
     "data": {
      "application/vnd.jupyter.widget-view+json": {
       "model_id": "ddff0d9cd2634d68a6ab59876e740b3a",
       "version_major": 2,
       "version_minor": 0
      },
      "text/plain": [
       "Downloading (…)lve/main/config.json:   0%|          | 0.00/735 [00:00<?, ?B/s]"
      ]
     },
     "metadata": {},
     "output_type": "display_data"
    },
    {
     "data": {
      "application/vnd.jupyter.widget-view+json": {
       "model_id": "7b850a9fe0d34e9abc7804bbcecc7e03",
       "version_major": 2,
       "version_minor": 0
      },
      "text/plain": [
       "Downloading pytorch_model.bin:   0%|          | 0.00/268M [00:00<?, ?B/s]"
      ]
     },
     "metadata": {},
     "output_type": "display_data"
    },
    {
     "data": {
      "application/vnd.jupyter.widget-view+json": {
       "model_id": "f41c722b433841e4acafaa2775c4393e",
       "version_major": 2,
       "version_minor": 0
      },
      "text/plain": [
       "Downloading (…)okenizer_config.json:   0%|          | 0.00/333 [00:00<?, ?B/s]"
      ]
     },
     "metadata": {},
     "output_type": "display_data"
    },
    {
     "data": {
      "application/vnd.jupyter.widget-view+json": {
       "model_id": "cea1a7500dcf48f69bff3f50cc6c012b",
       "version_major": 2,
       "version_minor": 0
      },
      "text/plain": [
       "Downloading (…)solve/main/vocab.txt:   0%|          | 0.00/232k [00:00<?, ?B/s]"
      ]
     },
     "metadata": {},
     "output_type": "display_data"
    },
    {
     "data": {
      "application/vnd.jupyter.widget-view+json": {
       "model_id": "b94189b05548497991b849a7defe8191",
       "version_major": 2,
       "version_minor": 0
      },
      "text/plain": [
       "Downloading (…)/main/tokenizer.json:   0%|          | 0.00/466k [00:00<?, ?B/s]"
      ]
     },
     "metadata": {},
     "output_type": "display_data"
    },
    {
     "data": {
      "application/vnd.jupyter.widget-view+json": {
       "model_id": "55f56600690f4678baf96378eb8f9c97",
       "version_major": 2,
       "version_minor": 0
      },
      "text/plain": [
       "Downloading (…)cial_tokens_map.json:   0%|          | 0.00/112 [00:00<?, ?B/s]"
      ]
     },
     "metadata": {},
     "output_type": "display_data"
    }
   ],
   "source": [
    "device = ppo_trainer.accelerator.device\n",
    "if ppo_trainer.accelerator.num_processes == 1:\n",
    "    device = 0 if torch.cuda.is_available() else \"cpu\"  # to avoid a `pipeline` bug\n",
    "sentiment_pipe = pipeline(\"sentiment-analysis\", model=\"lvwerra/distilbert-imdb\", device=device)"
   ]
  },
  {
   "cell_type": "markdown",
   "metadata": {},
   "source": [
    "The model outputs are the logits for the negative and positive class. We will use the logits for positive class as a reward signal for the language model."
   ]
  },
  {
   "cell_type": "code",
   "execution_count": 10,
   "metadata": {},
   "outputs": [
    {
     "name": "stderr",
     "output_type": "stream",
     "text": [
      "D:\\my_projects\\gpt2_sentiment\\venv\\Lib\\site-packages\\transformers\\pipelines\\text_classification.py:105: UserWarning: `return_all_scores` is now deprecated,  if want a similar functionality use `top_k=None` instead of `return_all_scores=True` or `top_k=1` instead of `return_all_scores=False`.\n",
      "  warnings.warn(\n"
     ]
    },
    {
     "data": {
      "text/plain": [
       "[[{'label': 'NEGATIVE', 'score': 2.3350486755371094},\n",
       "  {'label': 'POSITIVE', 'score': -2.726576566696167}]]"
      ]
     },
     "execution_count": 10,
     "metadata": {},
     "output_type": "execute_result"
    }
   ],
   "source": [
    "text = \"this movie was really bad!!\"\n",
    "sentiment_pipe(text, **sent_kwargs)"
   ]
  },
  {
   "cell_type": "code",
   "execution_count": 11,
   "metadata": {},
   "outputs": [
    {
     "data": {
      "text/plain": [
       "[[{'label': 'NEGATIVE', 'score': -2.294790267944336},\n",
       "  {'label': 'POSITIVE', 'score': 2.557040214538574}]]"
      ]
     },
     "execution_count": 11,
     "metadata": {},
     "output_type": "execute_result"
    }
   ],
   "source": [
    "text = \"this movie was really good!!\"\n",
    "sentiment_pipe(text, **sent_kwargs)"
   ]
  },
  {
   "cell_type": "markdown",
   "metadata": {},
   "source": [
    "### Generation settings\n",
    "For the response generation we just use sampling and make sure top-k and nucleus sampling are turned off as well as a minimal length."
   ]
  },
  {
   "cell_type": "code",
   "execution_count": 12,
   "metadata": {},
   "outputs": [],
   "source": [
    "gen_kwargs = {\"min_length\": -1, \"top_k\": 0.0, \"top_p\": 1.0, \"do_sample\": True, \"pad_token_id\": tokenizer.eos_token_id}"
   ]
  },
  {
   "cell_type": "markdown",
   "metadata": {},
   "source": [
    "## Optimize model"
   ]
  },
  {
   "cell_type": "markdown",
   "metadata": {},
   "source": [
    "### Training loop"
   ]
  },
  {
   "cell_type": "markdown",
   "metadata": {},
   "source": [
    "The training loop consists of the following main steps:\n",
    "1. Get the query responses from the policy network (GPT-2)\n",
    "2. Get sentiments for query/responses from BERT\n",
    "3. Optimize policy with PPO using the (query, response, reward) triplet\n",
    "\n",
    "**Training time**\n",
    "\n",
    "This step takes **~2h** on a V100 GPU with the above specified settings."
   ]
  },
  {
   "cell_type": "code",
   "execution_count": 13,
   "metadata": {},
   "outputs": [
    {
     "name": "stderr",
     "output_type": "stream",
     "text": [
      "0it [00:00, ?it/s]You're using a GPT2TokenizerFast tokenizer. Please note that with a fast tokenizer, using the `__call__` method is faster than using a method to encode the text followed by a call to the `pad` method to get a padded encoding.\n",
      "D:\\my_projects\\gpt2_sentiment\\venv\\Lib\\site-packages\\trl\\trainer\\ppo_trainer.py:1174: UserWarning: The average ratio of batch (11.01) exceeds threshold 10.00. Skipping batch.\n",
      "  warnings.warn(\n",
      "D:\\my_projects\\gpt2_sentiment\\venv\\Lib\\site-packages\\trl\\trainer\\ppo_trainer.py:1174: UserWarning: The average ratio of batch (11.97) exceeds threshold 10.00. Skipping batch.\n",
      "  warnings.warn(\n",
      "D:\\my_projects\\gpt2_sentiment\\venv\\Lib\\site-packages\\trl\\trainer\\ppo_trainer.py:1174: UserWarning: The average ratio of batch (32.92) exceeds threshold 10.00. Skipping batch.\n",
      "  warnings.warn(\n",
      "D:\\my_projects\\gpt2_sentiment\\venv\\Lib\\site-packages\\trl\\trainer\\ppo_trainer.py:1174: UserWarning: The average ratio of batch (12.03) exceeds threshold 10.00. Skipping batch.\n",
      "  warnings.warn(\n",
      "D:\\my_projects\\gpt2_sentiment\\venv\\Lib\\site-packages\\trl\\trainer\\ppo_trainer.py:1174: UserWarning: The average ratio of batch (10.56) exceeds threshold 10.00. Skipping batch.\n",
      "  warnings.warn(\n",
      "D:\\my_projects\\gpt2_sentiment\\venv\\Lib\\site-packages\\trl\\trainer\\ppo_trainer.py:1174: UserWarning: The average ratio of batch (10.89) exceeds threshold 10.00. Skipping batch.\n",
      "  warnings.warn(\n",
      "D:\\my_projects\\gpt2_sentiment\\venv\\Lib\\site-packages\\trl\\trainer\\ppo_trainer.py:1174: UserWarning: The average ratio of batch (11.12) exceeds threshold 10.00. Skipping batch.\n",
      "  warnings.warn(\n",
      "D:\\my_projects\\gpt2_sentiment\\venv\\Lib\\site-packages\\trl\\trainer\\ppo_trainer.py:1174: UserWarning: The average ratio of batch (11.89) exceeds threshold 10.00. Skipping batch.\n",
      "  warnings.warn(\n",
      "D:\\my_projects\\gpt2_sentiment\\venv\\Lib\\site-packages\\trl\\trainer\\ppo_trainer.py:1174: UserWarning: The average ratio of batch (34.64) exceeds threshold 10.00. Skipping batch.\n",
      "  warnings.warn(\n",
      "D:\\my_projects\\gpt2_sentiment\\venv\\Lib\\site-packages\\trl\\trainer\\ppo_trainer.py:1174: UserWarning: The average ratio of batch (10.47) exceeds threshold 10.00. Skipping batch.\n",
      "  warnings.warn(\n",
      "1it [01:53, 113.70s/it]D:\\my_projects\\gpt2_sentiment\\venv\\Lib\\site-packages\\trl\\trainer\\ppo_trainer.py:1174: UserWarning: The average ratio of batch (66.25) exceeds threshold 10.00. Skipping batch.\n",
      "  warnings.warn(\n",
      "D:\\my_projects\\gpt2_sentiment\\venv\\Lib\\site-packages\\trl\\trainer\\ppo_trainer.py:1174: UserWarning: The average ratio of batch (12.79) exceeds threshold 10.00. Skipping batch.\n",
      "  warnings.warn(\n",
      "D:\\my_projects\\gpt2_sentiment\\venv\\Lib\\site-packages\\trl\\trainer\\ppo_trainer.py:1174: UserWarning: The average ratio of batch (23.32) exceeds threshold 10.00. Skipping batch.\n",
      "  warnings.warn(\n",
      "D:\\my_projects\\gpt2_sentiment\\venv\\Lib\\site-packages\\trl\\trainer\\ppo_trainer.py:1174: UserWarning: The average ratio of batch (18.67) exceeds threshold 10.00. Skipping batch.\n",
      "  warnings.warn(\n",
      "D:\\my_projects\\gpt2_sentiment\\venv\\Lib\\site-packages\\trl\\trainer\\ppo_trainer.py:1174: UserWarning: The average ratio of batch (14.74) exceeds threshold 10.00. Skipping batch.\n",
      "  warnings.warn(\n",
      "D:\\my_projects\\gpt2_sentiment\\venv\\Lib\\site-packages\\trl\\trainer\\ppo_trainer.py:1174: UserWarning: The average ratio of batch (24.90) exceeds threshold 10.00. Skipping batch.\n",
      "  warnings.warn(\n",
      "D:\\my_projects\\gpt2_sentiment\\venv\\Lib\\site-packages\\trl\\trainer\\ppo_trainer.py:1174: UserWarning: The average ratio of batch (13.16) exceeds threshold 10.00. Skipping batch.\n",
      "  warnings.warn(\n",
      "D:\\my_projects\\gpt2_sentiment\\venv\\Lib\\site-packages\\trl\\trainer\\ppo_trainer.py:1174: UserWarning: The average ratio of batch (12.42) exceeds threshold 10.00. Skipping batch.\n",
      "  warnings.warn(\n",
      "D:\\my_projects\\gpt2_sentiment\\venv\\Lib\\site-packages\\trl\\trainer\\ppo_trainer.py:1174: UserWarning: The average ratio of batch (16.90) exceeds threshold 10.00. Skipping batch.\n",
      "  warnings.warn(\n",
      "D:\\my_projects\\gpt2_sentiment\\venv\\Lib\\site-packages\\trl\\trainer\\ppo_trainer.py:1174: UserWarning: The average ratio of batch (60.34) exceeds threshold 10.00. Skipping batch.\n",
      "  warnings.warn(\n",
      "D:\\my_projects\\gpt2_sentiment\\venv\\Lib\\site-packages\\trl\\trainer\\ppo_trainer.py:1174: UserWarning: The average ratio of batch (15.79) exceeds threshold 10.00. Skipping batch.\n",
      "  warnings.warn(\n",
      "D:\\my_projects\\gpt2_sentiment\\venv\\Lib\\site-packages\\trl\\trainer\\ppo_trainer.py:1174: UserWarning: The average ratio of batch (17.41) exceeds threshold 10.00. Skipping batch.\n",
      "  warnings.warn(\n",
      "D:\\my_projects\\gpt2_sentiment\\venv\\Lib\\site-packages\\trl\\trainer\\ppo_trainer.py:1174: UserWarning: The average ratio of batch (13.41) exceeds threshold 10.00. Skipping batch.\n",
      "  warnings.warn(\n",
      "D:\\my_projects\\gpt2_sentiment\\venv\\Lib\\site-packages\\trl\\trainer\\ppo_trainer.py:1174: UserWarning: The average ratio of batch (57.39) exceeds threshold 10.00. Skipping batch.\n",
      "  warnings.warn(\n",
      "D:\\my_projects\\gpt2_sentiment\\venv\\Lib\\site-packages\\trl\\trainer\\ppo_trainer.py:1174: UserWarning: The average ratio of batch (51.83) exceeds threshold 10.00. Skipping batch.\n",
      "  warnings.warn(\n",
      "D:\\my_projects\\gpt2_sentiment\\venv\\Lib\\site-packages\\trl\\trainer\\ppo_trainer.py:1174: UserWarning: The average ratio of batch (13.44) exceeds threshold 10.00. Skipping batch.\n",
      "  warnings.warn(\n",
      "D:\\my_projects\\gpt2_sentiment\\venv\\Lib\\site-packages\\trl\\trainer\\ppo_trainer.py:1174: UserWarning: The average ratio of batch (17.31) exceeds threshold 10.00. Skipping batch.\n",
      "  warnings.warn(\n",
      "D:\\my_projects\\gpt2_sentiment\\venv\\Lib\\site-packages\\trl\\trainer\\ppo_trainer.py:1174: UserWarning: The average ratio of batch (11.72) exceeds threshold 10.00. Skipping batch.\n",
      "  warnings.warn(\n",
      "D:\\my_projects\\gpt2_sentiment\\venv\\Lib\\site-packages\\trl\\trainer\\ppo_trainer.py:1174: UserWarning: The average ratio of batch (22.91) exceeds threshold 10.00. Skipping batch.\n",
      "  warnings.warn(\n",
      "D:\\my_projects\\gpt2_sentiment\\venv\\Lib\\site-packages\\trl\\trainer\\ppo_trainer.py:1174: UserWarning: The average ratio of batch (23.01) exceeds threshold 10.00. Skipping batch.\n",
      "  warnings.warn(\n",
      "D:\\my_projects\\gpt2_sentiment\\venv\\Lib\\site-packages\\trl\\trainer\\ppo_trainer.py:1174: UserWarning: The average ratio of batch (25.09) exceeds threshold 10.00. Skipping batch.\n",
      "  warnings.warn(\n",
      "D:\\my_projects\\gpt2_sentiment\\venv\\Lib\\site-packages\\trl\\trainer\\ppo_trainer.py:1174: UserWarning: The average ratio of batch (51.56) exceeds threshold 10.00. Skipping batch.\n",
      "  warnings.warn(\n",
      "D:\\my_projects\\gpt2_sentiment\\venv\\Lib\\site-packages\\trl\\trainer\\ppo_trainer.py:1174: UserWarning: The average ratio of batch (56.50) exceeds threshold 10.00. Skipping batch.\n",
      "  warnings.warn(\n",
      "D:\\my_projects\\gpt2_sentiment\\venv\\Lib\\site-packages\\trl\\trainer\\ppo_trainer.py:1174: UserWarning: The average ratio of batch (23.54) exceeds threshold 10.00. Skipping batch.\n",
      "  warnings.warn(\n",
      "D:\\my_projects\\gpt2_sentiment\\venv\\Lib\\site-packages\\trl\\trainer\\ppo_trainer.py:1174: UserWarning: The average ratio of batch (12.23) exceeds threshold 10.00. Skipping batch.\n",
      "  warnings.warn(\n",
      "D:\\my_projects\\gpt2_sentiment\\venv\\Lib\\site-packages\\trl\\trainer\\ppo_trainer.py:1174: UserWarning: The average ratio of batch (21.10) exceeds threshold 10.00. Skipping batch.\n",
      "  warnings.warn(\n",
      "D:\\my_projects\\gpt2_sentiment\\venv\\Lib\\site-packages\\trl\\trainer\\ppo_trainer.py:1174: UserWarning: The average ratio of batch (21.24) exceeds threshold 10.00. Skipping batch.\n",
      "  warnings.warn(\n",
      "D:\\my_projects\\gpt2_sentiment\\venv\\Lib\\site-packages\\trl\\trainer\\ppo_trainer.py:1174: UserWarning: The average ratio of batch (23.80) exceeds threshold 10.00. Skipping batch.\n",
      "  warnings.warn(\n",
      "D:\\my_projects\\gpt2_sentiment\\venv\\Lib\\site-packages\\trl\\trainer\\ppo_trainer.py:1174: UserWarning: The average ratio of batch (15.90) exceeds threshold 10.00. Skipping batch.\n",
      "  warnings.warn(\n",
      "D:\\my_projects\\gpt2_sentiment\\venv\\Lib\\site-packages\\trl\\trainer\\ppo_trainer.py:1174: UserWarning: The average ratio of batch (14.46) exceeds threshold 10.00. Skipping batch.\n",
      "  warnings.warn(\n",
      "D:\\my_projects\\gpt2_sentiment\\venv\\Lib\\site-packages\\trl\\trainer\\ppo_trainer.py:1174: UserWarning: The average ratio of batch (13.39) exceeds threshold 10.00. Skipping batch.\n",
      "  warnings.warn(\n",
      "D:\\my_projects\\gpt2_sentiment\\venv\\Lib\\site-packages\\trl\\trainer\\ppo_trainer.py:1174: UserWarning: The average ratio of batch (17.30) exceeds threshold 10.00. Skipping batch.\n",
      "  warnings.warn(\n",
      "D:\\my_projects\\gpt2_sentiment\\venv\\Lib\\site-packages\\trl\\trainer\\ppo_trainer.py:1174: UserWarning: The average ratio of batch (25.08) exceeds threshold 10.00. Skipping batch.\n",
      "  warnings.warn(\n",
      "D:\\my_projects\\gpt2_sentiment\\venv\\Lib\\site-packages\\trl\\trainer\\ppo_trainer.py:1174: UserWarning: The average ratio of batch (13.98) exceeds threshold 10.00. Skipping batch.\n",
      "  warnings.warn(\n",
      "2it [03:45, 112.33s/it]D:\\my_projects\\gpt2_sentiment\\venv\\Lib\\site-packages\\trl\\trainer\\ppo_trainer.py:1174: UserWarning: The average ratio of batch (11.02) exceeds threshold 10.00. Skipping batch.\n",
      "  warnings.warn(\n",
      "D:\\my_projects\\gpt2_sentiment\\venv\\Lib\\site-packages\\trl\\trainer\\ppo_trainer.py:1174: UserWarning: The average ratio of batch (12.62) exceeds threshold 10.00. Skipping batch.\n",
      "  warnings.warn(\n",
      "D:\\my_projects\\gpt2_sentiment\\venv\\Lib\\site-packages\\trl\\trainer\\ppo_trainer.py:1174: UserWarning: The average ratio of batch (18.73) exceeds threshold 10.00. Skipping batch.\n",
      "  warnings.warn(\n",
      "D:\\my_projects\\gpt2_sentiment\\venv\\Lib\\site-packages\\trl\\trainer\\ppo_trainer.py:1174: UserWarning: The average ratio of batch (39.82) exceeds threshold 10.00. Skipping batch.\n",
      "  warnings.warn(\n",
      "D:\\my_projects\\gpt2_sentiment\\venv\\Lib\\site-packages\\trl\\trainer\\ppo_trainer.py:1174: UserWarning: The average ratio of batch (749.79) exceeds threshold 10.00. Skipping batch.\n",
      "  warnings.warn(\n",
      "D:\\my_projects\\gpt2_sentiment\\venv\\Lib\\site-packages\\trl\\trainer\\ppo_trainer.py:1174: UserWarning: The average ratio of batch (14.87) exceeds threshold 10.00. Skipping batch.\n",
      "  warnings.warn(\n",
      "D:\\my_projects\\gpt2_sentiment\\venv\\Lib\\site-packages\\trl\\trainer\\ppo_trainer.py:1174: UserWarning: The average ratio of batch (12018.31) exceeds threshold 10.00. Skipping batch.\n",
      "  warnings.warn(\n",
      "D:\\my_projects\\gpt2_sentiment\\venv\\Lib\\site-packages\\trl\\trainer\\ppo_trainer.py:1174: UserWarning: The average ratio of batch (34.03) exceeds threshold 10.00. Skipping batch.\n",
      "  warnings.warn(\n",
      "D:\\my_projects\\gpt2_sentiment\\venv\\Lib\\site-packages\\trl\\trainer\\ppo_trainer.py:1174: UserWarning: The average ratio of batch (29.51) exceeds threshold 10.00. Skipping batch.\n",
      "  warnings.warn(\n",
      "D:\\my_projects\\gpt2_sentiment\\venv\\Lib\\site-packages\\trl\\trainer\\ppo_trainer.py:1174: UserWarning: The average ratio of batch (36.38) exceeds threshold 10.00. Skipping batch.\n",
      "  warnings.warn(\n",
      "D:\\my_projects\\gpt2_sentiment\\venv\\Lib\\site-packages\\trl\\trainer\\ppo_trainer.py:1174: UserWarning: The average ratio of batch (18.76) exceeds threshold 10.00. Skipping batch.\n",
      "  warnings.warn(\n",
      "D:\\my_projects\\gpt2_sentiment\\venv\\Lib\\site-packages\\trl\\trainer\\ppo_trainer.py:1174: UserWarning: The average ratio of batch (29.66) exceeds threshold 10.00. Skipping batch.\n",
      "  warnings.warn(\n",
      "D:\\my_projects\\gpt2_sentiment\\venv\\Lib\\site-packages\\trl\\trainer\\ppo_trainer.py:1174: UserWarning: The average ratio of batch (7270.56) exceeds threshold 10.00. Skipping batch.\n",
      "  warnings.warn(\n",
      "D:\\my_projects\\gpt2_sentiment\\venv\\Lib\\site-packages\\trl\\trainer\\ppo_trainer.py:1174: UserWarning: The average ratio of batch (26.96) exceeds threshold 10.00. Skipping batch.\n",
      "  warnings.warn(\n",
      "D:\\my_projects\\gpt2_sentiment\\venv\\Lib\\site-packages\\trl\\trainer\\ppo_trainer.py:1174: UserWarning: The average ratio of batch (14.16) exceeds threshold 10.00. Skipping batch.\n",
      "  warnings.warn(\n",
      "D:\\my_projects\\gpt2_sentiment\\venv\\Lib\\site-packages\\trl\\trainer\\ppo_trainer.py:1174: UserWarning: The average ratio of batch (696.30) exceeds threshold 10.00. Skipping batch.\n",
      "  warnings.warn(\n",
      "D:\\my_projects\\gpt2_sentiment\\venv\\Lib\\site-packages\\trl\\trainer\\ppo_trainer.py:1174: UserWarning: The average ratio of batch (11.55) exceeds threshold 10.00. Skipping batch.\n",
      "  warnings.warn(\n",
      "D:\\my_projects\\gpt2_sentiment\\venv\\Lib\\site-packages\\trl\\trainer\\ppo_trainer.py:1174: UserWarning: The average ratio of batch (18.65) exceeds threshold 10.00. Skipping batch.\n",
      "  warnings.warn(\n",
      "D:\\my_projects\\gpt2_sentiment\\venv\\Lib\\site-packages\\trl\\trainer\\ppo_trainer.py:1174: UserWarning: The average ratio of batch (33.91) exceeds threshold 10.00. Skipping batch.\n",
      "  warnings.warn(\n",
      "D:\\my_projects\\gpt2_sentiment\\venv\\Lib\\site-packages\\trl\\trainer\\ppo_trainer.py:1174: UserWarning: The average ratio of batch (27.42) exceeds threshold 10.00. Skipping batch.\n",
      "  warnings.warn(\n",
      "D:\\my_projects\\gpt2_sentiment\\venv\\Lib\\site-packages\\trl\\trainer\\ppo_trainer.py:1174: UserWarning: The average ratio of batch (17.72) exceeds threshold 10.00. Skipping batch.\n",
      "  warnings.warn(\n",
      "D:\\my_projects\\gpt2_sentiment\\venv\\Lib\\site-packages\\trl\\trainer\\ppo_trainer.py:1174: UserWarning: The average ratio of batch (30.36) exceeds threshold 10.00. Skipping batch.\n",
      "  warnings.warn(\n",
      "D:\\my_projects\\gpt2_sentiment\\venv\\Lib\\site-packages\\trl\\trainer\\ppo_trainer.py:1174: UserWarning: The average ratio of batch (39.95) exceeds threshold 10.00. Skipping batch.\n",
      "  warnings.warn(\n",
      "D:\\my_projects\\gpt2_sentiment\\venv\\Lib\\site-packages\\trl\\trainer\\ppo_trainer.py:1174: UserWarning: The average ratio of batch (669.54) exceeds threshold 10.00. Skipping batch.\n",
      "  warnings.warn(\n",
      "D:\\my_projects\\gpt2_sentiment\\venv\\Lib\\site-packages\\trl\\trainer\\ppo_trainer.py:1174: UserWarning: The average ratio of batch (12.04) exceeds threshold 10.00. Skipping batch.\n",
      "  warnings.warn(\n",
      "D:\\my_projects\\gpt2_sentiment\\venv\\Lib\\site-packages\\trl\\trainer\\ppo_trainer.py:1174: UserWarning: The average ratio of batch (13.80) exceeds threshold 10.00. Skipping batch.\n",
      "  warnings.warn(\n",
      "D:\\my_projects\\gpt2_sentiment\\venv\\Lib\\site-packages\\trl\\trainer\\ppo_trainer.py:1174: UserWarning: The average ratio of batch (8115.70) exceeds threshold 10.00. Skipping batch.\n",
      "  warnings.warn(\n",
      "3it [05:40, 113.65s/it]D:\\my_projects\\gpt2_sentiment\\venv\\Lib\\site-packages\\trl\\trainer\\ppo_trainer.py:1174: UserWarning: The average ratio of batch (2406.03) exceeds threshold 10.00. Skipping batch.\n",
      "  warnings.warn(\n",
      "D:\\my_projects\\gpt2_sentiment\\venv\\Lib\\site-packages\\trl\\trainer\\ppo_trainer.py:1174: UserWarning: The average ratio of batch (123.14) exceeds threshold 10.00. Skipping batch.\n",
      "  warnings.warn(\n",
      "D:\\my_projects\\gpt2_sentiment\\venv\\Lib\\site-packages\\trl\\trainer\\ppo_trainer.py:1174: UserWarning: The average ratio of batch (100.74) exceeds threshold 10.00. Skipping batch.\n",
      "  warnings.warn(\n",
      "D:\\my_projects\\gpt2_sentiment\\venv\\Lib\\site-packages\\trl\\trainer\\ppo_trainer.py:1174: UserWarning: The average ratio of batch (12.58) exceeds threshold 10.00. Skipping batch.\n",
      "  warnings.warn(\n",
      "D:\\my_projects\\gpt2_sentiment\\venv\\Lib\\site-packages\\trl\\trainer\\ppo_trainer.py:1174: UserWarning: The average ratio of batch (328.03) exceeds threshold 10.00. Skipping batch.\n",
      "  warnings.warn(\n",
      "D:\\my_projects\\gpt2_sentiment\\venv\\Lib\\site-packages\\trl\\trainer\\ppo_trainer.py:1174: UserWarning: The average ratio of batch (10.17) exceeds threshold 10.00. Skipping batch.\n",
      "  warnings.warn(\n",
      "D:\\my_projects\\gpt2_sentiment\\venv\\Lib\\site-packages\\trl\\trainer\\ppo_trainer.py:1174: UserWarning: The average ratio of batch (48.57) exceeds threshold 10.00. Skipping batch.\n",
      "  warnings.warn(\n",
      "D:\\my_projects\\gpt2_sentiment\\venv\\Lib\\site-packages\\trl\\trainer\\ppo_trainer.py:1174: UserWarning: The average ratio of batch (11.00) exceeds threshold 10.00. Skipping batch.\n",
      "  warnings.warn(\n",
      "D:\\my_projects\\gpt2_sentiment\\venv\\Lib\\site-packages\\trl\\trainer\\ppo_trainer.py:1174: UserWarning: The average ratio of batch (14.41) exceeds threshold 10.00. Skipping batch.\n",
      "  warnings.warn(\n",
      "D:\\my_projects\\gpt2_sentiment\\venv\\Lib\\site-packages\\trl\\trainer\\ppo_trainer.py:1174: UserWarning: The average ratio of batch (10.59) exceeds threshold 10.00. Skipping batch.\n",
      "  warnings.warn(\n",
      "D:\\my_projects\\gpt2_sentiment\\venv\\Lib\\site-packages\\trl\\trainer\\ppo_trainer.py:1174: UserWarning: The average ratio of batch (10.66) exceeds threshold 10.00. Skipping batch.\n",
      "  warnings.warn(\n",
      "D:\\my_projects\\gpt2_sentiment\\venv\\Lib\\site-packages\\trl\\trainer\\ppo_trainer.py:1174: UserWarning: The average ratio of batch (2159.98) exceeds threshold 10.00. Skipping batch.\n",
      "  warnings.warn(\n",
      "D:\\my_projects\\gpt2_sentiment\\venv\\Lib\\site-packages\\trl\\trainer\\ppo_trainer.py:1174: UserWarning: The average ratio of batch (115.53) exceeds threshold 10.00. Skipping batch.\n",
      "  warnings.warn(\n",
      "D:\\my_projects\\gpt2_sentiment\\venv\\Lib\\site-packages\\trl\\trainer\\ppo_trainer.py:1174: UserWarning: The average ratio of batch (137.34) exceeds threshold 10.00. Skipping batch.\n",
      "  warnings.warn(\n",
      "D:\\my_projects\\gpt2_sentiment\\venv\\Lib\\site-packages\\trl\\trainer\\ppo_trainer.py:1174: UserWarning: The average ratio of batch (322.15) exceeds threshold 10.00. Skipping batch.\n",
      "  warnings.warn(\n",
      "D:\\my_projects\\gpt2_sentiment\\venv\\Lib\\site-packages\\trl\\trainer\\ppo_trainer.py:1174: UserWarning: The average ratio of batch (11.38) exceeds threshold 10.00. Skipping batch.\n",
      "  warnings.warn(\n",
      "D:\\my_projects\\gpt2_sentiment\\venv\\Lib\\site-packages\\trl\\trainer\\ppo_trainer.py:1174: UserWarning: The average ratio of batch (619.93) exceeds threshold 10.00. Skipping batch.\n",
      "  warnings.warn(\n",
      "D:\\my_projects\\gpt2_sentiment\\venv\\Lib\\site-packages\\trl\\trainer\\ppo_trainer.py:1174: UserWarning: The average ratio of batch (19.92) exceeds threshold 10.00. Skipping batch.\n",
      "  warnings.warn(\n",
      "D:\\my_projects\\gpt2_sentiment\\venv\\Lib\\site-packages\\trl\\trainer\\ppo_trainer.py:1174: UserWarning: The average ratio of batch (39.48) exceeds threshold 10.00. Skipping batch.\n",
      "  warnings.warn(\n",
      "D:\\my_projects\\gpt2_sentiment\\venv\\Lib\\site-packages\\trl\\trainer\\ppo_trainer.py:1174: UserWarning: The average ratio of batch (599.57) exceeds threshold 10.00. Skipping batch.\n",
      "  warnings.warn(\n",
      "D:\\my_projects\\gpt2_sentiment\\venv\\Lib\\site-packages\\trl\\trainer\\ppo_trainer.py:1174: UserWarning: The average ratio of batch (19.06) exceeds threshold 10.00. Skipping batch.\n",
      "  warnings.warn(\n",
      "D:\\my_projects\\gpt2_sentiment\\venv\\Lib\\site-packages\\trl\\trainer\\ppo_trainer.py:1174: UserWarning: The average ratio of batch (159.39) exceeds threshold 10.00. Skipping batch.\n",
      "  warnings.warn(\n",
      "D:\\my_projects\\gpt2_sentiment\\venv\\Lib\\site-packages\\trl\\trainer\\ppo_trainer.py:1174: UserWarning: The average ratio of batch (340.12) exceeds threshold 10.00. Skipping batch.\n",
      "  warnings.warn(\n",
      "D:\\my_projects\\gpt2_sentiment\\venv\\Lib\\site-packages\\trl\\trainer\\ppo_trainer.py:1174: UserWarning: The average ratio of batch (105.08) exceeds threshold 10.00. Skipping batch.\n",
      "  warnings.warn(\n",
      "D:\\my_projects\\gpt2_sentiment\\venv\\Lib\\site-packages\\trl\\trainer\\ppo_trainer.py:1174: UserWarning: The average ratio of batch (40.05) exceeds threshold 10.00. Skipping batch.\n",
      "  warnings.warn(\n",
      "D:\\my_projects\\gpt2_sentiment\\venv\\Lib\\site-packages\\trl\\trainer\\ppo_trainer.py:1174: UserWarning: The average ratio of batch (10.06) exceeds threshold 10.00. Skipping batch.\n",
      "  warnings.warn(\n",
      "D:\\my_projects\\gpt2_sentiment\\venv\\Lib\\site-packages\\trl\\trainer\\ppo_trainer.py:1174: UserWarning: The average ratio of batch (10.54) exceeds threshold 10.00. Skipping batch.\n",
      "  warnings.warn(\n",
      "D:\\my_projects\\gpt2_sentiment\\venv\\Lib\\site-packages\\trl\\trainer\\ppo_trainer.py:1174: UserWarning: The average ratio of batch (22.01) exceeds threshold 10.00. Skipping batch.\n",
      "  warnings.warn(\n",
      "D:\\my_projects\\gpt2_sentiment\\venv\\Lib\\site-packages\\trl\\trainer\\ppo_trainer.py:1174: UserWarning: The average ratio of batch (1948.60) exceeds threshold 10.00. Skipping batch.\n",
      "  warnings.warn(\n",
      "D:\\my_projects\\gpt2_sentiment\\venv\\Lib\\site-packages\\trl\\trainer\\ppo_trainer.py:1174: UserWarning: The average ratio of batch (10.34) exceeds threshold 10.00. Skipping batch.\n",
      "  warnings.warn(\n",
      "4it [07:37, 115.01s/it]D:\\my_projects\\gpt2_sentiment\\venv\\Lib\\site-packages\\trl\\trainer\\ppo_trainer.py:1174: UserWarning: The average ratio of batch (17.68) exceeds threshold 10.00. Skipping batch.\n",
      "  warnings.warn(\n",
      "D:\\my_projects\\gpt2_sentiment\\venv\\Lib\\site-packages\\trl\\trainer\\ppo_trainer.py:1174: UserWarning: The average ratio of batch (14261.43) exceeds threshold 10.00. Skipping batch.\n",
      "  warnings.warn(\n",
      "D:\\my_projects\\gpt2_sentiment\\venv\\Lib\\site-packages\\trl\\trainer\\ppo_trainer.py:1174: UserWarning: The average ratio of batch (35.92) exceeds threshold 10.00. Skipping batch.\n",
      "  warnings.warn(\n",
      "D:\\my_projects\\gpt2_sentiment\\venv\\Lib\\site-packages\\trl\\trainer\\ppo_trainer.py:1174: UserWarning: The average ratio of batch (12.37) exceeds threshold 10.00. Skipping batch.\n",
      "  warnings.warn(\n",
      "D:\\my_projects\\gpt2_sentiment\\venv\\Lib\\site-packages\\trl\\trainer\\ppo_trainer.py:1174: UserWarning: The average ratio of batch (14.39) exceeds threshold 10.00. Skipping batch.\n",
      "  warnings.warn(\n",
      "D:\\my_projects\\gpt2_sentiment\\venv\\Lib\\site-packages\\trl\\trainer\\ppo_trainer.py:1174: UserWarning: The average ratio of batch (15.04) exceeds threshold 10.00. Skipping batch.\n",
      "  warnings.warn(\n",
      "D:\\my_projects\\gpt2_sentiment\\venv\\Lib\\site-packages\\trl\\trainer\\ppo_trainer.py:1174: UserWarning: The average ratio of batch (5489.68) exceeds threshold 10.00. Skipping batch.\n",
      "  warnings.warn(\n",
      "D:\\my_projects\\gpt2_sentiment\\venv\\Lib\\site-packages\\trl\\trainer\\ppo_trainer.py:1174: UserWarning: The average ratio of batch (12.19) exceeds threshold 10.00. Skipping batch.\n",
      "  warnings.warn(\n",
      "D:\\my_projects\\gpt2_sentiment\\venv\\Lib\\site-packages\\trl\\trainer\\ppo_trainer.py:1174: UserWarning: The average ratio of batch (12.43) exceeds threshold 10.00. Skipping batch.\n",
      "  warnings.warn(\n",
      "D:\\my_projects\\gpt2_sentiment\\venv\\Lib\\site-packages\\trl\\trainer\\ppo_trainer.py:1174: UserWarning: The average ratio of batch (27.48) exceeds threshold 10.00. Skipping batch.\n",
      "  warnings.warn(\n",
      "D:\\my_projects\\gpt2_sentiment\\venv\\Lib\\site-packages\\trl\\trainer\\ppo_trainer.py:1174: UserWarning: The average ratio of batch (15.34) exceeds threshold 10.00. Skipping batch.\n",
      "  warnings.warn(\n",
      "D:\\my_projects\\gpt2_sentiment\\venv\\Lib\\site-packages\\trl\\trainer\\ppo_trainer.py:1174: UserWarning: The average ratio of batch (13.40) exceeds threshold 10.00. Skipping batch.\n",
      "  warnings.warn(\n",
      "D:\\my_projects\\gpt2_sentiment\\venv\\Lib\\site-packages\\trl\\trainer\\ppo_trainer.py:1174: UserWarning: The average ratio of batch (16.25) exceeds threshold 10.00. Skipping batch.\n",
      "  warnings.warn(\n",
      "D:\\my_projects\\gpt2_sentiment\\venv\\Lib\\site-packages\\trl\\trainer\\ppo_trainer.py:1174: UserWarning: The average ratio of batch (12.56) exceeds threshold 10.00. Skipping batch.\n",
      "  warnings.warn(\n",
      "D:\\my_projects\\gpt2_sentiment\\venv\\Lib\\site-packages\\trl\\trainer\\ppo_trainer.py:1174: UserWarning: The average ratio of batch (18.51) exceeds threshold 10.00. Skipping batch.\n",
      "  warnings.warn(\n",
      "D:\\my_projects\\gpt2_sentiment\\venv\\Lib\\site-packages\\trl\\trainer\\ppo_trainer.py:1174: UserWarning: The average ratio of batch (95.07) exceeds threshold 10.00. Skipping batch.\n",
      "  warnings.warn(\n",
      "D:\\my_projects\\gpt2_sentiment\\venv\\Lib\\site-packages\\trl\\trainer\\ppo_trainer.py:1174: UserWarning: The average ratio of batch (13.59) exceeds threshold 10.00. Skipping batch.\n",
      "  warnings.warn(\n",
      "D:\\my_projects\\gpt2_sentiment\\venv\\Lib\\site-packages\\trl\\trainer\\ppo_trainer.py:1174: UserWarning: The average ratio of batch (10.46) exceeds threshold 10.00. Skipping batch.\n",
      "  warnings.warn(\n",
      "D:\\my_projects\\gpt2_sentiment\\venv\\Lib\\site-packages\\trl\\trainer\\ppo_trainer.py:1174: UserWarning: The average ratio of batch (41.71) exceeds threshold 10.00. Skipping batch.\n",
      "  warnings.warn(\n",
      "D:\\my_projects\\gpt2_sentiment\\venv\\Lib\\site-packages\\trl\\trainer\\ppo_trainer.py:1174: UserWarning: The average ratio of batch (46.19) exceeds threshold 10.00. Skipping batch.\n",
      "  warnings.warn(\n",
      "D:\\my_projects\\gpt2_sentiment\\venv\\Lib\\site-packages\\trl\\trainer\\ppo_trainer.py:1174: UserWarning: The average ratio of batch (13.66) exceeds threshold 10.00. Skipping batch.\n",
      "  warnings.warn(\n",
      "5it [09:29, 114.06s/it]D:\\my_projects\\gpt2_sentiment\\venv\\Lib\\site-packages\\trl\\trainer\\ppo_trainer.py:1174: UserWarning: The average ratio of batch (36.51) exceeds threshold 10.00. Skipping batch.\n",
      "  warnings.warn(\n",
      "D:\\my_projects\\gpt2_sentiment\\venv\\Lib\\site-packages\\trl\\trainer\\ppo_trainer.py:1174: UserWarning: The average ratio of batch (11.87) exceeds threshold 10.00. Skipping batch.\n",
      "  warnings.warn(\n",
      "D:\\my_projects\\gpt2_sentiment\\venv\\Lib\\site-packages\\trl\\trainer\\ppo_trainer.py:1174: UserWarning: The average ratio of batch (14.67) exceeds threshold 10.00. Skipping batch.\n",
      "  warnings.warn(\n",
      "D:\\my_projects\\gpt2_sentiment\\venv\\Lib\\site-packages\\trl\\trainer\\ppo_trainer.py:1174: UserWarning: The average ratio of batch (11.61) exceeds threshold 10.00. Skipping batch.\n",
      "  warnings.warn(\n",
      "D:\\my_projects\\gpt2_sentiment\\venv\\Lib\\site-packages\\trl\\trainer\\ppo_trainer.py:1174: UserWarning: The average ratio of batch (10.88) exceeds threshold 10.00. Skipping batch.\n",
      "  warnings.warn(\n",
      "D:\\my_projects\\gpt2_sentiment\\venv\\Lib\\site-packages\\trl\\trainer\\ppo_trainer.py:1174: UserWarning: The average ratio of batch (6310.44) exceeds threshold 10.00. Skipping batch.\n",
      "  warnings.warn(\n",
      "D:\\my_projects\\gpt2_sentiment\\venv\\Lib\\site-packages\\trl\\trainer\\ppo_trainer.py:1174: UserWarning: The average ratio of batch (17.16) exceeds threshold 10.00. Skipping batch.\n",
      "  warnings.warn(\n",
      "D:\\my_projects\\gpt2_sentiment\\venv\\Lib\\site-packages\\trl\\trainer\\ppo_trainer.py:1174: UserWarning: The average ratio of batch (232.73) exceeds threshold 10.00. Skipping batch.\n",
      "  warnings.warn(\n",
      "D:\\my_projects\\gpt2_sentiment\\venv\\Lib\\site-packages\\trl\\trainer\\ppo_trainer.py:1174: UserWarning: The average ratio of batch (15.89) exceeds threshold 10.00. Skipping batch.\n",
      "  warnings.warn(\n",
      "D:\\my_projects\\gpt2_sentiment\\venv\\Lib\\site-packages\\trl\\trainer\\ppo_trainer.py:1174: UserWarning: The average ratio of batch (426.72) exceeds threshold 10.00. Skipping batch.\n",
      "  warnings.warn(\n",
      "D:\\my_projects\\gpt2_sentiment\\venv\\Lib\\site-packages\\trl\\trainer\\ppo_trainer.py:1174: UserWarning: The average ratio of batch (34.17) exceeds threshold 10.00. Skipping batch.\n",
      "  warnings.warn(\n",
      "D:\\my_projects\\gpt2_sentiment\\venv\\Lib\\site-packages\\trl\\trainer\\ppo_trainer.py:1174: UserWarning: The average ratio of batch (84.41) exceeds threshold 10.00. Skipping batch.\n",
      "  warnings.warn(\n",
      "D:\\my_projects\\gpt2_sentiment\\venv\\Lib\\site-packages\\trl\\trainer\\ppo_trainer.py:1174: UserWarning: The average ratio of batch (70.94) exceeds threshold 10.00. Skipping batch.\n",
      "  warnings.warn(\n",
      "D:\\my_projects\\gpt2_sentiment\\venv\\Lib\\site-packages\\trl\\trainer\\ppo_trainer.py:1174: UserWarning: The average ratio of batch (14.37) exceeds threshold 10.00. Skipping batch.\n",
      "  warnings.warn(\n",
      "D:\\my_projects\\gpt2_sentiment\\venv\\Lib\\site-packages\\trl\\trainer\\ppo_trainer.py:1174: UserWarning: The average ratio of batch (267.39) exceeds threshold 10.00. Skipping batch.\n",
      "  warnings.warn(\n",
      "D:\\my_projects\\gpt2_sentiment\\venv\\Lib\\site-packages\\trl\\trainer\\ppo_trainer.py:1174: UserWarning: The average ratio of batch (14.40) exceeds threshold 10.00. Skipping batch.\n",
      "  warnings.warn(\n",
      "D:\\my_projects\\gpt2_sentiment\\venv\\Lib\\site-packages\\trl\\trainer\\ppo_trainer.py:1174: UserWarning: The average ratio of batch (30.52) exceeds threshold 10.00. Skipping batch.\n",
      "  warnings.warn(\n",
      "D:\\my_projects\\gpt2_sentiment\\venv\\Lib\\site-packages\\trl\\trainer\\ppo_trainer.py:1174: UserWarning: The average ratio of batch (13.69) exceeds threshold 10.00. Skipping batch.\n",
      "  warnings.warn(\n",
      "D:\\my_projects\\gpt2_sentiment\\venv\\Lib\\site-packages\\trl\\trainer\\ppo_trainer.py:1174: UserWarning: The average ratio of batch (30.34) exceeds threshold 10.00. Skipping batch.\n",
      "  warnings.warn(\n",
      "D:\\my_projects\\gpt2_sentiment\\venv\\Lib\\site-packages\\trl\\trainer\\ppo_trainer.py:1174: UserWarning: The average ratio of batch (3971.63) exceeds threshold 10.00. Skipping batch.\n",
      "  warnings.warn(\n",
      "D:\\my_projects\\gpt2_sentiment\\venv\\Lib\\site-packages\\trl\\trainer\\ppo_trainer.py:1174: UserWarning: The average ratio of batch (17.46) exceeds threshold 10.00. Skipping batch.\n",
      "  warnings.warn(\n",
      "D:\\my_projects\\gpt2_sentiment\\venv\\Lib\\site-packages\\trl\\trainer\\ppo_trainer.py:1174: UserWarning: The average ratio of batch (430.01) exceeds threshold 10.00. Skipping batch.\n",
      "  warnings.warn(\n",
      "D:\\my_projects\\gpt2_sentiment\\venv\\Lib\\site-packages\\trl\\trainer\\ppo_trainer.py:1174: UserWarning: The average ratio of batch (23.45) exceeds threshold 10.00. Skipping batch.\n",
      "  warnings.warn(\n",
      "D:\\my_projects\\gpt2_sentiment\\venv\\Lib\\site-packages\\trl\\trainer\\ppo_trainer.py:1174: UserWarning: The average ratio of batch (19.69) exceeds threshold 10.00. Skipping batch.\n",
      "  warnings.warn(\n",
      "D:\\my_projects\\gpt2_sentiment\\venv\\Lib\\site-packages\\trl\\trainer\\ppo_trainer.py:1174: UserWarning: The average ratio of batch (57.60) exceeds threshold 10.00. Skipping batch.\n",
      "  warnings.warn(\n",
      "D:\\my_projects\\gpt2_sentiment\\venv\\Lib\\site-packages\\trl\\trainer\\ppo_trainer.py:1174: UserWarning: The average ratio of batch (57.54) exceeds threshold 10.00. Skipping batch.\n",
      "  warnings.warn(\n",
      "D:\\my_projects\\gpt2_sentiment\\venv\\Lib\\site-packages\\trl\\trainer\\ppo_trainer.py:1174: UserWarning: The average ratio of batch (14.88) exceeds threshold 10.00. Skipping batch.\n",
      "  warnings.warn(\n",
      "D:\\my_projects\\gpt2_sentiment\\venv\\Lib\\site-packages\\trl\\trainer\\ppo_trainer.py:1174: UserWarning: The average ratio of batch (17.52) exceeds threshold 10.00. Skipping batch.\n",
      "  warnings.warn(\n",
      "D:\\my_projects\\gpt2_sentiment\\venv\\Lib\\site-packages\\trl\\trainer\\ppo_trainer.py:1174: UserWarning: The average ratio of batch (24.32) exceeds threshold 10.00. Skipping batch.\n",
      "  warnings.warn(\n",
      "D:\\my_projects\\gpt2_sentiment\\venv\\Lib\\site-packages\\trl\\trainer\\ppo_trainer.py:1174: UserWarning: The average ratio of batch (432.16) exceeds threshold 10.00. Skipping batch.\n",
      "  warnings.warn(\n",
      "D:\\my_projects\\gpt2_sentiment\\venv\\Lib\\site-packages\\trl\\trainer\\ppo_trainer.py:1174: UserWarning: The average ratio of batch (273.42) exceeds threshold 10.00. Skipping batch.\n",
      "  warnings.warn(\n",
      "D:\\my_projects\\gpt2_sentiment\\venv\\Lib\\site-packages\\trl\\trainer\\ppo_trainer.py:1174: UserWarning: The average ratio of batch (20.12) exceeds threshold 10.00. Skipping batch.\n",
      "  warnings.warn(\n",
      "D:\\my_projects\\gpt2_sentiment\\venv\\Lib\\site-packages\\trl\\trainer\\ppo_trainer.py:1174: UserWarning: The average ratio of batch (23.36) exceeds threshold 10.00. Skipping batch.\n",
      "  warnings.warn(\n",
      "D:\\my_projects\\gpt2_sentiment\\venv\\Lib\\site-packages\\trl\\trainer\\ppo_trainer.py:1174: UserWarning: The average ratio of batch (38.36) exceeds threshold 10.00. Skipping batch.\n",
      "  warnings.warn(\n",
      "D:\\my_projects\\gpt2_sentiment\\venv\\Lib\\site-packages\\trl\\trainer\\ppo_trainer.py:1174: UserWarning: The average ratio of batch (69.74) exceeds threshold 10.00. Skipping batch.\n",
      "  warnings.warn(\n",
      "D:\\my_projects\\gpt2_sentiment\\venv\\Lib\\site-packages\\trl\\trainer\\ppo_trainer.py:1174: UserWarning: The average ratio of batch (15.40) exceeds threshold 10.00. Skipping batch.\n",
      "  warnings.warn(\n",
      "D:\\my_projects\\gpt2_sentiment\\venv\\Lib\\site-packages\\trl\\trainer\\ppo_trainer.py:1174: UserWarning: The average ratio of batch (12.67) exceeds threshold 10.00. Skipping batch.\n",
      "  warnings.warn(\n",
      "D:\\my_projects\\gpt2_sentiment\\venv\\Lib\\site-packages\\trl\\trainer\\ppo_trainer.py:1174: UserWarning: The average ratio of batch (10.08) exceeds threshold 10.00. Skipping batch.\n",
      "  warnings.warn(\n",
      "D:\\my_projects\\gpt2_sentiment\\venv\\Lib\\site-packages\\trl\\trainer\\ppo_trainer.py:1174: UserWarning: The average ratio of batch (4075.72) exceeds threshold 10.00. Skipping batch.\n",
      "  warnings.warn(\n",
      "D:\\my_projects\\gpt2_sentiment\\venv\\Lib\\site-packages\\trl\\trainer\\ppo_trainer.py:1174: UserWarning: The average ratio of batch (10.30) exceeds threshold 10.00. Skipping batch.\n",
      "  warnings.warn(\n",
      "6it [11:23, 114.00s/it]D:\\my_projects\\gpt2_sentiment\\venv\\Lib\\site-packages\\trl\\trainer\\ppo_trainer.py:1174: UserWarning: The average ratio of batch (17.69) exceeds threshold 10.00. Skipping batch.\n",
      "  warnings.warn(\n",
      "D:\\my_projects\\gpt2_sentiment\\venv\\Lib\\site-packages\\trl\\trainer\\ppo_trainer.py:1174: UserWarning: The average ratio of batch (26.00) exceeds threshold 10.00. Skipping batch.\n",
      "  warnings.warn(\n",
      "D:\\my_projects\\gpt2_sentiment\\venv\\Lib\\site-packages\\trl\\trainer\\ppo_trainer.py:1174: UserWarning: The average ratio of batch (54.46) exceeds threshold 10.00. Skipping batch.\n",
      "  warnings.warn(\n",
      "D:\\my_projects\\gpt2_sentiment\\venv\\Lib\\site-packages\\trl\\trainer\\ppo_trainer.py:1174: UserWarning: The average ratio of batch (302.62) exceeds threshold 10.00. Skipping batch.\n",
      "  warnings.warn(\n",
      "D:\\my_projects\\gpt2_sentiment\\venv\\Lib\\site-packages\\trl\\trainer\\ppo_trainer.py:1174: UserWarning: The average ratio of batch (34.33) exceeds threshold 10.00. Skipping batch.\n",
      "  warnings.warn(\n",
      "D:\\my_projects\\gpt2_sentiment\\venv\\Lib\\site-packages\\trl\\trainer\\ppo_trainer.py:1174: UserWarning: The average ratio of batch (24.81) exceeds threshold 10.00. Skipping batch.\n",
      "  warnings.warn(\n",
      "D:\\my_projects\\gpt2_sentiment\\venv\\Lib\\site-packages\\trl\\trainer\\ppo_trainer.py:1174: UserWarning: The average ratio of batch (21.11) exceeds threshold 10.00. Skipping batch.\n",
      "  warnings.warn(\n",
      "D:\\my_projects\\gpt2_sentiment\\venv\\Lib\\site-packages\\trl\\trainer\\ppo_trainer.py:1174: UserWarning: The average ratio of batch (15.96) exceeds threshold 10.00. Skipping batch.\n",
      "  warnings.warn(\n",
      "D:\\my_projects\\gpt2_sentiment\\venv\\Lib\\site-packages\\trl\\trainer\\ppo_trainer.py:1174: UserWarning: The average ratio of batch (11.83) exceeds threshold 10.00. Skipping batch.\n",
      "  warnings.warn(\n",
      "D:\\my_projects\\gpt2_sentiment\\venv\\Lib\\site-packages\\trl\\trainer\\ppo_trainer.py:1174: UserWarning: The average ratio of batch (11.80) exceeds threshold 10.00. Skipping batch.\n",
      "  warnings.warn(\n",
      "D:\\my_projects\\gpt2_sentiment\\venv\\Lib\\site-packages\\trl\\trainer\\ppo_trainer.py:1174: UserWarning: The average ratio of batch (17.67) exceeds threshold 10.00. Skipping batch.\n",
      "  warnings.warn(\n",
      "D:\\my_projects\\gpt2_sentiment\\venv\\Lib\\site-packages\\trl\\trainer\\ppo_trainer.py:1174: UserWarning: The average ratio of batch (11.90) exceeds threshold 10.00. Skipping batch.\n",
      "  warnings.warn(\n",
      "D:\\my_projects\\gpt2_sentiment\\venv\\Lib\\site-packages\\trl\\trainer\\ppo_trainer.py:1174: UserWarning: The average ratio of batch (82.03) exceeds threshold 10.00. Skipping batch.\n",
      "  warnings.warn(\n",
      "D:\\my_projects\\gpt2_sentiment\\venv\\Lib\\site-packages\\trl\\trainer\\ppo_trainer.py:1174: UserWarning: The average ratio of batch (316.33) exceeds threshold 10.00. Skipping batch.\n",
      "  warnings.warn(\n",
      "D:\\my_projects\\gpt2_sentiment\\venv\\Lib\\site-packages\\trl\\trainer\\ppo_trainer.py:1174: UserWarning: The average ratio of batch (138.94) exceeds threshold 10.00. Skipping batch.\n",
      "  warnings.warn(\n",
      "D:\\my_projects\\gpt2_sentiment\\venv\\Lib\\site-packages\\trl\\trainer\\ppo_trainer.py:1174: UserWarning: The average ratio of batch (12.66) exceeds threshold 10.00. Skipping batch.\n",
      "  warnings.warn(\n",
      "D:\\my_projects\\gpt2_sentiment\\venv\\Lib\\site-packages\\trl\\trainer\\ppo_trainer.py:1174: UserWarning: The average ratio of batch (21.35) exceeds threshold 10.00. Skipping batch.\n",
      "  warnings.warn(\n",
      "D:\\my_projects\\gpt2_sentiment\\venv\\Lib\\site-packages\\trl\\trainer\\ppo_trainer.py:1174: UserWarning: The average ratio of batch (31.09) exceeds threshold 10.00. Skipping batch.\n",
      "  warnings.warn(\n",
      "D:\\my_projects\\gpt2_sentiment\\venv\\Lib\\site-packages\\trl\\trainer\\ppo_trainer.py:1174: UserWarning: The average ratio of batch (32.06) exceeds threshold 10.00. Skipping batch.\n",
      "  warnings.warn(\n",
      "D:\\my_projects\\gpt2_sentiment\\venv\\Lib\\site-packages\\trl\\trainer\\ppo_trainer.py:1174: UserWarning: The average ratio of batch (20.32) exceeds threshold 10.00. Skipping batch.\n",
      "  warnings.warn(\n",
      "D:\\my_projects\\gpt2_sentiment\\venv\\Lib\\site-packages\\trl\\trainer\\ppo_trainer.py:1174: UserWarning: The average ratio of batch (19.46) exceeds threshold 10.00. Skipping batch.\n",
      "  warnings.warn(\n",
      "D:\\my_projects\\gpt2_sentiment\\venv\\Lib\\site-packages\\trl\\trainer\\ppo_trainer.py:1174: UserWarning: The average ratio of batch (15.64) exceeds threshold 10.00. Skipping batch.\n",
      "  warnings.warn(\n",
      "D:\\my_projects\\gpt2_sentiment\\venv\\Lib\\site-packages\\trl\\trainer\\ppo_trainer.py:1174: UserWarning: The average ratio of batch (12.07) exceeds threshold 10.00. Skipping batch.\n",
      "  warnings.warn(\n",
      "D:\\my_projects\\gpt2_sentiment\\venv\\Lib\\site-packages\\trl\\trainer\\ppo_trainer.py:1174: UserWarning: The average ratio of batch (20.02) exceeds threshold 10.00. Skipping batch.\n",
      "  warnings.warn(\n",
      "D:\\my_projects\\gpt2_sentiment\\venv\\Lib\\site-packages\\trl\\trainer\\ppo_trainer.py:1174: UserWarning: The average ratio of batch (31.17) exceeds threshold 10.00. Skipping batch.\n",
      "  warnings.warn(\n",
      "D:\\my_projects\\gpt2_sentiment\\venv\\Lib\\site-packages\\trl\\trainer\\ppo_trainer.py:1174: UserWarning: The average ratio of batch (317.46) exceeds threshold 10.00. Skipping batch.\n",
      "  warnings.warn(\n",
      "D:\\my_projects\\gpt2_sentiment\\venv\\Lib\\site-packages\\trl\\trainer\\ppo_trainer.py:1174: UserWarning: The average ratio of batch (74.61) exceeds threshold 10.00. Skipping batch.\n",
      "  warnings.warn(\n",
      "D:\\my_projects\\gpt2_sentiment\\venv\\Lib\\site-packages\\trl\\trainer\\ppo_trainer.py:1174: UserWarning: The average ratio of batch (125.28) exceeds threshold 10.00. Skipping batch.\n",
      "  warnings.warn(\n",
      "D:\\my_projects\\gpt2_sentiment\\venv\\Lib\\site-packages\\trl\\trainer\\ppo_trainer.py:1174: UserWarning: The average ratio of batch (20.38) exceeds threshold 10.00. Skipping batch.\n",
      "  warnings.warn(\n",
      "D:\\my_projects\\gpt2_sentiment\\venv\\Lib\\site-packages\\trl\\trainer\\ppo_trainer.py:1174: UserWarning: The average ratio of batch (12.77) exceeds threshold 10.00. Skipping batch.\n",
      "  warnings.warn(\n",
      "D:\\my_projects\\gpt2_sentiment\\venv\\Lib\\site-packages\\trl\\trainer\\ppo_trainer.py:1174: UserWarning: The average ratio of batch (30.95) exceeds threshold 10.00. Skipping batch.\n",
      "  warnings.warn(\n",
      "D:\\my_projects\\gpt2_sentiment\\venv\\Lib\\site-packages\\trl\\trainer\\ppo_trainer.py:1174: UserWarning: The average ratio of batch (21.19) exceeds threshold 10.00. Skipping batch.\n",
      "  warnings.warn(\n",
      "D:\\my_projects\\gpt2_sentiment\\venv\\Lib\\site-packages\\trl\\trainer\\ppo_trainer.py:1174: UserWarning: The average ratio of batch (12.61) exceeds threshold 10.00. Skipping batch.\n",
      "  warnings.warn(\n",
      "D:\\my_projects\\gpt2_sentiment\\venv\\Lib\\site-packages\\trl\\trainer\\ppo_trainer.py:1174: UserWarning: The average ratio of batch (10.67) exceeds threshold 10.00. Skipping batch.\n",
      "  warnings.warn(\n",
      "D:\\my_projects\\gpt2_sentiment\\venv\\Lib\\site-packages\\trl\\trainer\\ppo_trainer.py:1174: UserWarning: The average ratio of batch (12.74) exceeds threshold 10.00. Skipping batch.\n",
      "  warnings.warn(\n",
      "7it [13:17, 113.99s/it]D:\\my_projects\\gpt2_sentiment\\venv\\Lib\\site-packages\\trl\\trainer\\ppo_trainer.py:1174: UserWarning: The average ratio of batch (110.40) exceeds threshold 10.00. Skipping batch.\n",
      "  warnings.warn(\n",
      "D:\\my_projects\\gpt2_sentiment\\venv\\Lib\\site-packages\\trl\\trainer\\ppo_trainer.py:1174: UserWarning: The average ratio of batch (75.23) exceeds threshold 10.00. Skipping batch.\n",
      "  warnings.warn(\n",
      "D:\\my_projects\\gpt2_sentiment\\venv\\Lib\\site-packages\\trl\\trainer\\ppo_trainer.py:1174: UserWarning: The average ratio of batch (58.85) exceeds threshold 10.00. Skipping batch.\n",
      "  warnings.warn(\n",
      "D:\\my_projects\\gpt2_sentiment\\venv\\Lib\\site-packages\\trl\\trainer\\ppo_trainer.py:1174: UserWarning: The average ratio of batch (16.46) exceeds threshold 10.00. Skipping batch.\n",
      "  warnings.warn(\n",
      "D:\\my_projects\\gpt2_sentiment\\venv\\Lib\\site-packages\\trl\\trainer\\ppo_trainer.py:1174: UserWarning: The average ratio of batch (154.43) exceeds threshold 10.00. Skipping batch.\n",
      "  warnings.warn(\n",
      "D:\\my_projects\\gpt2_sentiment\\venv\\Lib\\site-packages\\trl\\trainer\\ppo_trainer.py:1174: UserWarning: The average ratio of batch (27.29) exceeds threshold 10.00. Skipping batch.\n",
      "  warnings.warn(\n",
      "D:\\my_projects\\gpt2_sentiment\\venv\\Lib\\site-packages\\trl\\trainer\\ppo_trainer.py:1174: UserWarning: The average ratio of batch (12.13) exceeds threshold 10.00. Skipping batch.\n",
      "  warnings.warn(\n",
      "D:\\my_projects\\gpt2_sentiment\\venv\\Lib\\site-packages\\trl\\trainer\\ppo_trainer.py:1174: UserWarning: The average ratio of batch (26.54) exceeds threshold 10.00. Skipping batch.\n",
      "  warnings.warn(\n",
      "D:\\my_projects\\gpt2_sentiment\\venv\\Lib\\site-packages\\trl\\trainer\\ppo_trainer.py:1174: UserWarning: The average ratio of batch (63.49) exceeds threshold 10.00. Skipping batch.\n",
      "  warnings.warn(\n",
      "D:\\my_projects\\gpt2_sentiment\\venv\\Lib\\site-packages\\trl\\trainer\\ppo_trainer.py:1174: UserWarning: The average ratio of batch (16.11) exceeds threshold 10.00. Skipping batch.\n",
      "  warnings.warn(\n",
      "D:\\my_projects\\gpt2_sentiment\\venv\\Lib\\site-packages\\trl\\trainer\\ppo_trainer.py:1174: UserWarning: The average ratio of batch (158.03) exceeds threshold 10.00. Skipping batch.\n",
      "  warnings.warn(\n",
      "D:\\my_projects\\gpt2_sentiment\\venv\\Lib\\site-packages\\trl\\trainer\\ppo_trainer.py:1174: UserWarning: The average ratio of batch (13.17) exceeds threshold 10.00. Skipping batch.\n",
      "  warnings.warn(\n",
      "D:\\my_projects\\gpt2_sentiment\\venv\\Lib\\site-packages\\trl\\trainer\\ppo_trainer.py:1174: UserWarning: The average ratio of batch (111.87) exceeds threshold 10.00. Skipping batch.\n",
      "  warnings.warn(\n",
      "D:\\my_projects\\gpt2_sentiment\\venv\\Lib\\site-packages\\trl\\trainer\\ppo_trainer.py:1174: UserWarning: The average ratio of batch (15.32) exceeds threshold 10.00. Skipping batch.\n",
      "  warnings.warn(\n",
      "D:\\my_projects\\gpt2_sentiment\\venv\\Lib\\site-packages\\trl\\trainer\\ppo_trainer.py:1174: UserWarning: The average ratio of batch (69.17) exceeds threshold 10.00. Skipping batch.\n",
      "  warnings.warn(\n",
      "D:\\my_projects\\gpt2_sentiment\\venv\\Lib\\site-packages\\trl\\trainer\\ppo_trainer.py:1174: UserWarning: The average ratio of batch (34.89) exceeds threshold 10.00. Skipping batch.\n",
      "  warnings.warn(\n",
      "D:\\my_projects\\gpt2_sentiment\\venv\\Lib\\site-packages\\trl\\trainer\\ppo_trainer.py:1174: UserWarning: The average ratio of batch (63.15) exceeds threshold 10.00. Skipping batch.\n",
      "  warnings.warn(\n",
      "D:\\my_projects\\gpt2_sentiment\\venv\\Lib\\site-packages\\trl\\trainer\\ppo_trainer.py:1174: UserWarning: The average ratio of batch (165.12) exceeds threshold 10.00. Skipping batch.\n",
      "  warnings.warn(\n",
      "D:\\my_projects\\gpt2_sentiment\\venv\\Lib\\site-packages\\trl\\trainer\\ppo_trainer.py:1174: UserWarning: The average ratio of batch (109.74) exceeds threshold 10.00. Skipping batch.\n",
      "  warnings.warn(\n",
      "D:\\my_projects\\gpt2_sentiment\\venv\\Lib\\site-packages\\trl\\trainer\\ppo_trainer.py:1174: UserWarning: The average ratio of batch (69.81) exceeds threshold 10.00. Skipping batch.\n",
      "  warnings.warn(\n",
      "D:\\my_projects\\gpt2_sentiment\\venv\\Lib\\site-packages\\trl\\trainer\\ppo_trainer.py:1174: UserWarning: The average ratio of batch (15.17) exceeds threshold 10.00. Skipping batch.\n",
      "  warnings.warn(\n",
      "D:\\my_projects\\gpt2_sentiment\\venv\\Lib\\site-packages\\trl\\trainer\\ppo_trainer.py:1174: UserWarning: The average ratio of batch (29.00) exceeds threshold 10.00. Skipping batch.\n",
      "  warnings.warn(\n",
      "D:\\my_projects\\gpt2_sentiment\\venv\\Lib\\site-packages\\trl\\trainer\\ppo_trainer.py:1174: UserWarning: The average ratio of batch (34.44) exceeds threshold 10.00. Skipping batch.\n",
      "  warnings.warn(\n",
      "D:\\my_projects\\gpt2_sentiment\\venv\\Lib\\site-packages\\trl\\trainer\\ppo_trainer.py:1174: UserWarning: The average ratio of batch (16.67) exceeds threshold 10.00. Skipping batch.\n",
      "  warnings.warn(\n",
      "D:\\my_projects\\gpt2_sentiment\\venv\\Lib\\site-packages\\trl\\trainer\\ppo_trainer.py:1174: UserWarning: The average ratio of batch (14.94) exceeds threshold 10.00. Skipping batch.\n",
      "  warnings.warn(\n",
      "8it [15:17, 115.90s/it]D:\\my_projects\\gpt2_sentiment\\venv\\Lib\\site-packages\\transformers\\pipelines\\base.py:1101: UserWarning: You seem to be using the pipelines sequentially on GPU. In order to maximize efficiency please use a dataset\n",
      "  warnings.warn(\n",
      "D:\\my_projects\\gpt2_sentiment\\venv\\Lib\\site-packages\\trl\\trainer\\ppo_trainer.py:1174: UserWarning: The average ratio of batch (18.74) exceeds threshold 10.00. Skipping batch.\n",
      "  warnings.warn(\n",
      "D:\\my_projects\\gpt2_sentiment\\venv\\Lib\\site-packages\\trl\\trainer\\ppo_trainer.py:1174: UserWarning: The average ratio of batch (12.24) exceeds threshold 10.00. Skipping batch.\n",
      "  warnings.warn(\n",
      "D:\\my_projects\\gpt2_sentiment\\venv\\Lib\\site-packages\\trl\\trainer\\ppo_trainer.py:1174: UserWarning: The average ratio of batch (483.02) exceeds threshold 10.00. Skipping batch.\n",
      "  warnings.warn(\n",
      "D:\\my_projects\\gpt2_sentiment\\venv\\Lib\\site-packages\\trl\\trainer\\ppo_trainer.py:1174: UserWarning: The average ratio of batch (5037.34) exceeds threshold 10.00. Skipping batch.\n",
      "  warnings.warn(\n",
      "D:\\my_projects\\gpt2_sentiment\\venv\\Lib\\site-packages\\trl\\trainer\\ppo_trainer.py:1174: UserWarning: The average ratio of batch (49.55) exceeds threshold 10.00. Skipping batch.\n",
      "  warnings.warn(\n",
      "D:\\my_projects\\gpt2_sentiment\\venv\\Lib\\site-packages\\trl\\trainer\\ppo_trainer.py:1174: UserWarning: The average ratio of batch (15681.12) exceeds threshold 10.00. Skipping batch.\n",
      "  warnings.warn(\n",
      "D:\\my_projects\\gpt2_sentiment\\venv\\Lib\\site-packages\\trl\\trainer\\ppo_trainer.py:1174: UserWarning: The average ratio of batch (17.27) exceeds threshold 10.00. Skipping batch.\n",
      "  warnings.warn(\n",
      "D:\\my_projects\\gpt2_sentiment\\venv\\Lib\\site-packages\\trl\\trainer\\ppo_trainer.py:1174: UserWarning: The average ratio of batch (47.90) exceeds threshold 10.00. Skipping batch.\n",
      "  warnings.warn(\n",
      "D:\\my_projects\\gpt2_sentiment\\venv\\Lib\\site-packages\\trl\\trainer\\ppo_trainer.py:1174: UserWarning: The average ratio of batch (74.27) exceeds threshold 10.00. Skipping batch.\n",
      "  warnings.warn(\n",
      "D:\\my_projects\\gpt2_sentiment\\venv\\Lib\\site-packages\\trl\\trainer\\ppo_trainer.py:1174: UserWarning: The average ratio of batch (68.62) exceeds threshold 10.00. Skipping batch.\n",
      "  warnings.warn(\n",
      "D:\\my_projects\\gpt2_sentiment\\venv\\Lib\\site-packages\\trl\\trainer\\ppo_trainer.py:1174: UserWarning: The average ratio of batch (92.47) exceeds threshold 10.00. Skipping batch.\n",
      "  warnings.warn(\n",
      "D:\\my_projects\\gpt2_sentiment\\venv\\Lib\\site-packages\\trl\\trainer\\ppo_trainer.py:1174: UserWarning: The average ratio of batch (14.20) exceeds threshold 10.00. Skipping batch.\n",
      "  warnings.warn(\n",
      "D:\\my_projects\\gpt2_sentiment\\venv\\Lib\\site-packages\\trl\\trainer\\ppo_trainer.py:1174: UserWarning: The average ratio of batch (16.45) exceeds threshold 10.00. Skipping batch.\n",
      "  warnings.warn(\n",
      "D:\\my_projects\\gpt2_sentiment\\venv\\Lib\\site-packages\\trl\\trainer\\ppo_trainer.py:1174: UserWarning: The average ratio of batch (76.83) exceeds threshold 10.00. Skipping batch.\n",
      "  warnings.warn(\n",
      "D:\\my_projects\\gpt2_sentiment\\venv\\Lib\\site-packages\\trl\\trainer\\ppo_trainer.py:1174: UserWarning: The average ratio of batch (64.62) exceeds threshold 10.00. Skipping batch.\n",
      "  warnings.warn(\n",
      "D:\\my_projects\\gpt2_sentiment\\venv\\Lib\\site-packages\\trl\\trainer\\ppo_trainer.py:1174: UserWarning: The average ratio of batch (15.31) exceeds threshold 10.00. Skipping batch.\n",
      "  warnings.warn(\n",
      "D:\\my_projects\\gpt2_sentiment\\venv\\Lib\\site-packages\\trl\\trainer\\ppo_trainer.py:1174: UserWarning: The average ratio of batch (15277.13) exceeds threshold 10.00. Skipping batch.\n",
      "  warnings.warn(\n",
      "D:\\my_projects\\gpt2_sentiment\\venv\\Lib\\site-packages\\trl\\trainer\\ppo_trainer.py:1174: UserWarning: The average ratio of batch (5031.79) exceeds threshold 10.00. Skipping batch.\n",
      "  warnings.warn(\n",
      "D:\\my_projects\\gpt2_sentiment\\venv\\Lib\\site-packages\\trl\\trainer\\ppo_trainer.py:1174: UserWarning: The average ratio of batch (605.80) exceeds threshold 10.00. Skipping batch.\n",
      "  warnings.warn(\n",
      "D:\\my_projects\\gpt2_sentiment\\venv\\Lib\\site-packages\\trl\\trainer\\ppo_trainer.py:1174: UserWarning: The average ratio of batch (24.16) exceeds threshold 10.00. Skipping batch.\n",
      "  warnings.warn(\n",
      "D:\\my_projects\\gpt2_sentiment\\venv\\Lib\\site-packages\\trl\\trainer\\ppo_trainer.py:1174: UserWarning: The average ratio of batch (16.24) exceeds threshold 10.00. Skipping batch.\n",
      "  warnings.warn(\n",
      "D:\\my_projects\\gpt2_sentiment\\venv\\Lib\\site-packages\\trl\\trainer\\ppo_trainer.py:1174: UserWarning: The average ratio of batch (47.18) exceeds threshold 10.00. Skipping batch.\n",
      "  warnings.warn(\n",
      "D:\\my_projects\\gpt2_sentiment\\venv\\Lib\\site-packages\\trl\\trainer\\ppo_trainer.py:1174: UserWarning: The average ratio of batch (56.64) exceeds threshold 10.00. Skipping batch.\n",
      "  warnings.warn(\n",
      "D:\\my_projects\\gpt2_sentiment\\venv\\Lib\\site-packages\\trl\\trainer\\ppo_trainer.py:1174: UserWarning: The average ratio of batch (10.63) exceeds threshold 10.00. Skipping batch.\n",
      "  warnings.warn(\n",
      "D:\\my_projects\\gpt2_sentiment\\venv\\Lib\\site-packages\\trl\\trainer\\ppo_trainer.py:1174: UserWarning: The average ratio of batch (431.49) exceeds threshold 10.00. Skipping batch.\n",
      "  warnings.warn(\n",
      "D:\\my_projects\\gpt2_sentiment\\venv\\Lib\\site-packages\\trl\\trainer\\ppo_trainer.py:1174: UserWarning: The average ratio of batch (10.12) exceeds threshold 10.00. Skipping batch.\n",
      "  warnings.warn(\n",
      "D:\\my_projects\\gpt2_sentiment\\venv\\Lib\\site-packages\\trl\\trainer\\ppo_trainer.py:1174: UserWarning: The average ratio of batch (12.57) exceeds threshold 10.00. Skipping batch.\n",
      "  warnings.warn(\n",
      "D:\\my_projects\\gpt2_sentiment\\venv\\Lib\\site-packages\\trl\\trainer\\ppo_trainer.py:1174: UserWarning: The average ratio of batch (5030.65) exceeds threshold 10.00. Skipping batch.\n",
      "  warnings.warn(\n",
      "D:\\my_projects\\gpt2_sentiment\\venv\\Lib\\site-packages\\trl\\trainer\\ppo_trainer.py:1174: UserWarning: The average ratio of batch (56.88) exceeds threshold 10.00. Skipping batch.\n",
      "  warnings.warn(\n",
      "D:\\my_projects\\gpt2_sentiment\\venv\\Lib\\site-packages\\trl\\trainer\\ppo_trainer.py:1174: UserWarning: The average ratio of batch (16.07) exceeds threshold 10.00. Skipping batch.\n",
      "  warnings.warn(\n",
      "D:\\my_projects\\gpt2_sentiment\\venv\\Lib\\site-packages\\trl\\trainer\\ppo_trainer.py:1174: UserWarning: The average ratio of batch (13970.36) exceeds threshold 10.00. Skipping batch.\n",
      "  warnings.warn(\n",
      "D:\\my_projects\\gpt2_sentiment\\venv\\Lib\\site-packages\\trl\\trainer\\ppo_trainer.py:1174: UserWarning: The average ratio of batch (17.70) exceeds threshold 10.00. Skipping batch.\n",
      "  warnings.warn(\n",
      "D:\\my_projects\\gpt2_sentiment\\venv\\Lib\\site-packages\\trl\\trainer\\ppo_trainer.py:1174: UserWarning: The average ratio of batch (408.02) exceeds threshold 10.00. Skipping batch.\n",
      "  warnings.warn(\n",
      "D:\\my_projects\\gpt2_sentiment\\venv\\Lib\\site-packages\\trl\\trainer\\ppo_trainer.py:1174: UserWarning: The average ratio of batch (10.21) exceeds threshold 10.00. Skipping batch.\n",
      "  warnings.warn(\n",
      "D:\\my_projects\\gpt2_sentiment\\venv\\Lib\\site-packages\\trl\\trainer\\ppo_trainer.py:1174: UserWarning: The average ratio of batch (84.60) exceeds threshold 10.00. Skipping batch.\n",
      "  warnings.warn(\n",
      "D:\\my_projects\\gpt2_sentiment\\venv\\Lib\\site-packages\\trl\\trainer\\ppo_trainer.py:1174: UserWarning: The average ratio of batch (48.19) exceeds threshold 10.00. Skipping batch.\n",
      "  warnings.warn(\n",
      "D:\\my_projects\\gpt2_sentiment\\venv\\Lib\\site-packages\\trl\\trainer\\ppo_trainer.py:1174: UserWarning: The average ratio of batch (654.62) exceeds threshold 10.00. Skipping batch.\n",
      "  warnings.warn(\n",
      "D:\\my_projects\\gpt2_sentiment\\venv\\Lib\\site-packages\\trl\\trainer\\ppo_trainer.py:1174: UserWarning: The average ratio of batch (1443.19) exceeds threshold 10.00. Skipping batch.\n",
      "  warnings.warn(\n",
      "D:\\my_projects\\gpt2_sentiment\\venv\\Lib\\site-packages\\trl\\trainer\\ppo_trainer.py:1174: UserWarning: The average ratio of batch (14.08) exceeds threshold 10.00. Skipping batch.\n",
      "  warnings.warn(\n",
      "D:\\my_projects\\gpt2_sentiment\\venv\\Lib\\site-packages\\trl\\trainer\\ppo_trainer.py:1174: UserWarning: The average ratio of batch (28.13) exceeds threshold 10.00. Skipping batch.\n",
      "  warnings.warn(\n",
      "D:\\my_projects\\gpt2_sentiment\\venv\\Lib\\site-packages\\trl\\trainer\\ppo_trainer.py:1174: UserWarning: The average ratio of batch (26.82) exceeds threshold 10.00. Skipping batch.\n",
      "  warnings.warn(\n",
      "D:\\my_projects\\gpt2_sentiment\\venv\\Lib\\site-packages\\trl\\trainer\\ppo_trainer.py:1174: UserWarning: The average ratio of batch (59.00) exceeds threshold 10.00. Skipping batch.\n",
      "  warnings.warn(\n",
      "9it [17:17, 117.12s/it]D:\\my_projects\\gpt2_sentiment\\venv\\Lib\\site-packages\\trl\\trainer\\ppo_trainer.py:1174: UserWarning: The average ratio of batch (16.72) exceeds threshold 10.00. Skipping batch.\n",
      "  warnings.warn(\n",
      "D:\\my_projects\\gpt2_sentiment\\venv\\Lib\\site-packages\\trl\\trainer\\ppo_trainer.py:1174: UserWarning: The average ratio of batch (32.85) exceeds threshold 10.00. Skipping batch.\n",
      "  warnings.warn(\n",
      "D:\\my_projects\\gpt2_sentiment\\venv\\Lib\\site-packages\\trl\\trainer\\ppo_trainer.py:1174: UserWarning: The average ratio of batch (895.91) exceeds threshold 10.00. Skipping batch.\n",
      "  warnings.warn(\n",
      "D:\\my_projects\\gpt2_sentiment\\venv\\Lib\\site-packages\\trl\\trainer\\ppo_trainer.py:1174: UserWarning: The average ratio of batch (216.35) exceeds threshold 10.00. Skipping batch.\n",
      "  warnings.warn(\n",
      "D:\\my_projects\\gpt2_sentiment\\venv\\Lib\\site-packages\\trl\\trainer\\ppo_trainer.py:1174: UserWarning: The average ratio of batch (1103.26) exceeds threshold 10.00. Skipping batch.\n",
      "  warnings.warn(\n",
      "D:\\my_projects\\gpt2_sentiment\\venv\\Lib\\site-packages\\trl\\trainer\\ppo_trainer.py:1174: UserWarning: The average ratio of batch (11.17) exceeds threshold 10.00. Skipping batch.\n",
      "  warnings.warn(\n",
      "D:\\my_projects\\gpt2_sentiment\\venv\\Lib\\site-packages\\trl\\trainer\\ppo_trainer.py:1174: UserWarning: The average ratio of batch (2249.24) exceeds threshold 10.00. Skipping batch.\n",
      "  warnings.warn(\n",
      "D:\\my_projects\\gpt2_sentiment\\venv\\Lib\\site-packages\\trl\\trainer\\ppo_trainer.py:1174: UserWarning: The average ratio of batch (16.02) exceeds threshold 10.00. Skipping batch.\n",
      "  warnings.warn(\n",
      "D:\\my_projects\\gpt2_sentiment\\venv\\Lib\\site-packages\\trl\\trainer\\ppo_trainer.py:1174: UserWarning: The average ratio of batch (319.01) exceeds threshold 10.00. Skipping batch.\n",
      "  warnings.warn(\n",
      "D:\\my_projects\\gpt2_sentiment\\venv\\Lib\\site-packages\\trl\\trainer\\ppo_trainer.py:1174: UserWarning: The average ratio of batch (1137.78) exceeds threshold 10.00. Skipping batch.\n",
      "  warnings.warn(\n",
      "D:\\my_projects\\gpt2_sentiment\\venv\\Lib\\site-packages\\trl\\trainer\\ppo_trainer.py:1174: UserWarning: The average ratio of batch (900.20) exceeds threshold 10.00. Skipping batch.\n",
      "  warnings.warn(\n",
      "D:\\my_projects\\gpt2_sentiment\\venv\\Lib\\site-packages\\trl\\trainer\\ppo_trainer.py:1174: UserWarning: The average ratio of batch (17.85) exceeds threshold 10.00. Skipping batch.\n",
      "  warnings.warn(\n",
      "D:\\my_projects\\gpt2_sentiment\\venv\\Lib\\site-packages\\trl\\trainer\\ppo_trainer.py:1174: UserWarning: The average ratio of batch (26.38) exceeds threshold 10.00. Skipping batch.\n",
      "  warnings.warn(\n",
      "D:\\my_projects\\gpt2_sentiment\\venv\\Lib\\site-packages\\trl\\trainer\\ppo_trainer.py:1174: UserWarning: The average ratio of batch (11.14) exceeds threshold 10.00. Skipping batch.\n",
      "  warnings.warn(\n",
      "D:\\my_projects\\gpt2_sentiment\\venv\\Lib\\site-packages\\trl\\trainer\\ppo_trainer.py:1174: UserWarning: The average ratio of batch (216.70) exceeds threshold 10.00. Skipping batch.\n",
      "  warnings.warn(\n",
      "D:\\my_projects\\gpt2_sentiment\\venv\\Lib\\site-packages\\trl\\trainer\\ppo_trainer.py:1174: UserWarning: The average ratio of batch (2230.98) exceeds threshold 10.00. Skipping batch.\n",
      "  warnings.warn(\n",
      "D:\\my_projects\\gpt2_sentiment\\venv\\Lib\\site-packages\\trl\\trainer\\ppo_trainer.py:1174: UserWarning: The average ratio of batch (323.51) exceeds threshold 10.00. Skipping batch.\n",
      "  warnings.warn(\n",
      "D:\\my_projects\\gpt2_sentiment\\venv\\Lib\\site-packages\\trl\\trainer\\ppo_trainer.py:1174: UserWarning: The average ratio of batch (19.34) exceeds threshold 10.00. Skipping batch.\n",
      "  warnings.warn(\n",
      "D:\\my_projects\\gpt2_sentiment\\venv\\Lib\\site-packages\\trl\\trainer\\ppo_trainer.py:1174: UserWarning: The average ratio of batch (218.18) exceeds threshold 10.00. Skipping batch.\n",
      "  warnings.warn(\n",
      "D:\\my_projects\\gpt2_sentiment\\venv\\Lib\\site-packages\\trl\\trainer\\ppo_trainer.py:1174: UserWarning: The average ratio of batch (10.84) exceeds threshold 10.00. Skipping batch.\n",
      "  warnings.warn(\n",
      "D:\\my_projects\\gpt2_sentiment\\venv\\Lib\\site-packages\\trl\\trainer\\ppo_trainer.py:1174: UserWarning: The average ratio of batch (22056.99) exceeds threshold 10.00. Skipping batch.\n",
      "  warnings.warn(\n",
      "D:\\my_projects\\gpt2_sentiment\\venv\\Lib\\site-packages\\trl\\trainer\\ppo_trainer.py:1174: UserWarning: The average ratio of batch (324.37) exceeds threshold 10.00. Skipping batch.\n",
      "  warnings.warn(\n",
      "D:\\my_projects\\gpt2_sentiment\\venv\\Lib\\site-packages\\trl\\trainer\\ppo_trainer.py:1174: UserWarning: The average ratio of batch (15.41) exceeds threshold 10.00. Skipping batch.\n",
      "  warnings.warn(\n",
      "D:\\my_projects\\gpt2_sentiment\\venv\\Lib\\site-packages\\trl\\trainer\\ppo_trainer.py:1174: UserWarning: The average ratio of batch (2244.94) exceeds threshold 10.00. Skipping batch.\n",
      "  warnings.warn(\n",
      "D:\\my_projects\\gpt2_sentiment\\venv\\Lib\\site-packages\\trl\\trainer\\ppo_trainer.py:1174: UserWarning: The average ratio of batch (28.79) exceeds threshold 10.00. Skipping batch.\n",
      "  warnings.warn(\n",
      "D:\\my_projects\\gpt2_sentiment\\venv\\Lib\\site-packages\\trl\\trainer\\ppo_trainer.py:1174: UserWarning: The average ratio of batch (21.28) exceeds threshold 10.00. Skipping batch.\n",
      "  warnings.warn(\n",
      "D:\\my_projects\\gpt2_sentiment\\venv\\Lib\\site-packages\\trl\\trainer\\ppo_trainer.py:1174: UserWarning: The average ratio of batch (716.40) exceeds threshold 10.00. Skipping batch.\n",
      "  warnings.warn(\n",
      "D:\\my_projects\\gpt2_sentiment\\venv\\Lib\\site-packages\\trl\\trainer\\ppo_trainer.py:1174: UserWarning: The average ratio of batch (902.43) exceeds threshold 10.00. Skipping batch.\n",
      "  warnings.warn(\n",
      "10it [19:17, 118.07s/it]D:\\my_projects\\gpt2_sentiment\\venv\\Lib\\site-packages\\trl\\trainer\\ppo_trainer.py:1174: UserWarning: The average ratio of batch (12.90) exceeds threshold 10.00. Skipping batch.\n",
      "  warnings.warn(\n",
      "D:\\my_projects\\gpt2_sentiment\\venv\\Lib\\site-packages\\trl\\trainer\\ppo_trainer.py:1174: UserWarning: The average ratio of batch (14.50) exceeds threshold 10.00. Skipping batch.\n",
      "  warnings.warn(\n",
      "D:\\my_projects\\gpt2_sentiment\\venv\\Lib\\site-packages\\trl\\trainer\\ppo_trainer.py:1174: UserWarning: The average ratio of batch (91.82) exceeds threshold 10.00. Skipping batch.\n",
      "  warnings.warn(\n",
      "D:\\my_projects\\gpt2_sentiment\\venv\\Lib\\site-packages\\trl\\trainer\\ppo_trainer.py:1174: UserWarning: The average ratio of batch (24.29) exceeds threshold 10.00. Skipping batch.\n",
      "  warnings.warn(\n",
      "D:\\my_projects\\gpt2_sentiment\\venv\\Lib\\site-packages\\trl\\trainer\\ppo_trainer.py:1174: UserWarning: The average ratio of batch (11.64) exceeds threshold 10.00. Skipping batch.\n",
      "  warnings.warn(\n",
      "D:\\my_projects\\gpt2_sentiment\\venv\\Lib\\site-packages\\trl\\trainer\\ppo_trainer.py:1174: UserWarning: The average ratio of batch (21.77) exceeds threshold 10.00. Skipping batch.\n",
      "  warnings.warn(\n",
      "D:\\my_projects\\gpt2_sentiment\\venv\\Lib\\site-packages\\trl\\trainer\\ppo_trainer.py:1174: UserWarning: The average ratio of batch (38.96) exceeds threshold 10.00. Skipping batch.\n",
      "  warnings.warn(\n",
      "D:\\my_projects\\gpt2_sentiment\\venv\\Lib\\site-packages\\trl\\trainer\\ppo_trainer.py:1174: UserWarning: The average ratio of batch (18.47) exceeds threshold 10.00. Skipping batch.\n",
      "  warnings.warn(\n",
      "D:\\my_projects\\gpt2_sentiment\\venv\\Lib\\site-packages\\trl\\trainer\\ppo_trainer.py:1174: UserWarning: The average ratio of batch (154.85) exceeds threshold 10.00. Skipping batch.\n",
      "  warnings.warn(\n",
      "D:\\my_projects\\gpt2_sentiment\\venv\\Lib\\site-packages\\trl\\trainer\\ppo_trainer.py:1174: UserWarning: The average ratio of batch (35.00) exceeds threshold 10.00. Skipping batch.\n",
      "  warnings.warn(\n",
      "D:\\my_projects\\gpt2_sentiment\\venv\\Lib\\site-packages\\trl\\trainer\\ppo_trainer.py:1174: UserWarning: The average ratio of batch (182.44) exceeds threshold 10.00. Skipping batch.\n",
      "  warnings.warn(\n",
      "D:\\my_projects\\gpt2_sentiment\\venv\\Lib\\site-packages\\trl\\trainer\\ppo_trainer.py:1174: UserWarning: The average ratio of batch (19.32) exceeds threshold 10.00. Skipping batch.\n",
      "  warnings.warn(\n",
      "D:\\my_projects\\gpt2_sentiment\\venv\\Lib\\site-packages\\trl\\trainer\\ppo_trainer.py:1174: UserWarning: The average ratio of batch (16.42) exceeds threshold 10.00. Skipping batch.\n",
      "  warnings.warn(\n",
      "D:\\my_projects\\gpt2_sentiment\\venv\\Lib\\site-packages\\trl\\trainer\\ppo_trainer.py:1174: UserWarning: The average ratio of batch (158.42) exceeds threshold 10.00. Skipping batch.\n",
      "  warnings.warn(\n",
      "D:\\my_projects\\gpt2_sentiment\\venv\\Lib\\site-packages\\trl\\trainer\\ppo_trainer.py:1174: UserWarning: The average ratio of batch (10.80) exceeds threshold 10.00. Skipping batch.\n",
      "  warnings.warn(\n",
      "D:\\my_projects\\gpt2_sentiment\\venv\\Lib\\site-packages\\trl\\trainer\\ppo_trainer.py:1174: UserWarning: The average ratio of batch (16.53) exceeds threshold 10.00. Skipping batch.\n",
      "  warnings.warn(\n",
      "D:\\my_projects\\gpt2_sentiment\\venv\\Lib\\site-packages\\trl\\trainer\\ppo_trainer.py:1174: UserWarning: The average ratio of batch (10.58) exceeds threshold 10.00. Skipping batch.\n",
      "  warnings.warn(\n",
      "D:\\my_projects\\gpt2_sentiment\\venv\\Lib\\site-packages\\trl\\trainer\\ppo_trainer.py:1174: UserWarning: The average ratio of batch (10.99) exceeds threshold 10.00. Skipping batch.\n",
      "  warnings.warn(\n",
      "D:\\my_projects\\gpt2_sentiment\\venv\\Lib\\site-packages\\trl\\trainer\\ppo_trainer.py:1174: UserWarning: The average ratio of batch (17.76) exceeds threshold 10.00. Skipping batch.\n",
      "  warnings.warn(\n",
      "D:\\my_projects\\gpt2_sentiment\\venv\\Lib\\site-packages\\trl\\trainer\\ppo_trainer.py:1174: UserWarning: The average ratio of batch (33.30) exceeds threshold 10.00. Skipping batch.\n",
      "  warnings.warn(\n",
      "D:\\my_projects\\gpt2_sentiment\\venv\\Lib\\site-packages\\trl\\trainer\\ppo_trainer.py:1174: UserWarning: The average ratio of batch (10.03) exceeds threshold 10.00. Skipping batch.\n",
      "  warnings.warn(\n",
      "D:\\my_projects\\gpt2_sentiment\\venv\\Lib\\site-packages\\trl\\trainer\\ppo_trainer.py:1174: UserWarning: The average ratio of batch (45.77) exceeds threshold 10.00. Skipping batch.\n",
      "  warnings.warn(\n",
      "D:\\my_projects\\gpt2_sentiment\\venv\\Lib\\site-packages\\trl\\trainer\\ppo_trainer.py:1174: UserWarning: The average ratio of batch (74.90) exceeds threshold 10.00. Skipping batch.\n",
      "  warnings.warn(\n",
      "D:\\my_projects\\gpt2_sentiment\\venv\\Lib\\site-packages\\trl\\trainer\\ppo_trainer.py:1174: UserWarning: The average ratio of batch (17.32) exceeds threshold 10.00. Skipping batch.\n",
      "  warnings.warn(\n",
      "D:\\my_projects\\gpt2_sentiment\\venv\\Lib\\site-packages\\trl\\trainer\\ppo_trainer.py:1174: UserWarning: The average ratio of batch (18.22) exceeds threshold 10.00. Skipping batch.\n",
      "  warnings.warn(\n",
      "D:\\my_projects\\gpt2_sentiment\\venv\\Lib\\site-packages\\trl\\trainer\\ppo_trainer.py:1174: UserWarning: The average ratio of batch (159.22) exceeds threshold 10.00. Skipping batch.\n",
      "  warnings.warn(\n",
      "D:\\my_projects\\gpt2_sentiment\\venv\\Lib\\site-packages\\trl\\trainer\\ppo_trainer.py:1174: UserWarning: The average ratio of batch (128.98) exceeds threshold 10.00. Skipping batch.\n",
      "  warnings.warn(\n",
      "D:\\my_projects\\gpt2_sentiment\\venv\\Lib\\site-packages\\trl\\trainer\\ppo_trainer.py:1174: UserWarning: The average ratio of batch (25.12) exceeds threshold 10.00. Skipping batch.\n",
      "  warnings.warn(\n",
      "D:\\my_projects\\gpt2_sentiment\\venv\\Lib\\site-packages\\trl\\trainer\\ppo_trainer.py:1174: UserWarning: The average ratio of batch (102.07) exceeds threshold 10.00. Skipping batch.\n",
      "  warnings.warn(\n",
      "D:\\my_projects\\gpt2_sentiment\\venv\\Lib\\site-packages\\trl\\trainer\\ppo_trainer.py:1174: UserWarning: The average ratio of batch (16.17) exceeds threshold 10.00. Skipping batch.\n",
      "  warnings.warn(\n",
      "D:\\my_projects\\gpt2_sentiment\\venv\\Lib\\site-packages\\trl\\trainer\\ppo_trainer.py:1174: UserWarning: The average ratio of batch (24.15) exceeds threshold 10.00. Skipping batch.\n",
      "  warnings.warn(\n",
      "D:\\my_projects\\gpt2_sentiment\\venv\\Lib\\site-packages\\trl\\trainer\\ppo_trainer.py:1174: UserWarning: The average ratio of batch (29.08) exceeds threshold 10.00. Skipping batch.\n",
      "  warnings.warn(\n",
      "D:\\my_projects\\gpt2_sentiment\\venv\\Lib\\site-packages\\trl\\trainer\\ppo_trainer.py:1174: UserWarning: The average ratio of batch (23.74) exceeds threshold 10.00. Skipping batch.\n",
      "  warnings.warn(\n",
      "D:\\my_projects\\gpt2_sentiment\\venv\\Lib\\site-packages\\trl\\trainer\\ppo_trainer.py:1174: UserWarning: The average ratio of batch (50.43) exceeds threshold 10.00. Skipping batch.\n",
      "  warnings.warn(\n",
      "D:\\my_projects\\gpt2_sentiment\\venv\\Lib\\site-packages\\trl\\trainer\\ppo_trainer.py:1174: UserWarning: The average ratio of batch (75.14) exceeds threshold 10.00. Skipping batch.\n",
      "  warnings.warn(\n",
      "D:\\my_projects\\gpt2_sentiment\\venv\\Lib\\site-packages\\trl\\trainer\\ppo_trainer.py:1174: UserWarning: The average ratio of batch (12.68) exceeds threshold 10.00. Skipping batch.\n",
      "  warnings.warn(\n",
      "D:\\my_projects\\gpt2_sentiment\\venv\\Lib\\site-packages\\trl\\trainer\\ppo_trainer.py:1174: UserWarning: The average ratio of batch (15.78) exceeds threshold 10.00. Skipping batch.\n",
      "  warnings.warn(\n",
      "D:\\my_projects\\gpt2_sentiment\\venv\\Lib\\site-packages\\trl\\trainer\\ppo_trainer.py:1174: UserWarning: The average ratio of batch (124.61) exceeds threshold 10.00. Skipping batch.\n",
      "  warnings.warn(\n",
      "D:\\my_projects\\gpt2_sentiment\\venv\\Lib\\site-packages\\trl\\trainer\\ppo_trainer.py:1174: UserWarning: The average ratio of batch (25.47) exceeds threshold 10.00. Skipping batch.\n",
      "  warnings.warn(\n",
      "D:\\my_projects\\gpt2_sentiment\\venv\\Lib\\site-packages\\trl\\trainer\\ppo_trainer.py:1174: UserWarning: The average ratio of batch (18.33) exceeds threshold 10.00. Skipping batch.\n",
      "  warnings.warn(\n",
      "D:\\my_projects\\gpt2_sentiment\\venv\\Lib\\site-packages\\trl\\trainer\\ppo_trainer.py:1174: UserWarning: The average ratio of batch (163.02) exceeds threshold 10.00. Skipping batch.\n",
      "  warnings.warn(\n",
      "D:\\my_projects\\gpt2_sentiment\\venv\\Lib\\site-packages\\trl\\trainer\\ppo_trainer.py:1174: UserWarning: The average ratio of batch (13.29) exceeds threshold 10.00. Skipping batch.\n",
      "  warnings.warn(\n",
      "D:\\my_projects\\gpt2_sentiment\\venv\\Lib\\site-packages\\trl\\trainer\\ppo_trainer.py:1174: UserWarning: The average ratio of batch (36.10) exceeds threshold 10.00. Skipping batch.\n",
      "  warnings.warn(\n",
      "D:\\my_projects\\gpt2_sentiment\\venv\\Lib\\site-packages\\trl\\trainer\\ppo_trainer.py:1174: UserWarning: The average ratio of batch (10.76) exceeds threshold 10.00. Skipping batch.\n",
      "  warnings.warn(\n",
      "D:\\my_projects\\gpt2_sentiment\\venv\\Lib\\site-packages\\trl\\trainer\\ppo_trainer.py:1174: UserWarning: The average ratio of batch (121.33) exceeds threshold 10.00. Skipping batch.\n",
      "  warnings.warn(\n",
      "D:\\my_projects\\gpt2_sentiment\\venv\\Lib\\site-packages\\trl\\trainer\\ppo_trainer.py:1174: UserWarning: The average ratio of batch (46.69) exceeds threshold 10.00. Skipping batch.\n",
      "  warnings.warn(\n",
      "D:\\my_projects\\gpt2_sentiment\\venv\\Lib\\site-packages\\trl\\trainer\\ppo_trainer.py:1174: UserWarning: The average ratio of batch (15.70) exceeds threshold 10.00. Skipping batch.\n",
      "  warnings.warn(\n",
      "11it [21:18, 118.78s/it]D:\\my_projects\\gpt2_sentiment\\venv\\Lib\\site-packages\\trl\\trainer\\ppo_trainer.py:1174: UserWarning: The average ratio of batch (18.83) exceeds threshold 10.00. Skipping batch.\n",
      "  warnings.warn(\n",
      "D:\\my_projects\\gpt2_sentiment\\venv\\Lib\\site-packages\\trl\\trainer\\ppo_trainer.py:1174: UserWarning: The average ratio of batch (14.82) exceeds threshold 10.00. Skipping batch.\n",
      "  warnings.warn(\n",
      "D:\\my_projects\\gpt2_sentiment\\venv\\Lib\\site-packages\\trl\\trainer\\ppo_trainer.py:1174: UserWarning: The average ratio of batch (49.74) exceeds threshold 10.00. Skipping batch.\n",
      "  warnings.warn(\n",
      "D:\\my_projects\\gpt2_sentiment\\venv\\Lib\\site-packages\\trl\\trainer\\ppo_trainer.py:1174: UserWarning: The average ratio of batch (27.18) exceeds threshold 10.00. Skipping batch.\n",
      "  warnings.warn(\n",
      "D:\\my_projects\\gpt2_sentiment\\venv\\Lib\\site-packages\\trl\\trainer\\ppo_trainer.py:1174: UserWarning: The average ratio of batch (22.97) exceeds threshold 10.00. Skipping batch.\n",
      "  warnings.warn(\n",
      "D:\\my_projects\\gpt2_sentiment\\venv\\Lib\\site-packages\\trl\\trainer\\ppo_trainer.py:1174: UserWarning: The average ratio of batch (15.30) exceeds threshold 10.00. Skipping batch.\n",
      "  warnings.warn(\n",
      "D:\\my_projects\\gpt2_sentiment\\venv\\Lib\\site-packages\\trl\\trainer\\ppo_trainer.py:1174: UserWarning: The average ratio of batch (10.01) exceeds threshold 10.00. Skipping batch.\n",
      "  warnings.warn(\n",
      "D:\\my_projects\\gpt2_sentiment\\venv\\Lib\\site-packages\\trl\\trainer\\ppo_trainer.py:1174: UserWarning: The average ratio of batch (223.77) exceeds threshold 10.00. Skipping batch.\n",
      "  warnings.warn(\n",
      "D:\\my_projects\\gpt2_sentiment\\venv\\Lib\\site-packages\\trl\\trainer\\ppo_trainer.py:1174: UserWarning: The average ratio of batch (19.47) exceeds threshold 10.00. Skipping batch.\n",
      "  warnings.warn(\n",
      "D:\\my_projects\\gpt2_sentiment\\venv\\Lib\\site-packages\\trl\\trainer\\ppo_trainer.py:1174: UserWarning: The average ratio of batch (15.55) exceeds threshold 10.00. Skipping batch.\n",
      "  warnings.warn(\n",
      "D:\\my_projects\\gpt2_sentiment\\venv\\Lib\\site-packages\\trl\\trainer\\ppo_trainer.py:1174: UserWarning: The average ratio of batch (18.61) exceeds threshold 10.00. Skipping batch.\n",
      "  warnings.warn(\n",
      "D:\\my_projects\\gpt2_sentiment\\venv\\Lib\\site-packages\\trl\\trainer\\ppo_trainer.py:1174: UserWarning: The average ratio of batch (42.29) exceeds threshold 10.00. Skipping batch.\n",
      "  warnings.warn(\n",
      "D:\\my_projects\\gpt2_sentiment\\venv\\Lib\\site-packages\\trl\\trainer\\ppo_trainer.py:1174: UserWarning: The average ratio of batch (10.07) exceeds threshold 10.00. Skipping batch.\n",
      "  warnings.warn(\n",
      "D:\\my_projects\\gpt2_sentiment\\venv\\Lib\\site-packages\\trl\\trainer\\ppo_trainer.py:1174: UserWarning: The average ratio of batch (22.47) exceeds threshold 10.00. Skipping batch.\n",
      "  warnings.warn(\n",
      "D:\\my_projects\\gpt2_sentiment\\venv\\Lib\\site-packages\\trl\\trainer\\ppo_trainer.py:1174: UserWarning: The average ratio of batch (11.53) exceeds threshold 10.00. Skipping batch.\n",
      "  warnings.warn(\n",
      "D:\\my_projects\\gpt2_sentiment\\venv\\Lib\\site-packages\\trl\\trainer\\ppo_trainer.py:1174: UserWarning: The average ratio of batch (19.80) exceeds threshold 10.00. Skipping batch.\n",
      "  warnings.warn(\n",
      "D:\\my_projects\\gpt2_sentiment\\venv\\Lib\\site-packages\\trl\\trainer\\ppo_trainer.py:1174: UserWarning: The average ratio of batch (22.54) exceeds threshold 10.00. Skipping batch.\n",
      "  warnings.warn(\n",
      "D:\\my_projects\\gpt2_sentiment\\venv\\Lib\\site-packages\\trl\\trainer\\ppo_trainer.py:1174: UserWarning: The average ratio of batch (17.75) exceeds threshold 10.00. Skipping batch.\n",
      "  warnings.warn(\n",
      "D:\\my_projects\\gpt2_sentiment\\venv\\Lib\\site-packages\\trl\\trainer\\ppo_trainer.py:1174: UserWarning: The average ratio of batch (19.09) exceeds threshold 10.00. Skipping batch.\n",
      "  warnings.warn(\n",
      "D:\\my_projects\\gpt2_sentiment\\venv\\Lib\\site-packages\\trl\\trainer\\ppo_trainer.py:1174: UserWarning: The average ratio of batch (11.44) exceeds threshold 10.00. Skipping batch.\n",
      "  warnings.warn(\n",
      "D:\\my_projects\\gpt2_sentiment\\venv\\Lib\\site-packages\\trl\\trainer\\ppo_trainer.py:1174: UserWarning: The average ratio of batch (24.88) exceeds threshold 10.00. Skipping batch.\n",
      "  warnings.warn(\n",
      "D:\\my_projects\\gpt2_sentiment\\venv\\Lib\\site-packages\\trl\\trainer\\ppo_trainer.py:1174: UserWarning: The average ratio of batch (13.45) exceeds threshold 10.00. Skipping batch.\n",
      "  warnings.warn(\n",
      "D:\\my_projects\\gpt2_sentiment\\venv\\Lib\\site-packages\\trl\\trainer\\ppo_trainer.py:1174: UserWarning: The average ratio of batch (25.27) exceeds threshold 10.00. Skipping batch.\n",
      "  warnings.warn(\n",
      "D:\\my_projects\\gpt2_sentiment\\venv\\Lib\\site-packages\\trl\\trainer\\ppo_trainer.py:1174: UserWarning: The average ratio of batch (22.29) exceeds threshold 10.00. Skipping batch.\n",
      "  warnings.warn(\n",
      "D:\\my_projects\\gpt2_sentiment\\venv\\Lib\\site-packages\\trl\\trainer\\ppo_trainer.py:1174: UserWarning: The average ratio of batch (222.41) exceeds threshold 10.00. Skipping batch.\n",
      "  warnings.warn(\n",
      "D:\\my_projects\\gpt2_sentiment\\venv\\Lib\\site-packages\\trl\\trainer\\ppo_trainer.py:1174: UserWarning: The average ratio of batch (52.56) exceeds threshold 10.00. Skipping batch.\n",
      "  warnings.warn(\n",
      "D:\\my_projects\\gpt2_sentiment\\venv\\Lib\\site-packages\\trl\\trainer\\ppo_trainer.py:1174: UserWarning: The average ratio of batch (15.42) exceeds threshold 10.00. Skipping batch.\n",
      "  warnings.warn(\n",
      "D:\\my_projects\\gpt2_sentiment\\venv\\Lib\\site-packages\\trl\\trainer\\ppo_trainer.py:1174: UserWarning: The average ratio of batch (10.25) exceeds threshold 10.00. Skipping batch.\n",
      "  warnings.warn(\n",
      "D:\\my_projects\\gpt2_sentiment\\venv\\Lib\\site-packages\\trl\\trainer\\ppo_trainer.py:1174: UserWarning: The average ratio of batch (24.51) exceeds threshold 10.00. Skipping batch.\n",
      "  warnings.warn(\n",
      "D:\\my_projects\\gpt2_sentiment\\venv\\Lib\\site-packages\\trl\\trainer\\ppo_trainer.py:1174: UserWarning: The average ratio of batch (14.62) exceeds threshold 10.00. Skipping batch.\n",
      "  warnings.warn(\n",
      "D:\\my_projects\\gpt2_sentiment\\venv\\Lib\\site-packages\\trl\\trainer\\ppo_trainer.py:1174: UserWarning: The average ratio of batch (11.28) exceeds threshold 10.00. Skipping batch.\n",
      "  warnings.warn(\n",
      "D:\\my_projects\\gpt2_sentiment\\venv\\Lib\\site-packages\\trl\\trainer\\ppo_trainer.py:1174: UserWarning: The average ratio of batch (18.02) exceeds threshold 10.00. Skipping batch.\n",
      "  warnings.warn(\n",
      "D:\\my_projects\\gpt2_sentiment\\venv\\Lib\\site-packages\\trl\\trainer\\ppo_trainer.py:1174: UserWarning: The average ratio of batch (24.03) exceeds threshold 10.00. Skipping batch.\n",
      "  warnings.warn(\n",
      "D:\\my_projects\\gpt2_sentiment\\venv\\Lib\\site-packages\\trl\\trainer\\ppo_trainer.py:1174: UserWarning: The average ratio of batch (22.42) exceeds threshold 10.00. Skipping batch.\n",
      "  warnings.warn(\n",
      "D:\\my_projects\\gpt2_sentiment\\venv\\Lib\\site-packages\\trl\\trainer\\ppo_trainer.py:1174: UserWarning: The average ratio of batch (12.91) exceeds threshold 10.00. Skipping batch.\n",
      "  warnings.warn(\n",
      "D:\\my_projects\\gpt2_sentiment\\venv\\Lib\\site-packages\\trl\\trainer\\ppo_trainer.py:1174: UserWarning: The average ratio of batch (53.14) exceeds threshold 10.00. Skipping batch.\n",
      "  warnings.warn(\n",
      "D:\\my_projects\\gpt2_sentiment\\venv\\Lib\\site-packages\\trl\\trainer\\ppo_trainer.py:1174: UserWarning: The average ratio of batch (11.11) exceeds threshold 10.00. Skipping batch.\n",
      "  warnings.warn(\n",
      "D:\\my_projects\\gpt2_sentiment\\venv\\Lib\\site-packages\\trl\\trainer\\ppo_trainer.py:1174: UserWarning: The average ratio of batch (20.98) exceeds threshold 10.00. Skipping batch.\n",
      "  warnings.warn(\n",
      "D:\\my_projects\\gpt2_sentiment\\venv\\Lib\\site-packages\\trl\\trainer\\ppo_trainer.py:1174: UserWarning: The average ratio of batch (11.65) exceeds threshold 10.00. Skipping batch.\n",
      "  warnings.warn(\n",
      "D:\\my_projects\\gpt2_sentiment\\venv\\Lib\\site-packages\\trl\\trainer\\ppo_trainer.py:1174: UserWarning: The average ratio of batch (22.79) exceeds threshold 10.00. Skipping batch.\n",
      "  warnings.warn(\n",
      "D:\\my_projects\\gpt2_sentiment\\venv\\Lib\\site-packages\\trl\\trainer\\ppo_trainer.py:1174: UserWarning: The average ratio of batch (31.20) exceeds threshold 10.00. Skipping batch.\n",
      "  warnings.warn(\n",
      "D:\\my_projects\\gpt2_sentiment\\venv\\Lib\\site-packages\\trl\\trainer\\ppo_trainer.py:1174: UserWarning: The average ratio of batch (232.04) exceeds threshold 10.00. Skipping batch.\n",
      "  warnings.warn(\n",
      "D:\\my_projects\\gpt2_sentiment\\venv\\Lib\\site-packages\\trl\\trainer\\ppo_trainer.py:1174: UserWarning: The average ratio of batch (12.31) exceeds threshold 10.00. Skipping batch.\n",
      "  warnings.warn(\n",
      "D:\\my_projects\\gpt2_sentiment\\venv\\Lib\\site-packages\\trl\\trainer\\ppo_trainer.py:1174: UserWarning: The average ratio of batch (17.74) exceeds threshold 10.00. Skipping batch.\n",
      "  warnings.warn(\n",
      "12it [23:17, 119.05s/it]D:\\my_projects\\gpt2_sentiment\\venv\\Lib\\site-packages\\trl\\trainer\\ppo_trainer.py:1174: UserWarning: The average ratio of batch (11.21) exceeds threshold 10.00. Skipping batch.\n",
      "  warnings.warn(\n",
      "D:\\my_projects\\gpt2_sentiment\\venv\\Lib\\site-packages\\trl\\trainer\\ppo_trainer.py:1174: UserWarning: The average ratio of batch (24.06) exceeds threshold 10.00. Skipping batch.\n",
      "  warnings.warn(\n",
      "D:\\my_projects\\gpt2_sentiment\\venv\\Lib\\site-packages\\trl\\trainer\\ppo_trainer.py:1174: UserWarning: The average ratio of batch (10.98) exceeds threshold 10.00. Skipping batch.\n",
      "  warnings.warn(\n",
      "D:\\my_projects\\gpt2_sentiment\\venv\\Lib\\site-packages\\trl\\trainer\\ppo_trainer.py:1174: UserWarning: The average ratio of batch (220.27) exceeds threshold 10.00. Skipping batch.\n",
      "  warnings.warn(\n",
      "D:\\my_projects\\gpt2_sentiment\\venv\\Lib\\site-packages\\trl\\trainer\\ppo_trainer.py:1174: UserWarning: The average ratio of batch (22.84) exceeds threshold 10.00. Skipping batch.\n",
      "  warnings.warn(\n",
      "D:\\my_projects\\gpt2_sentiment\\venv\\Lib\\site-packages\\trl\\trainer\\ppo_trainer.py:1174: UserWarning: The average ratio of batch (36.64) exceeds threshold 10.00. Skipping batch.\n",
      "  warnings.warn(\n",
      "D:\\my_projects\\gpt2_sentiment\\venv\\Lib\\site-packages\\trl\\trainer\\ppo_trainer.py:1174: UserWarning: The average ratio of batch (16.48) exceeds threshold 10.00. Skipping batch.\n",
      "  warnings.warn(\n",
      "D:\\my_projects\\gpt2_sentiment\\venv\\Lib\\site-packages\\trl\\trainer\\ppo_trainer.py:1174: UserWarning: The average ratio of batch (14.92) exceeds threshold 10.00. Skipping batch.\n",
      "  warnings.warn(\n",
      "D:\\my_projects\\gpt2_sentiment\\venv\\Lib\\site-packages\\trl\\trainer\\ppo_trainer.py:1174: UserWarning: The average ratio of batch (22.17) exceeds threshold 10.00. Skipping batch.\n",
      "  warnings.warn(\n",
      "D:\\my_projects\\gpt2_sentiment\\venv\\Lib\\site-packages\\trl\\trainer\\ppo_trainer.py:1174: UserWarning: The average ratio of batch (350.15) exceeds threshold 10.00. Skipping batch.\n",
      "  warnings.warn(\n",
      "D:\\my_projects\\gpt2_sentiment\\venv\\Lib\\site-packages\\trl\\trainer\\ppo_trainer.py:1174: UserWarning: The average ratio of batch (44.88) exceeds threshold 10.00. Skipping batch.\n",
      "  warnings.warn(\n",
      "D:\\my_projects\\gpt2_sentiment\\venv\\Lib\\site-packages\\trl\\trainer\\ppo_trainer.py:1174: UserWarning: The average ratio of batch (18.69) exceeds threshold 10.00. Skipping batch.\n",
      "  warnings.warn(\n",
      "D:\\my_projects\\gpt2_sentiment\\venv\\Lib\\site-packages\\trl\\trainer\\ppo_trainer.py:1174: UserWarning: The average ratio of batch (356.76) exceeds threshold 10.00. Skipping batch.\n",
      "  warnings.warn(\n",
      "D:\\my_projects\\gpt2_sentiment\\venv\\Lib\\site-packages\\trl\\trainer\\ppo_trainer.py:1174: UserWarning: The average ratio of batch (10.62) exceeds threshold 10.00. Skipping batch.\n",
      "  warnings.warn(\n",
      "D:\\my_projects\\gpt2_sentiment\\venv\\Lib\\site-packages\\trl\\trainer\\ppo_trainer.py:1174: UserWarning: The average ratio of batch (18.01) exceeds threshold 10.00. Skipping batch.\n",
      "  warnings.warn(\n",
      "D:\\my_projects\\gpt2_sentiment\\venv\\Lib\\site-packages\\trl\\trainer\\ppo_trainer.py:1174: UserWarning: The average ratio of batch (166.18) exceeds threshold 10.00. Skipping batch.\n",
      "  warnings.warn(\n",
      "D:\\my_projects\\gpt2_sentiment\\venv\\Lib\\site-packages\\trl\\trainer\\ppo_trainer.py:1174: UserWarning: The average ratio of batch (18.31) exceeds threshold 10.00. Skipping batch.\n",
      "  warnings.warn(\n",
      "D:\\my_projects\\gpt2_sentiment\\venv\\Lib\\site-packages\\trl\\trainer\\ppo_trainer.py:1174: UserWarning: The average ratio of batch (13.26) exceeds threshold 10.00. Skipping batch.\n",
      "  warnings.warn(\n",
      "D:\\my_projects\\gpt2_sentiment\\venv\\Lib\\site-packages\\trl\\trainer\\ppo_trainer.py:1174: UserWarning: The average ratio of batch (71.36) exceeds threshold 10.00. Skipping batch.\n",
      "  warnings.warn(\n",
      "D:\\my_projects\\gpt2_sentiment\\venv\\Lib\\site-packages\\trl\\trainer\\ppo_trainer.py:1174: UserWarning: The average ratio of batch (16.77) exceeds threshold 10.00. Skipping batch.\n",
      "  warnings.warn(\n",
      "D:\\my_projects\\gpt2_sentiment\\venv\\Lib\\site-packages\\trl\\trainer\\ppo_trainer.py:1174: UserWarning: The average ratio of batch (250.00) exceeds threshold 10.00. Skipping batch.\n",
      "  warnings.warn(\n",
      "D:\\my_projects\\gpt2_sentiment\\venv\\Lib\\site-packages\\trl\\trainer\\ppo_trainer.py:1174: UserWarning: The average ratio of batch (23.53) exceeds threshold 10.00. Skipping batch.\n",
      "  warnings.warn(\n",
      "D:\\my_projects\\gpt2_sentiment\\venv\\Lib\\site-packages\\trl\\trainer\\ppo_trainer.py:1174: UserWarning: The average ratio of batch (44.92) exceeds threshold 10.00. Skipping batch.\n",
      "  warnings.warn(\n",
      "D:\\my_projects\\gpt2_sentiment\\venv\\Lib\\site-packages\\trl\\trainer\\ppo_trainer.py:1174: UserWarning: The average ratio of batch (37.09) exceeds threshold 10.00. Skipping batch.\n",
      "  warnings.warn(\n",
      "D:\\my_projects\\gpt2_sentiment\\venv\\Lib\\site-packages\\trl\\trainer\\ppo_trainer.py:1174: UserWarning: The average ratio of batch (24.41) exceeds threshold 10.00. Skipping batch.\n",
      "  warnings.warn(\n",
      "D:\\my_projects\\gpt2_sentiment\\venv\\Lib\\site-packages\\trl\\trainer\\ppo_trainer.py:1174: UserWarning: The average ratio of batch (18.00) exceeds threshold 10.00. Skipping batch.\n",
      "  warnings.warn(\n",
      "D:\\my_projects\\gpt2_sentiment\\venv\\Lib\\site-packages\\trl\\trainer\\ppo_trainer.py:1174: UserWarning: The average ratio of batch (16.84) exceeds threshold 10.00. Skipping batch.\n",
      "  warnings.warn(\n",
      "D:\\my_projects\\gpt2_sentiment\\venv\\Lib\\site-packages\\trl\\trainer\\ppo_trainer.py:1174: UserWarning: The average ratio of batch (77.40) exceeds threshold 10.00. Skipping batch.\n",
      "  warnings.warn(\n",
      "D:\\my_projects\\gpt2_sentiment\\venv\\Lib\\site-packages\\trl\\trainer\\ppo_trainer.py:1174: UserWarning: The average ratio of batch (16.47) exceeds threshold 10.00. Skipping batch.\n",
      "  warnings.warn(\n",
      "D:\\my_projects\\gpt2_sentiment\\venv\\Lib\\site-packages\\trl\\trainer\\ppo_trainer.py:1174: UserWarning: The average ratio of batch (15.52) exceeds threshold 10.00. Skipping batch.\n",
      "  warnings.warn(\n",
      "D:\\my_projects\\gpt2_sentiment\\venv\\Lib\\site-packages\\trl\\trainer\\ppo_trainer.py:1174: UserWarning: The average ratio of batch (24.23) exceeds threshold 10.00. Skipping batch.\n",
      "  warnings.warn(\n",
      "D:\\my_projects\\gpt2_sentiment\\venv\\Lib\\site-packages\\trl\\trainer\\ppo_trainer.py:1174: UserWarning: The average ratio of batch (23.60) exceeds threshold 10.00. Skipping batch.\n",
      "  warnings.warn(\n",
      "D:\\my_projects\\gpt2_sentiment\\venv\\Lib\\site-packages\\trl\\trainer\\ppo_trainer.py:1174: UserWarning: The average ratio of batch (37.64) exceeds threshold 10.00. Skipping batch.\n",
      "  warnings.warn(\n",
      "D:\\my_projects\\gpt2_sentiment\\venv\\Lib\\site-packages\\trl\\trainer\\ppo_trainer.py:1174: UserWarning: The average ratio of batch (384.02) exceeds threshold 10.00. Skipping batch.\n",
      "  warnings.warn(\n",
      "D:\\my_projects\\gpt2_sentiment\\venv\\Lib\\site-packages\\trl\\trainer\\ppo_trainer.py:1174: UserWarning: The average ratio of batch (20.56) exceeds threshold 10.00. Skipping batch.\n",
      "  warnings.warn(\n",
      "D:\\my_projects\\gpt2_sentiment\\venv\\Lib\\site-packages\\trl\\trainer\\ppo_trainer.py:1174: UserWarning: The average ratio of batch (146.63) exceeds threshold 10.00. Skipping batch.\n",
      "  warnings.warn(\n",
      "D:\\my_projects\\gpt2_sentiment\\venv\\Lib\\site-packages\\trl\\trainer\\ppo_trainer.py:1174: UserWarning: The average ratio of batch (261.88) exceeds threshold 10.00. Skipping batch.\n",
      "  warnings.warn(\n",
      "13it [25:14, 118.45s/it]D:\\my_projects\\gpt2_sentiment\\venv\\Lib\\site-packages\\trl\\trainer\\ppo_trainer.py:1174: UserWarning: The average ratio of batch (15.46) exceeds threshold 10.00. Skipping batch.\n",
      "  warnings.warn(\n",
      "D:\\my_projects\\gpt2_sentiment\\venv\\Lib\\site-packages\\trl\\trainer\\ppo_trainer.py:1174: UserWarning: The average ratio of batch (19.84) exceeds threshold 10.00. Skipping batch.\n",
      "  warnings.warn(\n",
      "D:\\my_projects\\gpt2_sentiment\\venv\\Lib\\site-packages\\trl\\trainer\\ppo_trainer.py:1174: UserWarning: The average ratio of batch (22.87) exceeds threshold 10.00. Skipping batch.\n",
      "  warnings.warn(\n",
      "D:\\my_projects\\gpt2_sentiment\\venv\\Lib\\site-packages\\trl\\trainer\\ppo_trainer.py:1174: UserWarning: The average ratio of batch (598.15) exceeds threshold 10.00. Skipping batch.\n",
      "  warnings.warn(\n",
      "D:\\my_projects\\gpt2_sentiment\\venv\\Lib\\site-packages\\trl\\trainer\\ppo_trainer.py:1174: UserWarning: The average ratio of batch (33.26) exceeds threshold 10.00. Skipping batch.\n",
      "  warnings.warn(\n",
      "D:\\my_projects\\gpt2_sentiment\\venv\\Lib\\site-packages\\trl\\trainer\\ppo_trainer.py:1174: UserWarning: The average ratio of batch (13.06) exceeds threshold 10.00. Skipping batch.\n",
      "  warnings.warn(\n",
      "D:\\my_projects\\gpt2_sentiment\\venv\\Lib\\site-packages\\trl\\trainer\\ppo_trainer.py:1174: UserWarning: The average ratio of batch (373.19) exceeds threshold 10.00. Skipping batch.\n",
      "  warnings.warn(\n",
      "D:\\my_projects\\gpt2_sentiment\\venv\\Lib\\site-packages\\trl\\trainer\\ppo_trainer.py:1174: UserWarning: The average ratio of batch (17.73) exceeds threshold 10.00. Skipping batch.\n",
      "  warnings.warn(\n",
      "D:\\my_projects\\gpt2_sentiment\\venv\\Lib\\site-packages\\trl\\trainer\\ppo_trainer.py:1174: UserWarning: The average ratio of batch (12.88) exceeds threshold 10.00. Skipping batch.\n",
      "  warnings.warn(\n",
      "D:\\my_projects\\gpt2_sentiment\\venv\\Lib\\site-packages\\trl\\trainer\\ppo_trainer.py:1174: UserWarning: The average ratio of batch (15.82) exceeds threshold 10.00. Skipping batch.\n",
      "  warnings.warn(\n",
      "D:\\my_projects\\gpt2_sentiment\\venv\\Lib\\site-packages\\trl\\trainer\\ppo_trainer.py:1174: UserWarning: The average ratio of batch (59.22) exceeds threshold 10.00. Skipping batch.\n",
      "  warnings.warn(\n",
      "D:\\my_projects\\gpt2_sentiment\\venv\\Lib\\site-packages\\trl\\trainer\\ppo_trainer.py:1174: UserWarning: The average ratio of batch (534.07) exceeds threshold 10.00. Skipping batch.\n",
      "  warnings.warn(\n",
      "D:\\my_projects\\gpt2_sentiment\\venv\\Lib\\site-packages\\trl\\trainer\\ppo_trainer.py:1174: UserWarning: The average ratio of batch (31.68) exceeds threshold 10.00. Skipping batch.\n",
      "  warnings.warn(\n",
      "D:\\my_projects\\gpt2_sentiment\\venv\\Lib\\site-packages\\trl\\trainer\\ppo_trainer.py:1174: UserWarning: The average ratio of batch (371.27) exceeds threshold 10.00. Skipping batch.\n",
      "  warnings.warn(\n",
      "D:\\my_projects\\gpt2_sentiment\\venv\\Lib\\site-packages\\trl\\trainer\\ppo_trainer.py:1174: UserWarning: The average ratio of batch (33.23) exceeds threshold 10.00. Skipping batch.\n",
      "  warnings.warn(\n",
      "D:\\my_projects\\gpt2_sentiment\\venv\\Lib\\site-packages\\trl\\trainer\\ppo_trainer.py:1174: UserWarning: The average ratio of batch (24.69) exceeds threshold 10.00. Skipping batch.\n",
      "  warnings.warn(\n",
      "D:\\my_projects\\gpt2_sentiment\\venv\\Lib\\site-packages\\trl\\trainer\\ppo_trainer.py:1174: UserWarning: The average ratio of batch (556.51) exceeds threshold 10.00. Skipping batch.\n",
      "  warnings.warn(\n",
      "D:\\my_projects\\gpt2_sentiment\\venv\\Lib\\site-packages\\trl\\trainer\\ppo_trainer.py:1174: UserWarning: The average ratio of batch (15.74) exceeds threshold 10.00. Skipping batch.\n",
      "  warnings.warn(\n",
      "D:\\my_projects\\gpt2_sentiment\\venv\\Lib\\site-packages\\trl\\trainer\\ppo_trainer.py:1174: UserWarning: The average ratio of batch (10.60) exceeds threshold 10.00. Skipping batch.\n",
      "  warnings.warn(\n",
      "D:\\my_projects\\gpt2_sentiment\\venv\\Lib\\site-packages\\trl\\trainer\\ppo_trainer.py:1174: UserWarning: The average ratio of batch (17.42) exceeds threshold 10.00. Skipping batch.\n",
      "  warnings.warn(\n",
      "D:\\my_projects\\gpt2_sentiment\\venv\\Lib\\site-packages\\trl\\trainer\\ppo_trainer.py:1174: UserWarning: The average ratio of batch (61.75) exceeds threshold 10.00. Skipping batch.\n",
      "  warnings.warn(\n",
      "D:\\my_projects\\gpt2_sentiment\\venv\\Lib\\site-packages\\trl\\trainer\\ppo_trainer.py:1174: UserWarning: The average ratio of batch (13.79) exceeds threshold 10.00. Skipping batch.\n",
      "  warnings.warn(\n",
      "D:\\my_projects\\gpt2_sentiment\\venv\\Lib\\site-packages\\trl\\trainer\\ppo_trainer.py:1174: UserWarning: The average ratio of batch (375.61) exceeds threshold 10.00. Skipping batch.\n",
      "  warnings.warn(\n",
      "D:\\my_projects\\gpt2_sentiment\\venv\\Lib\\site-packages\\trl\\trainer\\ppo_trainer.py:1174: UserWarning: The average ratio of batch (37.23) exceeds threshold 10.00. Skipping batch.\n",
      "  warnings.warn(\n",
      "D:\\my_projects\\gpt2_sentiment\\venv\\Lib\\site-packages\\trl\\trainer\\ppo_trainer.py:1174: UserWarning: The average ratio of batch (25.46) exceeds threshold 10.00. Skipping batch.\n",
      "  warnings.warn(\n",
      "D:\\my_projects\\gpt2_sentiment\\venv\\Lib\\site-packages\\trl\\trainer\\ppo_trainer.py:1174: UserWarning: The average ratio of batch (20.58) exceeds threshold 10.00. Skipping batch.\n",
      "  warnings.warn(\n",
      "14it [27:15, 119.27s/it]D:\\my_projects\\gpt2_sentiment\\venv\\Lib\\site-packages\\trl\\trainer\\ppo_trainer.py:1174: UserWarning: The average ratio of batch (3743.41) exceeds threshold 10.00. Skipping batch.\n",
      "  warnings.warn(\n",
      "D:\\my_projects\\gpt2_sentiment\\venv\\Lib\\site-packages\\trl\\trainer\\ppo_trainer.py:1174: UserWarning: The average ratio of batch (50.11) exceeds threshold 10.00. Skipping batch.\n",
      "  warnings.warn(\n",
      "D:\\my_projects\\gpt2_sentiment\\venv\\Lib\\site-packages\\trl\\trainer\\ppo_trainer.py:1174: UserWarning: The average ratio of batch (187.96) exceeds threshold 10.00. Skipping batch.\n",
      "  warnings.warn(\n",
      "D:\\my_projects\\gpt2_sentiment\\venv\\Lib\\site-packages\\trl\\trainer\\ppo_trainer.py:1174: UserWarning: The average ratio of batch (17.03) exceeds threshold 10.00. Skipping batch.\n",
      "  warnings.warn(\n",
      "D:\\my_projects\\gpt2_sentiment\\venv\\Lib\\site-packages\\trl\\trainer\\ppo_trainer.py:1174: UserWarning: The average ratio of batch (11.39) exceeds threshold 10.00. Skipping batch.\n",
      "  warnings.warn(\n",
      "D:\\my_projects\\gpt2_sentiment\\venv\\Lib\\site-packages\\trl\\trainer\\ppo_trainer.py:1174: UserWarning: The average ratio of batch (194.32) exceeds threshold 10.00. Skipping batch.\n",
      "  warnings.warn(\n",
      "D:\\my_projects\\gpt2_sentiment\\venv\\Lib\\site-packages\\trl\\trainer\\ppo_trainer.py:1174: UserWarning: The average ratio of batch (209.93) exceeds threshold 10.00. Skipping batch.\n",
      "  warnings.warn(\n",
      "D:\\my_projects\\gpt2_sentiment\\venv\\Lib\\site-packages\\trl\\trainer\\ppo_trainer.py:1174: UserWarning: The average ratio of batch (16.74) exceeds threshold 10.00. Skipping batch.\n",
      "  warnings.warn(\n",
      "D:\\my_projects\\gpt2_sentiment\\venv\\Lib\\site-packages\\trl\\trainer\\ppo_trainer.py:1174: UserWarning: The average ratio of batch (4472.44) exceeds threshold 10.00. Skipping batch.\n",
      "  warnings.warn(\n",
      "D:\\my_projects\\gpt2_sentiment\\venv\\Lib\\site-packages\\trl\\trainer\\ppo_trainer.py:1174: UserWarning: The average ratio of batch (53.83) exceeds threshold 10.00. Skipping batch.\n",
      "  warnings.warn(\n",
      "D:\\my_projects\\gpt2_sentiment\\venv\\Lib\\site-packages\\trl\\trainer\\ppo_trainer.py:1174: UserWarning: The average ratio of batch (11.49) exceeds threshold 10.00. Skipping batch.\n",
      "  warnings.warn(\n",
      "D:\\my_projects\\gpt2_sentiment\\venv\\Lib\\site-packages\\trl\\trainer\\ppo_trainer.py:1174: UserWarning: The average ratio of batch (188.62) exceeds threshold 10.00. Skipping batch.\n",
      "  warnings.warn(\n",
      "D:\\my_projects\\gpt2_sentiment\\venv\\Lib\\site-packages\\trl\\trainer\\ppo_trainer.py:1174: UserWarning: The average ratio of batch (55.63) exceeds threshold 10.00. Skipping batch.\n",
      "  warnings.warn(\n",
      "D:\\my_projects\\gpt2_sentiment\\venv\\Lib\\site-packages\\trl\\trainer\\ppo_trainer.py:1174: UserWarning: The average ratio of batch (4606.62) exceeds threshold 10.00. Skipping batch.\n",
      "  warnings.warn(\n",
      "D:\\my_projects\\gpt2_sentiment\\venv\\Lib\\site-packages\\trl\\trainer\\ppo_trainer.py:1174: UserWarning: The average ratio of batch (194.64) exceeds threshold 10.00. Skipping batch.\n",
      "  warnings.warn(\n",
      "D:\\my_projects\\gpt2_sentiment\\venv\\Lib\\site-packages\\trl\\trainer\\ppo_trainer.py:1174: UserWarning: The average ratio of batch (208.12) exceeds threshold 10.00. Skipping batch.\n",
      "  warnings.warn(\n",
      "D:\\my_projects\\gpt2_sentiment\\venv\\Lib\\site-packages\\trl\\trainer\\ppo_trainer.py:1174: UserWarning: The average ratio of batch (38.77) exceeds threshold 10.00. Skipping batch.\n",
      "  warnings.warn(\n",
      "D:\\my_projects\\gpt2_sentiment\\venv\\Lib\\site-packages\\trl\\trainer\\ppo_trainer.py:1174: UserWarning: The average ratio of batch (15.92) exceeds threshold 10.00. Skipping batch.\n",
      "  warnings.warn(\n",
      "D:\\my_projects\\gpt2_sentiment\\venv\\Lib\\site-packages\\trl\\trainer\\ppo_trainer.py:1174: UserWarning: The average ratio of batch (11.69) exceeds threshold 10.00. Skipping batch.\n",
      "  warnings.warn(\n",
      "15it [29:14, 118.95s/it]D:\\my_projects\\gpt2_sentiment\\venv\\Lib\\site-packages\\trl\\trainer\\ppo_trainer.py:1174: UserWarning: The average ratio of batch (21.48) exceeds threshold 10.00. Skipping batch.\n",
      "  warnings.warn(\n",
      "D:\\my_projects\\gpt2_sentiment\\venv\\Lib\\site-packages\\trl\\trainer\\ppo_trainer.py:1174: UserWarning: The average ratio of batch (28.10) exceeds threshold 10.00. Skipping batch.\n",
      "  warnings.warn(\n",
      "D:\\my_projects\\gpt2_sentiment\\venv\\Lib\\site-packages\\trl\\trainer\\ppo_trainer.py:1174: UserWarning: The average ratio of batch (12.83) exceeds threshold 10.00. Skipping batch.\n",
      "  warnings.warn(\n",
      "D:\\my_projects\\gpt2_sentiment\\venv\\Lib\\site-packages\\trl\\trainer\\ppo_trainer.py:1174: UserWarning: The average ratio of batch (11.23) exceeds threshold 10.00. Skipping batch.\n",
      "  warnings.warn(\n",
      "D:\\my_projects\\gpt2_sentiment\\venv\\Lib\\site-packages\\trl\\trainer\\ppo_trainer.py:1174: UserWarning: The average ratio of batch (82.02) exceeds threshold 10.00. Skipping batch.\n",
      "  warnings.warn(\n",
      "D:\\my_projects\\gpt2_sentiment\\venv\\Lib\\site-packages\\trl\\trainer\\ppo_trainer.py:1174: UserWarning: The average ratio of batch (10.90) exceeds threshold 10.00. Skipping batch.\n",
      "  warnings.warn(\n",
      "D:\\my_projects\\gpt2_sentiment\\venv\\Lib\\site-packages\\trl\\trainer\\ppo_trainer.py:1174: UserWarning: The average ratio of batch (42.09) exceeds threshold 10.00. Skipping batch.\n",
      "  warnings.warn(\n",
      "D:\\my_projects\\gpt2_sentiment\\venv\\Lib\\site-packages\\trl\\trainer\\ppo_trainer.py:1174: UserWarning: The average ratio of batch (38.11) exceeds threshold 10.00. Skipping batch.\n",
      "  warnings.warn(\n",
      "D:\\my_projects\\gpt2_sentiment\\venv\\Lib\\site-packages\\trl\\trainer\\ppo_trainer.py:1174: UserWarning: The average ratio of batch (86.11) exceeds threshold 10.00. Skipping batch.\n",
      "  warnings.warn(\n",
      "D:\\my_projects\\gpt2_sentiment\\venv\\Lib\\site-packages\\trl\\trainer\\ppo_trainer.py:1174: UserWarning: The average ratio of batch (28.75) exceeds threshold 10.00. Skipping batch.\n",
      "  warnings.warn(\n",
      "D:\\my_projects\\gpt2_sentiment\\venv\\Lib\\site-packages\\trl\\trainer\\ppo_trainer.py:1174: UserWarning: The average ratio of batch (27.95) exceeds threshold 10.00. Skipping batch.\n",
      "  warnings.warn(\n",
      "D:\\my_projects\\gpt2_sentiment\\venv\\Lib\\site-packages\\trl\\trainer\\ppo_trainer.py:1174: UserWarning: The average ratio of batch (29.38) exceeds threshold 10.00. Skipping batch.\n",
      "  warnings.warn(\n",
      "D:\\my_projects\\gpt2_sentiment\\venv\\Lib\\site-packages\\trl\\trainer\\ppo_trainer.py:1174: UserWarning: The average ratio of batch (27.47) exceeds threshold 10.00. Skipping batch.\n",
      "  warnings.warn(\n",
      "D:\\my_projects\\gpt2_sentiment\\venv\\Lib\\site-packages\\trl\\trainer\\ppo_trainer.py:1174: UserWarning: The average ratio of batch (12.40) exceeds threshold 10.00. Skipping batch.\n",
      "  warnings.warn(\n",
      "D:\\my_projects\\gpt2_sentiment\\venv\\Lib\\site-packages\\trl\\trainer\\ppo_trainer.py:1174: UserWarning: The average ratio of batch (41.50) exceeds threshold 10.00. Skipping batch.\n",
      "  warnings.warn(\n",
      "D:\\my_projects\\gpt2_sentiment\\venv\\Lib\\site-packages\\trl\\trainer\\ppo_trainer.py:1174: UserWarning: The average ratio of batch (88.61) exceeds threshold 10.00. Skipping batch.\n",
      "  warnings.warn(\n",
      "D:\\my_projects\\gpt2_sentiment\\venv\\Lib\\site-packages\\trl\\trainer\\ppo_trainer.py:1174: UserWarning: The average ratio of batch (14.57) exceeds threshold 10.00. Skipping batch.\n",
      "  warnings.warn(\n",
      "16it [31:14, 119.28s/it]D:\\my_projects\\gpt2_sentiment\\venv\\Lib\\site-packages\\trl\\trainer\\ppo_trainer.py:1174: UserWarning: The average ratio of batch (85.59) exceeds threshold 10.00. Skipping batch.\n",
      "  warnings.warn(\n",
      "D:\\my_projects\\gpt2_sentiment\\venv\\Lib\\site-packages\\trl\\trainer\\ppo_trainer.py:1174: UserWarning: The average ratio of batch (11.04) exceeds threshold 10.00. Skipping batch.\n",
      "  warnings.warn(\n",
      "D:\\my_projects\\gpt2_sentiment\\venv\\Lib\\site-packages\\trl\\trainer\\ppo_trainer.py:1174: UserWarning: The average ratio of batch (93.74) exceeds threshold 10.00. Skipping batch.\n",
      "  warnings.warn(\n",
      "D:\\my_projects\\gpt2_sentiment\\venv\\Lib\\site-packages\\trl\\trainer\\ppo_trainer.py:1174: UserWarning: The average ratio of batch (43.79) exceeds threshold 10.00. Skipping batch.\n",
      "  warnings.warn(\n",
      "D:\\my_projects\\gpt2_sentiment\\venv\\Lib\\site-packages\\trl\\trainer\\ppo_trainer.py:1174: UserWarning: The average ratio of batch (74.77) exceeds threshold 10.00. Skipping batch.\n",
      "  warnings.warn(\n",
      "D:\\my_projects\\gpt2_sentiment\\venv\\Lib\\site-packages\\trl\\trainer\\ppo_trainer.py:1174: UserWarning: The average ratio of batch (13.02) exceeds threshold 10.00. Skipping batch.\n",
      "  warnings.warn(\n",
      "D:\\my_projects\\gpt2_sentiment\\venv\\Lib\\site-packages\\trl\\trainer\\ppo_trainer.py:1174: UserWarning: The average ratio of batch (43.89) exceeds threshold 10.00. Skipping batch.\n",
      "  warnings.warn(\n",
      "D:\\my_projects\\gpt2_sentiment\\venv\\Lib\\site-packages\\trl\\trainer\\ppo_trainer.py:1174: UserWarning: The average ratio of batch (107.23) exceeds threshold 10.00. Skipping batch.\n",
      "  warnings.warn(\n",
      "D:\\my_projects\\gpt2_sentiment\\venv\\Lib\\site-packages\\trl\\trainer\\ppo_trainer.py:1174: UserWarning: The average ratio of batch (12.41) exceeds threshold 10.00. Skipping batch.\n",
      "  warnings.warn(\n",
      "D:\\my_projects\\gpt2_sentiment\\venv\\Lib\\site-packages\\trl\\trainer\\ppo_trainer.py:1174: UserWarning: The average ratio of batch (85.06) exceeds threshold 10.00. Skipping batch.\n",
      "  warnings.warn(\n",
      "D:\\my_projects\\gpt2_sentiment\\venv\\Lib\\site-packages\\trl\\trainer\\ppo_trainer.py:1174: UserWarning: The average ratio of batch (21.72) exceeds threshold 10.00. Skipping batch.\n",
      "  warnings.warn(\n",
      "D:\\my_projects\\gpt2_sentiment\\venv\\Lib\\site-packages\\trl\\trainer\\ppo_trainer.py:1174: UserWarning: The average ratio of batch (82.52) exceeds threshold 10.00. Skipping batch.\n",
      "  warnings.warn(\n",
      "D:\\my_projects\\gpt2_sentiment\\venv\\Lib\\site-packages\\trl\\trainer\\ppo_trainer.py:1174: UserWarning: The average ratio of batch (11.81) exceeds threshold 10.00. Skipping batch.\n",
      "  warnings.warn(\n",
      "D:\\my_projects\\gpt2_sentiment\\venv\\Lib\\site-packages\\trl\\trainer\\ppo_trainer.py:1174: UserWarning: The average ratio of batch (43.52) exceeds threshold 10.00. Skipping batch.\n",
      "  warnings.warn(\n",
      "D:\\my_projects\\gpt2_sentiment\\venv\\Lib\\site-packages\\trl\\trainer\\ppo_trainer.py:1174: UserWarning: The average ratio of batch (81.76) exceeds threshold 10.00. Skipping batch.\n",
      "  warnings.warn(\n",
      "D:\\my_projects\\gpt2_sentiment\\venv\\Lib\\site-packages\\trl\\trainer\\ppo_trainer.py:1174: UserWarning: The average ratio of batch (42.88) exceeds threshold 10.00. Skipping batch.\n",
      "  warnings.warn(\n",
      "D:\\my_projects\\gpt2_sentiment\\venv\\Lib\\site-packages\\trl\\trainer\\ppo_trainer.py:1174: UserWarning: The average ratio of batch (11.74) exceeds threshold 10.00. Skipping batch.\n",
      "  warnings.warn(\n",
      "D:\\my_projects\\gpt2_sentiment\\venv\\Lib\\site-packages\\trl\\trainer\\ppo_trainer.py:1174: UserWarning: The average ratio of batch (103.13) exceeds threshold 10.00. Skipping batch.\n",
      "  warnings.warn(\n",
      "D:\\my_projects\\gpt2_sentiment\\venv\\Lib\\site-packages\\trl\\trainer\\ppo_trainer.py:1174: UserWarning: The average ratio of batch (82.34) exceeds threshold 10.00. Skipping batch.\n",
      "  warnings.warn(\n",
      "D:\\my_projects\\gpt2_sentiment\\venv\\Lib\\site-packages\\trl\\trainer\\ppo_trainer.py:1174: UserWarning: The average ratio of batch (12.46) exceeds threshold 10.00. Skipping batch.\n",
      "  warnings.warn(\n",
      "D:\\my_projects\\gpt2_sentiment\\venv\\Lib\\site-packages\\trl\\trainer\\ppo_trainer.py:1174: UserWarning: The average ratio of batch (24.21) exceeds threshold 10.00. Skipping batch.\n",
      "  warnings.warn(\n",
      "D:\\my_projects\\gpt2_sentiment\\venv\\Lib\\site-packages\\trl\\trainer\\ppo_trainer.py:1174: UserWarning: The average ratio of batch (13.51) exceeds threshold 10.00. Skipping batch.\n",
      "  warnings.warn(\n",
      "D:\\my_projects\\gpt2_sentiment\\venv\\Lib\\site-packages\\trl\\trainer\\ppo_trainer.py:1174: UserWarning: The average ratio of batch (38.34) exceeds threshold 10.00. Skipping batch.\n",
      "  warnings.warn(\n",
      "17it [33:08, 117.76s/it]D:\\my_projects\\gpt2_sentiment\\venv\\Lib\\site-packages\\trl\\trainer\\ppo_trainer.py:1174: UserWarning: The average ratio of batch (105.29) exceeds threshold 10.00. Skipping batch.\n",
      "  warnings.warn(\n",
      "D:\\my_projects\\gpt2_sentiment\\venv\\Lib\\site-packages\\trl\\trainer\\ppo_trainer.py:1174: UserWarning: The average ratio of batch (30.25) exceeds threshold 10.00. Skipping batch.\n",
      "  warnings.warn(\n",
      "D:\\my_projects\\gpt2_sentiment\\venv\\Lib\\site-packages\\trl\\trainer\\ppo_trainer.py:1174: UserWarning: The average ratio of batch (41.97) exceeds threshold 10.00. Skipping batch.\n",
      "  warnings.warn(\n",
      "D:\\my_projects\\gpt2_sentiment\\venv\\Lib\\site-packages\\trl\\trainer\\ppo_trainer.py:1174: UserWarning: The average ratio of batch (365.77) exceeds threshold 10.00. Skipping batch.\n",
      "  warnings.warn(\n",
      "D:\\my_projects\\gpt2_sentiment\\venv\\Lib\\site-packages\\trl\\trainer\\ppo_trainer.py:1174: UserWarning: The average ratio of batch (32.71) exceeds threshold 10.00. Skipping batch.\n",
      "  warnings.warn(\n",
      "D:\\my_projects\\gpt2_sentiment\\venv\\Lib\\site-packages\\trl\\trainer\\ppo_trainer.py:1174: UserWarning: The average ratio of batch (12.51) exceeds threshold 10.00. Skipping batch.\n",
      "  warnings.warn(\n",
      "D:\\my_projects\\gpt2_sentiment\\venv\\Lib\\site-packages\\trl\\trainer\\ppo_trainer.py:1174: UserWarning: The average ratio of batch (21.62) exceeds threshold 10.00. Skipping batch.\n",
      "  warnings.warn(\n",
      "D:\\my_projects\\gpt2_sentiment\\venv\\Lib\\site-packages\\trl\\trainer\\ppo_trainer.py:1174: UserWarning: The average ratio of batch (42.94) exceeds threshold 10.00. Skipping batch.\n",
      "  warnings.warn(\n",
      "D:\\my_projects\\gpt2_sentiment\\venv\\Lib\\site-packages\\trl\\trainer\\ppo_trainer.py:1174: UserWarning: The average ratio of batch (22.85) exceeds threshold 10.00. Skipping batch.\n",
      "  warnings.warn(\n",
      "D:\\my_projects\\gpt2_sentiment\\venv\\Lib\\site-packages\\trl\\trainer\\ppo_trainer.py:1174: UserWarning: The average ratio of batch (29.72) exceeds threshold 10.00. Skipping batch.\n",
      "  warnings.warn(\n",
      "D:\\my_projects\\gpt2_sentiment\\venv\\Lib\\site-packages\\trl\\trainer\\ppo_trainer.py:1174: UserWarning: The average ratio of batch (101.59) exceeds threshold 10.00. Skipping batch.\n",
      "  warnings.warn(\n",
      "D:\\my_projects\\gpt2_sentiment\\venv\\Lib\\site-packages\\trl\\trainer\\ppo_trainer.py:1174: UserWarning: The average ratio of batch (20.68) exceeds threshold 10.00. Skipping batch.\n",
      "  warnings.warn(\n",
      "D:\\my_projects\\gpt2_sentiment\\venv\\Lib\\site-packages\\trl\\trainer\\ppo_trainer.py:1174: UserWarning: The average ratio of batch (10.05) exceeds threshold 10.00. Skipping batch.\n",
      "  warnings.warn(\n",
      "D:\\my_projects\\gpt2_sentiment\\venv\\Lib\\site-packages\\trl\\trainer\\ppo_trainer.py:1174: UserWarning: The average ratio of batch (360.30) exceeds threshold 10.00. Skipping batch.\n",
      "  warnings.warn(\n",
      "D:\\my_projects\\gpt2_sentiment\\venv\\Lib\\site-packages\\trl\\trainer\\ppo_trainer.py:1174: UserWarning: The average ratio of batch (42.41) exceeds threshold 10.00. Skipping batch.\n",
      "  warnings.warn(\n",
      "D:\\my_projects\\gpt2_sentiment\\venv\\Lib\\site-packages\\trl\\trainer\\ppo_trainer.py:1174: UserWarning: The average ratio of batch (36.62) exceeds threshold 10.00. Skipping batch.\n",
      "  warnings.warn(\n",
      "D:\\my_projects\\gpt2_sentiment\\venv\\Lib\\site-packages\\trl\\trainer\\ppo_trainer.py:1174: UserWarning: The average ratio of batch (13.38) exceeds threshold 10.00. Skipping batch.\n",
      "  warnings.warn(\n",
      "D:\\my_projects\\gpt2_sentiment\\venv\\Lib\\site-packages\\trl\\trainer\\ppo_trainer.py:1174: UserWarning: The average ratio of batch (11.07) exceeds threshold 10.00. Skipping batch.\n",
      "  warnings.warn(\n",
      "D:\\my_projects\\gpt2_sentiment\\venv\\Lib\\site-packages\\trl\\trainer\\ppo_trainer.py:1174: UserWarning: The average ratio of batch (10.55) exceeds threshold 10.00. Skipping batch.\n",
      "  warnings.warn(\n",
      "D:\\my_projects\\gpt2_sentiment\\venv\\Lib\\site-packages\\trl\\trainer\\ppo_trainer.py:1174: UserWarning: The average ratio of batch (14.03) exceeds threshold 10.00. Skipping batch.\n",
      "  warnings.warn(\n",
      "D:\\my_projects\\gpt2_sentiment\\venv\\Lib\\site-packages\\trl\\trainer\\ppo_trainer.py:1174: UserWarning: The average ratio of batch (10.49) exceeds threshold 10.00. Skipping batch.\n",
      "  warnings.warn(\n",
      "D:\\my_projects\\gpt2_sentiment\\venv\\Lib\\site-packages\\trl\\trainer\\ppo_trainer.py:1174: UserWarning: The average ratio of batch (21.04) exceeds threshold 10.00. Skipping batch.\n",
      "  warnings.warn(\n",
      "D:\\my_projects\\gpt2_sentiment\\venv\\Lib\\site-packages\\trl\\trainer\\ppo_trainer.py:1174: UserWarning: The average ratio of batch (40.20) exceeds threshold 10.00. Skipping batch.\n",
      "  warnings.warn(\n",
      "D:\\my_projects\\gpt2_sentiment\\venv\\Lib\\site-packages\\trl\\trainer\\ppo_trainer.py:1174: UserWarning: The average ratio of batch (45.75) exceeds threshold 10.00. Skipping batch.\n",
      "  warnings.warn(\n",
      "D:\\my_projects\\gpt2_sentiment\\venv\\Lib\\site-packages\\trl\\trainer\\ppo_trainer.py:1174: UserWarning: The average ratio of batch (102.91) exceeds threshold 10.00. Skipping batch.\n",
      "  warnings.warn(\n",
      "D:\\my_projects\\gpt2_sentiment\\venv\\Lib\\site-packages\\trl\\trainer\\ppo_trainer.py:1174: UserWarning: The average ratio of batch (13.78) exceeds threshold 10.00. Skipping batch.\n",
      "  warnings.warn(\n",
      "D:\\my_projects\\gpt2_sentiment\\venv\\Lib\\site-packages\\trl\\trainer\\ppo_trainer.py:1174: UserWarning: The average ratio of batch (382.20) exceeds threshold 10.00. Skipping batch.\n",
      "  warnings.warn(\n",
      "D:\\my_projects\\gpt2_sentiment\\venv\\Lib\\site-packages\\trl\\trainer\\ppo_trainer.py:1174: UserWarning: The average ratio of batch (27.31) exceeds threshold 10.00. Skipping batch.\n",
      "  warnings.warn(\n",
      "D:\\my_projects\\gpt2_sentiment\\venv\\Lib\\site-packages\\trl\\trainer\\ppo_trainer.py:1174: UserWarning: The average ratio of batch (42.34) exceeds threshold 10.00. Skipping batch.\n",
      "  warnings.warn(\n",
      "D:\\my_projects\\gpt2_sentiment\\venv\\Lib\\site-packages\\trl\\trainer\\ppo_trainer.py:1174: UserWarning: The average ratio of batch (11.29) exceeds threshold 10.00. Skipping batch.\n",
      "  warnings.warn(\n",
      "D:\\my_projects\\gpt2_sentiment\\venv\\Lib\\site-packages\\trl\\trainer\\ppo_trainer.py:1174: UserWarning: The average ratio of batch (34.55) exceeds threshold 10.00. Skipping batch.\n",
      "  warnings.warn(\n",
      "18it [35:03, 116.92s/it]D:\\my_projects\\gpt2_sentiment\\venv\\Lib\\site-packages\\trl\\trainer\\ppo_trainer.py:1174: UserWarning: The average ratio of batch (13.60) exceeds threshold 10.00. Skipping batch.\n",
      "  warnings.warn(\n",
      "D:\\my_projects\\gpt2_sentiment\\venv\\Lib\\site-packages\\trl\\trainer\\ppo_trainer.py:1174: UserWarning: The average ratio of batch (38.29) exceeds threshold 10.00. Skipping batch.\n",
      "  warnings.warn(\n",
      "D:\\my_projects\\gpt2_sentiment\\venv\\Lib\\site-packages\\trl\\trainer\\ppo_trainer.py:1174: UserWarning: The average ratio of batch (120.21) exceeds threshold 10.00. Skipping batch.\n",
      "  warnings.warn(\n",
      "D:\\my_projects\\gpt2_sentiment\\venv\\Lib\\site-packages\\trl\\trainer\\ppo_trainer.py:1174: UserWarning: The average ratio of batch (219.74) exceeds threshold 10.00. Skipping batch.\n",
      "  warnings.warn(\n",
      "D:\\my_projects\\gpt2_sentiment\\venv\\Lib\\site-packages\\trl\\trainer\\ppo_trainer.py:1174: UserWarning: The average ratio of batch (57.04) exceeds threshold 10.00. Skipping batch.\n",
      "  warnings.warn(\n",
      "D:\\my_projects\\gpt2_sentiment\\venv\\Lib\\site-packages\\trl\\trainer\\ppo_trainer.py:1174: UserWarning: The average ratio of batch (10.87) exceeds threshold 10.00. Skipping batch.\n",
      "  warnings.warn(\n",
      "D:\\my_projects\\gpt2_sentiment\\venv\\Lib\\site-packages\\trl\\trainer\\ppo_trainer.py:1174: UserWarning: The average ratio of batch (20.19) exceeds threshold 10.00. Skipping batch.\n",
      "  warnings.warn(\n",
      "D:\\my_projects\\gpt2_sentiment\\venv\\Lib\\site-packages\\trl\\trainer\\ppo_trainer.py:1174: UserWarning: The average ratio of batch (20.55) exceeds threshold 10.00. Skipping batch.\n",
      "  warnings.warn(\n",
      "D:\\my_projects\\gpt2_sentiment\\venv\\Lib\\site-packages\\trl\\trainer\\ppo_trainer.py:1174: UserWarning: The average ratio of batch (266.02) exceeds threshold 10.00. Skipping batch.\n",
      "  warnings.warn(\n",
      "D:\\my_projects\\gpt2_sentiment\\venv\\Lib\\site-packages\\trl\\trainer\\ppo_trainer.py:1174: UserWarning: The average ratio of batch (40.73) exceeds threshold 10.00. Skipping batch.\n",
      "  warnings.warn(\n",
      "D:\\my_projects\\gpt2_sentiment\\venv\\Lib\\site-packages\\trl\\trainer\\ppo_trainer.py:1174: UserWarning: The average ratio of batch (19.86) exceeds threshold 10.00. Skipping batch.\n",
      "  warnings.warn(\n",
      "D:\\my_projects\\gpt2_sentiment\\venv\\Lib\\site-packages\\trl\\trainer\\ppo_trainer.py:1174: UserWarning: The average ratio of batch (116.25) exceeds threshold 10.00. Skipping batch.\n",
      "  warnings.warn(\n",
      "D:\\my_projects\\gpt2_sentiment\\venv\\Lib\\site-packages\\trl\\trainer\\ppo_trainer.py:1174: UserWarning: The average ratio of batch (20.52) exceeds threshold 10.00. Skipping batch.\n",
      "  warnings.warn(\n",
      "D:\\my_projects\\gpt2_sentiment\\venv\\Lib\\site-packages\\trl\\trainer\\ppo_trainer.py:1174: UserWarning: The average ratio of batch (35.99) exceeds threshold 10.00. Skipping batch.\n",
      "  warnings.warn(\n",
      "D:\\my_projects\\gpt2_sentiment\\venv\\Lib\\site-packages\\trl\\trainer\\ppo_trainer.py:1174: UserWarning: The average ratio of batch (18.13) exceeds threshold 10.00. Skipping batch.\n",
      "  warnings.warn(\n",
      "D:\\my_projects\\gpt2_sentiment\\venv\\Lib\\site-packages\\trl\\trainer\\ppo_trainer.py:1174: UserWarning: The average ratio of batch (10.15) exceeds threshold 10.00. Skipping batch.\n",
      "  warnings.warn(\n",
      "D:\\my_projects\\gpt2_sentiment\\venv\\Lib\\site-packages\\trl\\trainer\\ppo_trainer.py:1174: UserWarning: The average ratio of batch (45.87) exceeds threshold 10.00. Skipping batch.\n",
      "  warnings.warn(\n",
      "D:\\my_projects\\gpt2_sentiment\\venv\\Lib\\site-packages\\trl\\trainer\\ppo_trainer.py:1174: UserWarning: The average ratio of batch (21.16) exceeds threshold 10.00. Skipping batch.\n",
      "  warnings.warn(\n",
      "D:\\my_projects\\gpt2_sentiment\\venv\\Lib\\site-packages\\trl\\trainer\\ppo_trainer.py:1174: UserWarning: The average ratio of batch (48.12) exceeds threshold 10.00. Skipping batch.\n",
      "  warnings.warn(\n",
      "D:\\my_projects\\gpt2_sentiment\\venv\\Lib\\site-packages\\trl\\trainer\\ppo_trainer.py:1174: UserWarning: The average ratio of batch (40.61) exceeds threshold 10.00. Skipping batch.\n",
      "  warnings.warn(\n",
      "D:\\my_projects\\gpt2_sentiment\\venv\\Lib\\site-packages\\trl\\trainer\\ppo_trainer.py:1174: UserWarning: The average ratio of batch (11.15) exceeds threshold 10.00. Skipping batch.\n",
      "  warnings.warn(\n",
      "D:\\my_projects\\gpt2_sentiment\\venv\\Lib\\site-packages\\trl\\trainer\\ppo_trainer.py:1174: UserWarning: The average ratio of batch (135.05) exceeds threshold 10.00. Skipping batch.\n",
      "  warnings.warn(\n",
      "D:\\my_projects\\gpt2_sentiment\\venv\\Lib\\site-packages\\trl\\trainer\\ppo_trainer.py:1174: UserWarning: The average ratio of batch (10.04) exceeds threshold 10.00. Skipping batch.\n",
      "  warnings.warn(\n",
      "D:\\my_projects\\gpt2_sentiment\\venv\\Lib\\site-packages\\trl\\trainer\\ppo_trainer.py:1174: UserWarning: The average ratio of batch (22.74) exceeds threshold 10.00. Skipping batch.\n",
      "  warnings.warn(\n",
      "D:\\my_projects\\gpt2_sentiment\\venv\\Lib\\site-packages\\trl\\trainer\\ppo_trainer.py:1174: UserWarning: The average ratio of batch (18.89) exceeds threshold 10.00. Skipping batch.\n",
      "  warnings.warn(\n",
      "D:\\my_projects\\gpt2_sentiment\\venv\\Lib\\site-packages\\trl\\trainer\\ppo_trainer.py:1174: UserWarning: The average ratio of batch (10.32) exceeds threshold 10.00. Skipping batch.\n",
      "  warnings.warn(\n",
      "D:\\my_projects\\gpt2_sentiment\\venv\\Lib\\site-packages\\trl\\trainer\\ppo_trainer.py:1174: UserWarning: The average ratio of batch (201.95) exceeds threshold 10.00. Skipping batch.\n",
      "  warnings.warn(\n",
      "D:\\my_projects\\gpt2_sentiment\\venv\\Lib\\site-packages\\trl\\trainer\\ppo_trainer.py:1174: UserWarning: The average ratio of batch (14.06) exceeds threshold 10.00. Skipping batch.\n",
      "  warnings.warn(\n",
      "D:\\my_projects\\gpt2_sentiment\\venv\\Lib\\site-packages\\trl\\trainer\\ppo_trainer.py:1174: UserWarning: The average ratio of batch (19.98) exceeds threshold 10.00. Skipping batch.\n",
      "  warnings.warn(\n",
      "D:\\my_projects\\gpt2_sentiment\\venv\\Lib\\site-packages\\trl\\trainer\\ppo_trainer.py:1174: UserWarning: The average ratio of batch (38.12) exceeds threshold 10.00. Skipping batch.\n",
      "  warnings.warn(\n",
      "19it [36:53, 114.90s/it]D:\\my_projects\\gpt2_sentiment\\venv\\Lib\\site-packages\\trl\\trainer\\ppo_trainer.py:1174: UserWarning: The average ratio of batch (15.48) exceeds threshold 10.00. Skipping batch.\n",
      "  warnings.warn(\n",
      "D:\\my_projects\\gpt2_sentiment\\venv\\Lib\\site-packages\\trl\\trainer\\ppo_trainer.py:1174: UserWarning: The average ratio of batch (10.69) exceeds threshold 10.00. Skipping batch.\n",
      "  warnings.warn(\n",
      "D:\\my_projects\\gpt2_sentiment\\venv\\Lib\\site-packages\\trl\\trainer\\ppo_trainer.py:1174: UserWarning: The average ratio of batch (129.83) exceeds threshold 10.00. Skipping batch.\n",
      "  warnings.warn(\n",
      "D:\\my_projects\\gpt2_sentiment\\venv\\Lib\\site-packages\\trl\\trainer\\ppo_trainer.py:1174: UserWarning: The average ratio of batch (52.43) exceeds threshold 10.00. Skipping batch.\n",
      "  warnings.warn(\n",
      "D:\\my_projects\\gpt2_sentiment\\venv\\Lib\\site-packages\\trl\\trainer\\ppo_trainer.py:1174: UserWarning: The average ratio of batch (15.14) exceeds threshold 10.00. Skipping batch.\n",
      "  warnings.warn(\n",
      "D:\\my_projects\\gpt2_sentiment\\venv\\Lib\\site-packages\\trl\\trainer\\ppo_trainer.py:1174: UserWarning: The average ratio of batch (25.14) exceeds threshold 10.00. Skipping batch.\n",
      "  warnings.warn(\n",
      "D:\\my_projects\\gpt2_sentiment\\venv\\Lib\\site-packages\\trl\\trainer\\ppo_trainer.py:1174: UserWarning: The average ratio of batch (53.71) exceeds threshold 10.00. Skipping batch.\n",
      "  warnings.warn(\n",
      "D:\\my_projects\\gpt2_sentiment\\venv\\Lib\\site-packages\\trl\\trainer\\ppo_trainer.py:1174: UserWarning: The average ratio of batch (12.72) exceeds threshold 10.00. Skipping batch.\n",
      "  warnings.warn(\n",
      "D:\\my_projects\\gpt2_sentiment\\venv\\Lib\\site-packages\\trl\\trainer\\ppo_trainer.py:1174: UserWarning: The average ratio of batch (250.45) exceeds threshold 10.00. Skipping batch.\n",
      "  warnings.warn(\n",
      "D:\\my_projects\\gpt2_sentiment\\venv\\Lib\\site-packages\\trl\\trainer\\ppo_trainer.py:1174: UserWarning: The average ratio of batch (13.87) exceeds threshold 10.00. Skipping batch.\n",
      "  warnings.warn(\n",
      "D:\\my_projects\\gpt2_sentiment\\venv\\Lib\\site-packages\\trl\\trainer\\ppo_trainer.py:1174: UserWarning: The average ratio of batch (72.95) exceeds threshold 10.00. Skipping batch.\n",
      "  warnings.warn(\n",
      "D:\\my_projects\\gpt2_sentiment\\venv\\Lib\\site-packages\\trl\\trainer\\ppo_trainer.py:1174: UserWarning: The average ratio of batch (21.85) exceeds threshold 10.00. Skipping batch.\n",
      "  warnings.warn(\n",
      "D:\\my_projects\\gpt2_sentiment\\venv\\Lib\\site-packages\\trl\\trainer\\ppo_trainer.py:1174: UserWarning: The average ratio of batch (11.42) exceeds threshold 10.00. Skipping batch.\n",
      "  warnings.warn(\n",
      "D:\\my_projects\\gpt2_sentiment\\venv\\Lib\\site-packages\\trl\\trainer\\ppo_trainer.py:1174: UserWarning: The average ratio of batch (56.92) exceeds threshold 10.00. Skipping batch.\n",
      "  warnings.warn(\n",
      "D:\\my_projects\\gpt2_sentiment\\venv\\Lib\\site-packages\\trl\\trainer\\ppo_trainer.py:1174: UserWarning: The average ratio of batch (249.53) exceeds threshold 10.00. Skipping batch.\n",
      "  warnings.warn(\n",
      "D:\\my_projects\\gpt2_sentiment\\venv\\Lib\\site-packages\\trl\\trainer\\ppo_trainer.py:1174: UserWarning: The average ratio of batch (73.00) exceeds threshold 10.00. Skipping batch.\n",
      "  warnings.warn(\n",
      "D:\\my_projects\\gpt2_sentiment\\venv\\Lib\\site-packages\\trl\\trainer\\ppo_trainer.py:1174: UserWarning: The average ratio of batch (123.55) exceeds threshold 10.00. Skipping batch.\n",
      "  warnings.warn(\n",
      "D:\\my_projects\\gpt2_sentiment\\venv\\Lib\\site-packages\\trl\\trainer\\ppo_trainer.py:1174: UserWarning: The average ratio of batch (14.05) exceeds threshold 10.00. Skipping batch.\n",
      "  warnings.warn(\n",
      "D:\\my_projects\\gpt2_sentiment\\venv\\Lib\\site-packages\\trl\\trainer\\ppo_trainer.py:1174: UserWarning: The average ratio of batch (16.59) exceeds threshold 10.00. Skipping batch.\n",
      "  warnings.warn(\n",
      "D:\\my_projects\\gpt2_sentiment\\venv\\Lib\\site-packages\\trl\\trainer\\ppo_trainer.py:1174: UserWarning: The average ratio of batch (20.96) exceeds threshold 10.00. Skipping batch.\n",
      "  warnings.warn(\n",
      "D:\\my_projects\\gpt2_sentiment\\venv\\Lib\\site-packages\\trl\\trainer\\ppo_trainer.py:1174: UserWarning: The average ratio of batch (25.90) exceeds threshold 10.00. Skipping batch.\n",
      "  warnings.warn(\n",
      "D:\\my_projects\\gpt2_sentiment\\venv\\Lib\\site-packages\\trl\\trainer\\ppo_trainer.py:1174: UserWarning: The average ratio of batch (45.03) exceeds threshold 10.00. Skipping batch.\n",
      "  warnings.warn(\n",
      "D:\\my_projects\\gpt2_sentiment\\venv\\Lib\\site-packages\\trl\\trainer\\ppo_trainer.py:1174: UserWarning: The average ratio of batch (12.52) exceeds threshold 10.00. Skipping batch.\n",
      "  warnings.warn(\n",
      "D:\\my_projects\\gpt2_sentiment\\venv\\Lib\\site-packages\\trl\\trainer\\ppo_trainer.py:1174: UserWarning: The average ratio of batch (15.80) exceeds threshold 10.00. Skipping batch.\n",
      "  warnings.warn(\n",
      "D:\\my_projects\\gpt2_sentiment\\venv\\Lib\\site-packages\\trl\\trainer\\ppo_trainer.py:1174: UserWarning: The average ratio of batch (43.86) exceeds threshold 10.00. Skipping batch.\n",
      "  warnings.warn(\n",
      "D:\\my_projects\\gpt2_sentiment\\venv\\Lib\\site-packages\\trl\\trainer\\ppo_trainer.py:1174: UserWarning: The average ratio of batch (56.80) exceeds threshold 10.00. Skipping batch.\n",
      "  warnings.warn(\n",
      "D:\\my_projects\\gpt2_sentiment\\venv\\Lib\\site-packages\\trl\\trainer\\ppo_trainer.py:1174: UserWarning: The average ratio of batch (24.22) exceeds threshold 10.00. Skipping batch.\n",
      "  warnings.warn(\n",
      "D:\\my_projects\\gpt2_sentiment\\venv\\Lib\\site-packages\\trl\\trainer\\ppo_trainer.py:1174: UserWarning: The average ratio of batch (10.36) exceeds threshold 10.00. Skipping batch.\n",
      "  warnings.warn(\n",
      "D:\\my_projects\\gpt2_sentiment\\venv\\Lib\\site-packages\\trl\\trainer\\ppo_trainer.py:1174: UserWarning: The average ratio of batch (13.65) exceeds threshold 10.00. Skipping batch.\n",
      "  warnings.warn(\n",
      "D:\\my_projects\\gpt2_sentiment\\venv\\Lib\\site-packages\\trl\\trainer\\ppo_trainer.py:1174: UserWarning: The average ratio of batch (13.77) exceeds threshold 10.00. Skipping batch.\n",
      "  warnings.warn(\n",
      "D:\\my_projects\\gpt2_sentiment\\venv\\Lib\\site-packages\\trl\\trainer\\ppo_trainer.py:1174: UserWarning: The average ratio of batch (109.02) exceeds threshold 10.00. Skipping batch.\n",
      "  warnings.warn(\n",
      "D:\\my_projects\\gpt2_sentiment\\venv\\Lib\\site-packages\\trl\\trainer\\ppo_trainer.py:1174: UserWarning: The average ratio of batch (25.50) exceeds threshold 10.00. Skipping batch.\n",
      "  warnings.warn(\n",
      "D:\\my_projects\\gpt2_sentiment\\venv\\Lib\\site-packages\\trl\\trainer\\ppo_trainer.py:1174: UserWarning: The average ratio of batch (73.26) exceeds threshold 10.00. Skipping batch.\n",
      "  warnings.warn(\n",
      "D:\\my_projects\\gpt2_sentiment\\venv\\Lib\\site-packages\\trl\\trainer\\ppo_trainer.py:1174: UserWarning: The average ratio of batch (10.38) exceeds threshold 10.00. Skipping batch.\n",
      "  warnings.warn(\n",
      "D:\\my_projects\\gpt2_sentiment\\venv\\Lib\\site-packages\\trl\\trainer\\ppo_trainer.py:1174: UserWarning: The average ratio of batch (269.76) exceeds threshold 10.00. Skipping batch.\n",
      "  warnings.warn(\n",
      "D:\\my_projects\\gpt2_sentiment\\venv\\Lib\\site-packages\\trl\\trainer\\ppo_trainer.py:1174: UserWarning: The average ratio of batch (15.85) exceeds threshold 10.00. Skipping batch.\n",
      "  warnings.warn(\n",
      "D:\\my_projects\\gpt2_sentiment\\venv\\Lib\\site-packages\\trl\\trainer\\ppo_trainer.py:1174: UserWarning: The average ratio of batch (22.46) exceeds threshold 10.00. Skipping batch.\n",
      "  warnings.warn(\n",
      "20it [38:45, 114.02s/it]D:\\my_projects\\gpt2_sentiment\\venv\\Lib\\site-packages\\trl\\trainer\\ppo_trainer.py:1174: UserWarning: The average ratio of batch (51.20) exceeds threshold 10.00. Skipping batch.\n",
      "  warnings.warn(\n",
      "D:\\my_projects\\gpt2_sentiment\\venv\\Lib\\site-packages\\trl\\trainer\\ppo_trainer.py:1174: UserWarning: The average ratio of batch (95.59) exceeds threshold 10.00. Skipping batch.\n",
      "  warnings.warn(\n",
      "D:\\my_projects\\gpt2_sentiment\\venv\\Lib\\site-packages\\trl\\trainer\\ppo_trainer.py:1174: UserWarning: The average ratio of batch (13.47) exceeds threshold 10.00. Skipping batch.\n",
      "  warnings.warn(\n",
      "D:\\my_projects\\gpt2_sentiment\\venv\\Lib\\site-packages\\trl\\trainer\\ppo_trainer.py:1174: UserWarning: The average ratio of batch (25.01) exceeds threshold 10.00. Skipping batch.\n",
      "  warnings.warn(\n",
      "D:\\my_projects\\gpt2_sentiment\\venv\\Lib\\site-packages\\trl\\trainer\\ppo_trainer.py:1174: UserWarning: The average ratio of batch (18.32) exceeds threshold 10.00. Skipping batch.\n",
      "  warnings.warn(\n",
      "D:\\my_projects\\gpt2_sentiment\\venv\\Lib\\site-packages\\trl\\trainer\\ppo_trainer.py:1174: UserWarning: The average ratio of batch (11.76) exceeds threshold 10.00. Skipping batch.\n",
      "  warnings.warn(\n",
      "D:\\my_projects\\gpt2_sentiment\\venv\\Lib\\site-packages\\trl\\trainer\\ppo_trainer.py:1174: UserWarning: The average ratio of batch (16.92) exceeds threshold 10.00. Skipping batch.\n",
      "  warnings.warn(\n",
      "D:\\my_projects\\gpt2_sentiment\\venv\\Lib\\site-packages\\trl\\trainer\\ppo_trainer.py:1174: UserWarning: The average ratio of batch (16.55) exceeds threshold 10.00. Skipping batch.\n",
      "  warnings.warn(\n",
      "D:\\my_projects\\gpt2_sentiment\\venv\\Lib\\site-packages\\trl\\trainer\\ppo_trainer.py:1174: UserWarning: The average ratio of batch (21.56) exceeds threshold 10.00. Skipping batch.\n",
      "  warnings.warn(\n",
      "D:\\my_projects\\gpt2_sentiment\\venv\\Lib\\site-packages\\trl\\trainer\\ppo_trainer.py:1174: UserWarning: The average ratio of batch (17.95) exceeds threshold 10.00. Skipping batch.\n",
      "  warnings.warn(\n",
      "D:\\my_projects\\gpt2_sentiment\\venv\\Lib\\site-packages\\trl\\trainer\\ppo_trainer.py:1174: UserWarning: The average ratio of batch (21.41) exceeds threshold 10.00. Skipping batch.\n",
      "  warnings.warn(\n",
      "D:\\my_projects\\gpt2_sentiment\\venv\\Lib\\site-packages\\trl\\trainer\\ppo_trainer.py:1174: UserWarning: The average ratio of batch (17.83) exceeds threshold 10.00. Skipping batch.\n",
      "  warnings.warn(\n",
      "D:\\my_projects\\gpt2_sentiment\\venv\\Lib\\site-packages\\trl\\trainer\\ppo_trainer.py:1174: UserWarning: The average ratio of batch (16.64) exceeds threshold 10.00. Skipping batch.\n",
      "  warnings.warn(\n",
      "D:\\my_projects\\gpt2_sentiment\\venv\\Lib\\site-packages\\trl\\trainer\\ppo_trainer.py:1174: UserWarning: The average ratio of batch (51.36) exceeds threshold 10.00. Skipping batch.\n",
      "  warnings.warn(\n",
      "D:\\my_projects\\gpt2_sentiment\\venv\\Lib\\site-packages\\trl\\trainer\\ppo_trainer.py:1174: UserWarning: The average ratio of batch (47.27) exceeds threshold 10.00. Skipping batch.\n",
      "  warnings.warn(\n",
      "D:\\my_projects\\gpt2_sentiment\\venv\\Lib\\site-packages\\trl\\trainer\\ppo_trainer.py:1174: UserWarning: The average ratio of batch (11.36) exceeds threshold 10.00. Skipping batch.\n",
      "  warnings.warn(\n",
      "D:\\my_projects\\gpt2_sentiment\\venv\\Lib\\site-packages\\trl\\trainer\\ppo_trainer.py:1174: UserWarning: The average ratio of batch (17.88) exceeds threshold 10.00. Skipping batch.\n",
      "  warnings.warn(\n",
      "D:\\my_projects\\gpt2_sentiment\\venv\\Lib\\site-packages\\trl\\trainer\\ppo_trainer.py:1174: UserWarning: The average ratio of batch (21.22) exceeds threshold 10.00. Skipping batch.\n",
      "  warnings.warn(\n",
      "D:\\my_projects\\gpt2_sentiment\\venv\\Lib\\site-packages\\trl\\trainer\\ppo_trainer.py:1174: UserWarning: The average ratio of batch (18.20) exceeds threshold 10.00. Skipping batch.\n",
      "  warnings.warn(\n",
      "D:\\my_projects\\gpt2_sentiment\\venv\\Lib\\site-packages\\trl\\trainer\\ppo_trainer.py:1174: UserWarning: The average ratio of batch (14.99) exceeds threshold 10.00. Skipping batch.\n",
      "  warnings.warn(\n",
      "D:\\my_projects\\gpt2_sentiment\\venv\\Lib\\site-packages\\trl\\trainer\\ppo_trainer.py:1174: UserWarning: The average ratio of batch (11.33) exceeds threshold 10.00. Skipping batch.\n",
      "  warnings.warn(\n",
      "D:\\my_projects\\gpt2_sentiment\\venv\\Lib\\site-packages\\trl\\trainer\\ppo_trainer.py:1174: UserWarning: The average ratio of batch (21.67) exceeds threshold 10.00. Skipping batch.\n",
      "  warnings.warn(\n",
      "D:\\my_projects\\gpt2_sentiment\\venv\\Lib\\site-packages\\trl\\trainer\\ppo_trainer.py:1174: UserWarning: The average ratio of batch (12.55) exceeds threshold 10.00. Skipping batch.\n",
      "  warnings.warn(\n",
      "D:\\my_projects\\gpt2_sentiment\\venv\\Lib\\site-packages\\trl\\trainer\\ppo_trainer.py:1174: UserWarning: The average ratio of batch (50.19) exceeds threshold 10.00. Skipping batch.\n",
      "  warnings.warn(\n",
      "D:\\my_projects\\gpt2_sentiment\\venv\\Lib\\site-packages\\trl\\trainer\\ppo_trainer.py:1174: UserWarning: The average ratio of batch (51.24) exceeds threshold 10.00. Skipping batch.\n",
      "  warnings.warn(\n",
      "21it [40:33, 112.10s/it]D:\\my_projects\\gpt2_sentiment\\venv\\Lib\\site-packages\\trl\\trainer\\ppo_trainer.py:1174: UserWarning: The average ratio of batch (18.59) exceeds threshold 10.00. Skipping batch.\n",
      "  warnings.warn(\n",
      "D:\\my_projects\\gpt2_sentiment\\venv\\Lib\\site-packages\\trl\\trainer\\ppo_trainer.py:1174: UserWarning: The average ratio of batch (3451.93) exceeds threshold 10.00. Skipping batch.\n",
      "  warnings.warn(\n",
      "D:\\my_projects\\gpt2_sentiment\\venv\\Lib\\site-packages\\trl\\trainer\\ppo_trainer.py:1174: UserWarning: The average ratio of batch (27.32) exceeds threshold 10.00. Skipping batch.\n",
      "  warnings.warn(\n",
      "D:\\my_projects\\gpt2_sentiment\\venv\\Lib\\site-packages\\trl\\trainer\\ppo_trainer.py:1174: UserWarning: The average ratio of batch (12.09) exceeds threshold 10.00. Skipping batch.\n",
      "  warnings.warn(\n",
      "D:\\my_projects\\gpt2_sentiment\\venv\\Lib\\site-packages\\trl\\trainer\\ppo_trainer.py:1174: UserWarning: The average ratio of batch (17.06) exceeds threshold 10.00. Skipping batch.\n",
      "  warnings.warn(\n",
      "D:\\my_projects\\gpt2_sentiment\\venv\\Lib\\site-packages\\trl\\trainer\\ppo_trainer.py:1174: UserWarning: The average ratio of batch (36.89) exceeds threshold 10.00. Skipping batch.\n",
      "  warnings.warn(\n",
      "D:\\my_projects\\gpt2_sentiment\\venv\\Lib\\site-packages\\trl\\trainer\\ppo_trainer.py:1174: UserWarning: The average ratio of batch (17.24) exceeds threshold 10.00. Skipping batch.\n",
      "  warnings.warn(\n",
      "D:\\my_projects\\gpt2_sentiment\\venv\\Lib\\site-packages\\trl\\trainer\\ppo_trainer.py:1174: UserWarning: The average ratio of batch (37.04) exceeds threshold 10.00. Skipping batch.\n",
      "  warnings.warn(\n",
      "D:\\my_projects\\gpt2_sentiment\\venv\\Lib\\site-packages\\trl\\trainer\\ppo_trainer.py:1174: UserWarning: The average ratio of batch (28.23) exceeds threshold 10.00. Skipping batch.\n",
      "  warnings.warn(\n",
      "D:\\my_projects\\gpt2_sentiment\\venv\\Lib\\site-packages\\trl\\trainer\\ppo_trainer.py:1174: UserWarning: The average ratio of batch (19.07) exceeds threshold 10.00. Skipping batch.\n",
      "  warnings.warn(\n",
      "D:\\my_projects\\gpt2_sentiment\\venv\\Lib\\site-packages\\trl\\trainer\\ppo_trainer.py:1174: UserWarning: The average ratio of batch (11.95) exceeds threshold 10.00. Skipping batch.\n",
      "  warnings.warn(\n",
      "D:\\my_projects\\gpt2_sentiment\\venv\\Lib\\site-packages\\trl\\trainer\\ppo_trainer.py:1174: UserWarning: The average ratio of batch (16.95) exceeds threshold 10.00. Skipping batch.\n",
      "  warnings.warn(\n",
      "D:\\my_projects\\gpt2_sentiment\\venv\\Lib\\site-packages\\trl\\trainer\\ppo_trainer.py:1174: UserWarning: The average ratio of batch (62.02) exceeds threshold 10.00. Skipping batch.\n",
      "  warnings.warn(\n",
      "D:\\my_projects\\gpt2_sentiment\\venv\\Lib\\site-packages\\trl\\trainer\\ppo_trainer.py:1174: UserWarning: The average ratio of batch (15.51) exceeds threshold 10.00. Skipping batch.\n",
      "  warnings.warn(\n",
      "D:\\my_projects\\gpt2_sentiment\\venv\\Lib\\site-packages\\trl\\trainer\\ppo_trainer.py:1174: UserWarning: The average ratio of batch (5138.76) exceeds threshold 10.00. Skipping batch.\n",
      "  warnings.warn(\n",
      "D:\\my_projects\\gpt2_sentiment\\venv\\Lib\\site-packages\\trl\\trainer\\ppo_trainer.py:1174: UserWarning: The average ratio of batch (30.17) exceeds threshold 10.00. Skipping batch.\n",
      "  warnings.warn(\n",
      "D:\\my_projects\\gpt2_sentiment\\venv\\Lib\\site-packages\\trl\\trainer\\ppo_trainer.py:1174: UserWarning: The average ratio of batch (35.87) exceeds threshold 10.00. Skipping batch.\n",
      "  warnings.warn(\n",
      "D:\\my_projects\\gpt2_sentiment\\venv\\Lib\\site-packages\\trl\\trainer\\ppo_trainer.py:1174: UserWarning: The average ratio of batch (27.99) exceeds threshold 10.00. Skipping batch.\n",
      "  warnings.warn(\n",
      "D:\\my_projects\\gpt2_sentiment\\venv\\Lib\\site-packages\\trl\\trainer\\ppo_trainer.py:1174: UserWarning: The average ratio of batch (28.15) exceeds threshold 10.00. Skipping batch.\n",
      "  warnings.warn(\n",
      "D:\\my_projects\\gpt2_sentiment\\venv\\Lib\\site-packages\\trl\\trainer\\ppo_trainer.py:1174: UserWarning: The average ratio of batch (19.17) exceeds threshold 10.00. Skipping batch.\n",
      "  warnings.warn(\n",
      "D:\\my_projects\\gpt2_sentiment\\venv\\Lib\\site-packages\\trl\\trainer\\ppo_trainer.py:1174: UserWarning: The average ratio of batch (17.58) exceeds threshold 10.00. Skipping batch.\n",
      "  warnings.warn(\n",
      "D:\\my_projects\\gpt2_sentiment\\venv\\Lib\\site-packages\\trl\\trainer\\ppo_trainer.py:1174: UserWarning: The average ratio of batch (56.68) exceeds threshold 10.00. Skipping batch.\n",
      "  warnings.warn(\n",
      "D:\\my_projects\\gpt2_sentiment\\venv\\Lib\\site-packages\\trl\\trainer\\ppo_trainer.py:1174: UserWarning: The average ratio of batch (17.99) exceeds threshold 10.00. Skipping batch.\n",
      "  warnings.warn(\n",
      "D:\\my_projects\\gpt2_sentiment\\venv\\Lib\\site-packages\\trl\\trainer\\ppo_trainer.py:1174: UserWarning: The average ratio of batch (4875.68) exceeds threshold 10.00. Skipping batch.\n",
      "  warnings.warn(\n",
      "D:\\my_projects\\gpt2_sentiment\\venv\\Lib\\site-packages\\trl\\trainer\\ppo_trainer.py:1174: UserWarning: The average ratio of batch (16.41) exceeds threshold 10.00. Skipping batch.\n",
      "  warnings.warn(\n",
      "D:\\my_projects\\gpt2_sentiment\\venv\\Lib\\site-packages\\trl\\trainer\\ppo_trainer.py:1174: UserWarning: The average ratio of batch (12.54) exceeds threshold 10.00. Skipping batch.\n",
      "  warnings.warn(\n",
      "D:\\my_projects\\gpt2_sentiment\\venv\\Lib\\site-packages\\trl\\trainer\\ppo_trainer.py:1174: UserWarning: The average ratio of batch (12.71) exceeds threshold 10.00. Skipping batch.\n",
      "  warnings.warn(\n",
      "D:\\my_projects\\gpt2_sentiment\\venv\\Lib\\site-packages\\trl\\trainer\\ppo_trainer.py:1174: UserWarning: The average ratio of batch (12.94) exceeds threshold 10.00. Skipping batch.\n",
      "  warnings.warn(\n",
      "22it [42:20, 110.65s/it]D:\\my_projects\\gpt2_sentiment\\venv\\Lib\\site-packages\\trl\\trainer\\ppo_trainer.py:1174: UserWarning: The average ratio of batch (10.39) exceeds threshold 10.00. Skipping batch.\n",
      "  warnings.warn(\n",
      "D:\\my_projects\\gpt2_sentiment\\venv\\Lib\\site-packages\\trl\\trainer\\ppo_trainer.py:1174: UserWarning: The average ratio of batch (21.81) exceeds threshold 10.00. Skipping batch.\n",
      "  warnings.warn(\n",
      "D:\\my_projects\\gpt2_sentiment\\venv\\Lib\\site-packages\\trl\\trainer\\ppo_trainer.py:1174: UserWarning: The average ratio of batch (22.62) exceeds threshold 10.00. Skipping batch.\n",
      "  warnings.warn(\n",
      "D:\\my_projects\\gpt2_sentiment\\venv\\Lib\\site-packages\\trl\\trainer\\ppo_trainer.py:1174: UserWarning: The average ratio of batch (107.11) exceeds threshold 10.00. Skipping batch.\n",
      "  warnings.warn(\n",
      "D:\\my_projects\\gpt2_sentiment\\venv\\Lib\\site-packages\\trl\\trainer\\ppo_trainer.py:1174: UserWarning: The average ratio of batch (541.32) exceeds threshold 10.00. Skipping batch.\n",
      "  warnings.warn(\n",
      "D:\\my_projects\\gpt2_sentiment\\venv\\Lib\\site-packages\\trl\\trainer\\ppo_trainer.py:1174: UserWarning: The average ratio of batch (365.00) exceeds threshold 10.00. Skipping batch.\n",
      "  warnings.warn(\n",
      "D:\\my_projects\\gpt2_sentiment\\venv\\Lib\\site-packages\\trl\\trainer\\ppo_trainer.py:1174: UserWarning: The average ratio of batch (12.87) exceeds threshold 10.00. Skipping batch.\n",
      "  warnings.warn(\n",
      "D:\\my_projects\\gpt2_sentiment\\venv\\Lib\\site-packages\\trl\\trainer\\ppo_trainer.py:1174: UserWarning: The average ratio of batch (26.47) exceeds threshold 10.00. Skipping batch.\n",
      "  warnings.warn(\n",
      "D:\\my_projects\\gpt2_sentiment\\venv\\Lib\\site-packages\\trl\\trainer\\ppo_trainer.py:1174: UserWarning: The average ratio of batch (401.15) exceeds threshold 10.00. Skipping batch.\n",
      "  warnings.warn(\n",
      "D:\\my_projects\\gpt2_sentiment\\venv\\Lib\\site-packages\\trl\\trainer\\ppo_trainer.py:1174: UserWarning: The average ratio of batch (13.57) exceeds threshold 10.00. Skipping batch.\n",
      "  warnings.warn(\n",
      "D:\\my_projects\\gpt2_sentiment\\venv\\Lib\\site-packages\\trl\\trainer\\ppo_trainer.py:1174: UserWarning: The average ratio of batch (343.51) exceeds threshold 10.00. Skipping batch.\n",
      "  warnings.warn(\n",
      "D:\\my_projects\\gpt2_sentiment\\venv\\Lib\\site-packages\\trl\\trainer\\ppo_trainer.py:1174: UserWarning: The average ratio of batch (39.00) exceeds threshold 10.00. Skipping batch.\n",
      "  warnings.warn(\n",
      "D:\\my_projects\\gpt2_sentiment\\venv\\Lib\\site-packages\\trl\\trainer\\ppo_trainer.py:1174: UserWarning: The average ratio of batch (29.59) exceeds threshold 10.00. Skipping batch.\n",
      "  warnings.warn(\n",
      "D:\\my_projects\\gpt2_sentiment\\venv\\Lib\\site-packages\\trl\\trainer\\ppo_trainer.py:1174: UserWarning: The average ratio of batch (115.93) exceeds threshold 10.00. Skipping batch.\n",
      "  warnings.warn(\n",
      "D:\\my_projects\\gpt2_sentiment\\venv\\Lib\\site-packages\\trl\\trainer\\ppo_trainer.py:1174: UserWarning: The average ratio of batch (10.72) exceeds threshold 10.00. Skipping batch.\n",
      "  warnings.warn(\n",
      "D:\\my_projects\\gpt2_sentiment\\venv\\Lib\\site-packages\\trl\\trainer\\ppo_trainer.py:1174: UserWarning: The average ratio of batch (21.88) exceeds threshold 10.00. Skipping batch.\n",
      "  warnings.warn(\n",
      "D:\\my_projects\\gpt2_sentiment\\venv\\Lib\\site-packages\\trl\\trainer\\ppo_trainer.py:1174: UserWarning: The average ratio of batch (362.39) exceeds threshold 10.00. Skipping batch.\n",
      "  warnings.warn(\n",
      "D:\\my_projects\\gpt2_sentiment\\venv\\Lib\\site-packages\\trl\\trainer\\ppo_trainer.py:1174: UserWarning: The average ratio of batch (12.06) exceeds threshold 10.00. Skipping batch.\n",
      "  warnings.warn(\n",
      "D:\\my_projects\\gpt2_sentiment\\venv\\Lib\\site-packages\\trl\\trainer\\ppo_trainer.py:1174: UserWarning: The average ratio of batch (14.30) exceeds threshold 10.00. Skipping batch.\n",
      "  warnings.warn(\n",
      "D:\\my_projects\\gpt2_sentiment\\venv\\Lib\\site-packages\\trl\\trainer\\ppo_trainer.py:1174: UserWarning: The average ratio of batch (115.11) exceeds threshold 10.00. Skipping batch.\n",
      "  warnings.warn(\n",
      "D:\\my_projects\\gpt2_sentiment\\venv\\Lib\\site-packages\\trl\\trainer\\ppo_trainer.py:1174: UserWarning: The average ratio of batch (33.37) exceeds threshold 10.00. Skipping batch.\n",
      "  warnings.warn(\n",
      "D:\\my_projects\\gpt2_sentiment\\venv\\Lib\\site-packages\\trl\\trainer\\ppo_trainer.py:1174: UserWarning: The average ratio of batch (10.65) exceeds threshold 10.00. Skipping batch.\n",
      "  warnings.warn(\n",
      "D:\\my_projects\\gpt2_sentiment\\venv\\Lib\\site-packages\\trl\\trainer\\ppo_trainer.py:1174: UserWarning: The average ratio of batch (351.47) exceeds threshold 10.00. Skipping batch.\n",
      "  warnings.warn(\n",
      "23it [44:07, 109.49s/it]D:\\my_projects\\gpt2_sentiment\\venv\\Lib\\site-packages\\trl\\trainer\\ppo_trainer.py:1174: UserWarning: The average ratio of batch (120.86) exceeds threshold 10.00. Skipping batch.\n",
      "  warnings.warn(\n",
      "D:\\my_projects\\gpt2_sentiment\\venv\\Lib\\site-packages\\trl\\trainer\\ppo_trainer.py:1174: UserWarning: The average ratio of batch (12.29) exceeds threshold 10.00. Skipping batch.\n",
      "  warnings.warn(\n",
      "D:\\my_projects\\gpt2_sentiment\\venv\\Lib\\site-packages\\trl\\trainer\\ppo_trainer.py:1174: UserWarning: The average ratio of batch (10.96) exceeds threshold 10.00. Skipping batch.\n",
      "  warnings.warn(\n",
      "D:\\my_projects\\gpt2_sentiment\\venv\\Lib\\site-packages\\trl\\trainer\\ppo_trainer.py:1174: UserWarning: The average ratio of batch (51.78) exceeds threshold 10.00. Skipping batch.\n",
      "  warnings.warn(\n",
      "D:\\my_projects\\gpt2_sentiment\\venv\\Lib\\site-packages\\trl\\trainer\\ppo_trainer.py:1174: UserWarning: The average ratio of batch (14.89) exceeds threshold 10.00. Skipping batch.\n",
      "  warnings.warn(\n",
      "D:\\my_projects\\gpt2_sentiment\\venv\\Lib\\site-packages\\trl\\trainer\\ppo_trainer.py:1174: UserWarning: The average ratio of batch (11.59) exceeds threshold 10.00. Skipping batch.\n",
      "  warnings.warn(\n",
      "D:\\my_projects\\gpt2_sentiment\\venv\\Lib\\site-packages\\trl\\trainer\\ppo_trainer.py:1174: UserWarning: The average ratio of batch (13.95) exceeds threshold 10.00. Skipping batch.\n",
      "  warnings.warn(\n",
      "D:\\my_projects\\gpt2_sentiment\\venv\\Lib\\site-packages\\trl\\trainer\\ppo_trainer.py:1174: UserWarning: The average ratio of batch (121.63) exceeds threshold 10.00. Skipping batch.\n",
      "  warnings.warn(\n",
      "D:\\my_projects\\gpt2_sentiment\\venv\\Lib\\site-packages\\trl\\trainer\\ppo_trainer.py:1174: UserWarning: The average ratio of batch (58.04) exceeds threshold 10.00. Skipping batch.\n",
      "  warnings.warn(\n",
      "D:\\my_projects\\gpt2_sentiment\\venv\\Lib\\site-packages\\trl\\trainer\\ppo_trainer.py:1174: UserWarning: The average ratio of batch (14.23) exceeds threshold 10.00. Skipping batch.\n",
      "  warnings.warn(\n",
      "D:\\my_projects\\gpt2_sentiment\\venv\\Lib\\site-packages\\trl\\trainer\\ppo_trainer.py:1174: UserWarning: The average ratio of batch (14.35) exceeds threshold 10.00. Skipping batch.\n",
      "  warnings.warn(\n",
      "D:\\my_projects\\gpt2_sentiment\\venv\\Lib\\site-packages\\trl\\trainer\\ppo_trainer.py:1174: UserWarning: The average ratio of batch (59.62) exceeds threshold 10.00. Skipping batch.\n",
      "  warnings.warn(\n",
      "D:\\my_projects\\gpt2_sentiment\\venv\\Lib\\site-packages\\trl\\trainer\\ppo_trainer.py:1174: UserWarning: The average ratio of batch (11.67) exceeds threshold 10.00. Skipping batch.\n",
      "  warnings.warn(\n",
      "D:\\my_projects\\gpt2_sentiment\\venv\\Lib\\site-packages\\trl\\trainer\\ppo_trainer.py:1174: UserWarning: The average ratio of batch (12.30) exceeds threshold 10.00. Skipping batch.\n",
      "  warnings.warn(\n",
      "D:\\my_projects\\gpt2_sentiment\\venv\\Lib\\site-packages\\trl\\trainer\\ppo_trainer.py:1174: UserWarning: The average ratio of batch (123.47) exceeds threshold 10.00. Skipping batch.\n",
      "  warnings.warn(\n",
      "D:\\my_projects\\gpt2_sentiment\\venv\\Lib\\site-packages\\trl\\trainer\\ppo_trainer.py:1174: UserWarning: The average ratio of batch (18.45) exceeds threshold 10.00. Skipping batch.\n",
      "  warnings.warn(\n",
      "24it [45:52, 108.11s/it]D:\\my_projects\\gpt2_sentiment\\venv\\Lib\\site-packages\\trl\\trainer\\ppo_trainer.py:1174: UserWarning: The average ratio of batch (11.22) exceeds threshold 10.00. Skipping batch.\n",
      "  warnings.warn(\n",
      "D:\\my_projects\\gpt2_sentiment\\venv\\Lib\\site-packages\\trl\\trainer\\ppo_trainer.py:1174: UserWarning: The average ratio of batch (34.14) exceeds threshold 10.00. Skipping batch.\n",
      "  warnings.warn(\n",
      "D:\\my_projects\\gpt2_sentiment\\venv\\Lib\\site-packages\\trl\\trainer\\ppo_trainer.py:1174: UserWarning: The average ratio of batch (59.99) exceeds threshold 10.00. Skipping batch.\n",
      "  warnings.warn(\n",
      "D:\\my_projects\\gpt2_sentiment\\venv\\Lib\\site-packages\\trl\\trainer\\ppo_trainer.py:1174: UserWarning: The average ratio of batch (50.62) exceeds threshold 10.00. Skipping batch.\n",
      "  warnings.warn(\n",
      "D:\\my_projects\\gpt2_sentiment\\venv\\Lib\\site-packages\\trl\\trainer\\ppo_trainer.py:1174: UserWarning: The average ratio of batch (567.62) exceeds threshold 10.00. Skipping batch.\n",
      "  warnings.warn(\n",
      "D:\\my_projects\\gpt2_sentiment\\venv\\Lib\\site-packages\\trl\\trainer\\ppo_trainer.py:1174: UserWarning: The average ratio of batch (13.84) exceeds threshold 10.00. Skipping batch.\n",
      "  warnings.warn(\n",
      "D:\\my_projects\\gpt2_sentiment\\venv\\Lib\\site-packages\\trl\\trainer\\ppo_trainer.py:1174: UserWarning: The average ratio of batch (83.01) exceeds threshold 10.00. Skipping batch.\n",
      "  warnings.warn(\n",
      "D:\\my_projects\\gpt2_sentiment\\venv\\Lib\\site-packages\\trl\\trainer\\ppo_trainer.py:1174: UserWarning: The average ratio of batch (14.32) exceeds threshold 10.00. Skipping batch.\n",
      "  warnings.warn(\n",
      "D:\\my_projects\\gpt2_sentiment\\venv\\Lib\\site-packages\\trl\\trainer\\ppo_trainer.py:1174: UserWarning: The average ratio of batch (11.40) exceeds threshold 10.00. Skipping batch.\n",
      "  warnings.warn(\n",
      "D:\\my_projects\\gpt2_sentiment\\venv\\Lib\\site-packages\\trl\\trainer\\ppo_trainer.py:1174: UserWarning: The average ratio of batch (574.84) exceeds threshold 10.00. Skipping batch.\n",
      "  warnings.warn(\n",
      "D:\\my_projects\\gpt2_sentiment\\venv\\Lib\\site-packages\\trl\\trainer\\ppo_trainer.py:1174: UserWarning: The average ratio of batch (85.13) exceeds threshold 10.00. Skipping batch.\n",
      "  warnings.warn(\n",
      "D:\\my_projects\\gpt2_sentiment\\venv\\Lib\\site-packages\\trl\\trainer\\ppo_trainer.py:1174: UserWarning: The average ratio of batch (46.71) exceeds threshold 10.00. Skipping batch.\n",
      "  warnings.warn(\n",
      "D:\\my_projects\\gpt2_sentiment\\venv\\Lib\\site-packages\\trl\\trainer\\ppo_trainer.py:1174: UserWarning: The average ratio of batch (43.11) exceeds threshold 10.00. Skipping batch.\n",
      "  warnings.warn(\n",
      "D:\\my_projects\\gpt2_sentiment\\venv\\Lib\\site-packages\\trl\\trainer\\ppo_trainer.py:1174: UserWarning: The average ratio of batch (15.95) exceeds threshold 10.00. Skipping batch.\n",
      "  warnings.warn(\n",
      "D:\\my_projects\\gpt2_sentiment\\venv\\Lib\\site-packages\\trl\\trainer\\ppo_trainer.py:1174: UserWarning: The average ratio of batch (10.75) exceeds threshold 10.00. Skipping batch.\n",
      "  warnings.warn(\n",
      "D:\\my_projects\\gpt2_sentiment\\venv\\Lib\\site-packages\\trl\\trainer\\ppo_trainer.py:1174: UserWarning: The average ratio of batch (41.80) exceeds threshold 10.00. Skipping batch.\n",
      "  warnings.warn(\n",
      "D:\\my_projects\\gpt2_sentiment\\venv\\Lib\\site-packages\\trl\\trainer\\ppo_trainer.py:1174: UserWarning: The average ratio of batch (15.91) exceeds threshold 10.00. Skipping batch.\n",
      "  warnings.warn(\n",
      "D:\\my_projects\\gpt2_sentiment\\venv\\Lib\\site-packages\\trl\\trainer\\ppo_trainer.py:1174: UserWarning: The average ratio of batch (573.49) exceeds threshold 10.00. Skipping batch.\n",
      "  warnings.warn(\n",
      "D:\\my_projects\\gpt2_sentiment\\venv\\Lib\\site-packages\\trl\\trainer\\ppo_trainer.py:1174: UserWarning: The average ratio of batch (88.07) exceeds threshold 10.00. Skipping batch.\n",
      "  warnings.warn(\n",
      "D:\\my_projects\\gpt2_sentiment\\venv\\Lib\\site-packages\\trl\\trainer\\ppo_trainer.py:1174: UserWarning: The average ratio of batch (10.11) exceeds threshold 10.00. Skipping batch.\n",
      "  warnings.warn(\n",
      "D:\\my_projects\\gpt2_sentiment\\venv\\Lib\\site-packages\\trl\\trainer\\ppo_trainer.py:1174: UserWarning: The average ratio of batch (43.75) exceeds threshold 10.00. Skipping batch.\n",
      "  warnings.warn(\n",
      "D:\\my_projects\\gpt2_sentiment\\venv\\Lib\\site-packages\\trl\\trainer\\ppo_trainer.py:1174: UserWarning: The average ratio of batch (48.52) exceeds threshold 10.00. Skipping batch.\n",
      "  warnings.warn(\n",
      "D:\\my_projects\\gpt2_sentiment\\venv\\Lib\\site-packages\\trl\\trainer\\ppo_trainer.py:1174: UserWarning: The average ratio of batch (53.90) exceeds threshold 10.00. Skipping batch.\n",
      "  warnings.warn(\n",
      "25it [47:39, 107.82s/it]D:\\my_projects\\gpt2_sentiment\\venv\\Lib\\site-packages\\trl\\trainer\\ppo_trainer.py:1174: UserWarning: The average ratio of batch (121.37) exceeds threshold 10.00. Skipping batch.\n",
      "  warnings.warn(\n",
      "D:\\my_projects\\gpt2_sentiment\\venv\\Lib\\site-packages\\trl\\trainer\\ppo_trainer.py:1174: UserWarning: The average ratio of batch (88.90) exceeds threshold 10.00. Skipping batch.\n",
      "  warnings.warn(\n",
      "D:\\my_projects\\gpt2_sentiment\\venv\\Lib\\site-packages\\trl\\trainer\\ppo_trainer.py:1174: UserWarning: The average ratio of batch (13.93) exceeds threshold 10.00. Skipping batch.\n",
      "  warnings.warn(\n",
      "D:\\my_projects\\gpt2_sentiment\\venv\\Lib\\site-packages\\trl\\trainer\\ppo_trainer.py:1174: UserWarning: The average ratio of batch (83.94) exceeds threshold 10.00. Skipping batch.\n",
      "  warnings.warn(\n",
      "D:\\my_projects\\gpt2_sentiment\\venv\\Lib\\site-packages\\trl\\trainer\\ppo_trainer.py:1174: UserWarning: The average ratio of batch (12.69) exceeds threshold 10.00. Skipping batch.\n",
      "  warnings.warn(\n",
      "D:\\my_projects\\gpt2_sentiment\\venv\\Lib\\site-packages\\trl\\trainer\\ppo_trainer.py:1174: UserWarning: The average ratio of batch (180.30) exceeds threshold 10.00. Skipping batch.\n",
      "  warnings.warn(\n",
      "D:\\my_projects\\gpt2_sentiment\\venv\\Lib\\site-packages\\trl\\trainer\\ppo_trainer.py:1174: UserWarning: The average ratio of batch (50.78) exceeds threshold 10.00. Skipping batch.\n",
      "  warnings.warn(\n",
      "D:\\my_projects\\gpt2_sentiment\\venv\\Lib\\site-packages\\trl\\trainer\\ppo_trainer.py:1174: UserWarning: The average ratio of batch (38.48) exceeds threshold 10.00. Skipping batch.\n",
      "  warnings.warn(\n",
      "D:\\my_projects\\gpt2_sentiment\\venv\\Lib\\site-packages\\trl\\trainer\\ppo_trainer.py:1174: UserWarning: The average ratio of batch (110.49) exceeds threshold 10.00. Skipping batch.\n",
      "  warnings.warn(\n",
      "D:\\my_projects\\gpt2_sentiment\\venv\\Lib\\site-packages\\trl\\trainer\\ppo_trainer.py:1174: UserWarning: The average ratio of batch (13.83) exceeds threshold 10.00. Skipping batch.\n",
      "  warnings.warn(\n",
      "D:\\my_projects\\gpt2_sentiment\\venv\\Lib\\site-packages\\trl\\trainer\\ppo_trainer.py:1174: UserWarning: The average ratio of batch (112.92) exceeds threshold 10.00. Skipping batch.\n",
      "  warnings.warn(\n",
      "D:\\my_projects\\gpt2_sentiment\\venv\\Lib\\site-packages\\trl\\trainer\\ppo_trainer.py:1174: UserWarning: The average ratio of batch (160.29) exceeds threshold 10.00. Skipping batch.\n",
      "  warnings.warn(\n",
      "D:\\my_projects\\gpt2_sentiment\\venv\\Lib\\site-packages\\trl\\trainer\\ppo_trainer.py:1174: UserWarning: The average ratio of batch (48.87) exceeds threshold 10.00. Skipping batch.\n",
      "  warnings.warn(\n",
      "D:\\my_projects\\gpt2_sentiment\\venv\\Lib\\site-packages\\trl\\trainer\\ppo_trainer.py:1174: UserWarning: The average ratio of batch (14.00) exceeds threshold 10.00. Skipping batch.\n",
      "  warnings.warn(\n",
      "D:\\my_projects\\gpt2_sentiment\\venv\\Lib\\site-packages\\trl\\trainer\\ppo_trainer.py:1174: UserWarning: The average ratio of batch (81.78) exceeds threshold 10.00. Skipping batch.\n",
      "  warnings.warn(\n",
      "D:\\my_projects\\gpt2_sentiment\\venv\\Lib\\site-packages\\trl\\trainer\\ppo_trainer.py:1174: UserWarning: The average ratio of batch (59.63) exceeds threshold 10.00. Skipping batch.\n",
      "  warnings.warn(\n",
      "26it [50:06, 115.63s/it]\n"
     ]
    },
    {
     "ename": "KeyboardInterrupt",
     "evalue": "",
     "output_type": "error",
     "traceback": [
      "\u001b[1;31m---------------------------------------------------------------------------\u001b[0m",
      "\u001b[1;31mKeyboardInterrupt\u001b[0m                         Traceback (most recent call last)",
      "Cell \u001b[1;32mIn[13], line 33\u001b[0m\n\u001b[0;32m     30\u001b[0m rewards \u001b[38;5;241m=\u001b[39m [torch\u001b[38;5;241m.\u001b[39mtensor(output[\u001b[38;5;241m1\u001b[39m][\u001b[38;5;124m\"\u001b[39m\u001b[38;5;124mscore\u001b[39m\u001b[38;5;124m\"\u001b[39m]) \u001b[38;5;28;01mfor\u001b[39;00m output \u001b[38;5;129;01min\u001b[39;00m pipe_outputs]\n\u001b[0;32m     32\u001b[0m \u001b[38;5;66;03m#### Run PPO step\u001b[39;00m\n\u001b[1;32m---> 33\u001b[0m stats \u001b[38;5;241m=\u001b[39m \u001b[43mppo_trainer\u001b[49m\u001b[38;5;241;43m.\u001b[39;49m\u001b[43mstep\u001b[49m\u001b[43m(\u001b[49m\u001b[43mquery_tensors\u001b[49m\u001b[43m,\u001b[49m\u001b[43m \u001b[49m\u001b[43mresponse_tensors\u001b[49m\u001b[43m,\u001b[49m\u001b[43m \u001b[49m\u001b[43mrewards\u001b[49m\u001b[43m)\u001b[49m\n\u001b[0;32m     34\u001b[0m ppo_trainer\u001b[38;5;241m.\u001b[39mlog_stats(stats, batch, rewards)\n",
      "File \u001b[1;32m~\\AppData\\Local\\Programs\\Python\\Python311\\Lib\\contextlib.py:81\u001b[0m, in \u001b[0;36mContextDecorator.__call__.<locals>.inner\u001b[1;34m(*args, **kwds)\u001b[0m\n\u001b[0;32m     78\u001b[0m \u001b[38;5;129m@wraps\u001b[39m(func)\n\u001b[0;32m     79\u001b[0m \u001b[38;5;28;01mdef\u001b[39;00m \u001b[38;5;21minner\u001b[39m(\u001b[38;5;241m*\u001b[39margs, \u001b[38;5;241m*\u001b[39m\u001b[38;5;241m*\u001b[39mkwds):\n\u001b[0;32m     80\u001b[0m     \u001b[38;5;28;01mwith\u001b[39;00m \u001b[38;5;28mself\u001b[39m\u001b[38;5;241m.\u001b[39m_recreate_cm():\n\u001b[1;32m---> 81\u001b[0m         \u001b[38;5;28;01mreturn\u001b[39;00m \u001b[43mfunc\u001b[49m\u001b[43m(\u001b[49m\u001b[38;5;241;43m*\u001b[39;49m\u001b[43margs\u001b[49m\u001b[43m,\u001b[49m\u001b[43m \u001b[49m\u001b[38;5;241;43m*\u001b[39;49m\u001b[38;5;241;43m*\u001b[39;49m\u001b[43mkwds\u001b[49m\u001b[43m)\u001b[49m\n",
      "File \u001b[1;32mD:\\my_projects\\gpt2_sentiment\\venv\\Lib\\site-packages\\trl\\trainer\\ppo_trainer.py:767\u001b[0m, in \u001b[0;36mPPOTrainer.step\u001b[1;34m(self, queries, responses, scores, response_masks)\u001b[0m\n\u001b[0;32m    758\u001b[0m             model_inputs \u001b[38;5;241m=\u001b[39m {k: mini_batch_dict[k] \u001b[38;5;28;01mfor\u001b[39;00m k \u001b[38;5;129;01min\u001b[39;00m model_inputs_names}\n\u001b[0;32m    760\u001b[0m             logprobs, logits, vpreds, _ \u001b[38;5;241m=\u001b[39m \u001b[38;5;28mself\u001b[39m\u001b[38;5;241m.\u001b[39mbatched_forward_pass(\n\u001b[0;32m    761\u001b[0m                 \u001b[38;5;28mself\u001b[39m\u001b[38;5;241m.\u001b[39mmodel,\n\u001b[0;32m    762\u001b[0m                 mini_batch_dict[\u001b[38;5;124m\"\u001b[39m\u001b[38;5;124mqueries\u001b[39m\u001b[38;5;124m\"\u001b[39m],\n\u001b[1;32m   (...)\u001b[0m\n\u001b[0;32m    765\u001b[0m                 return_logits\u001b[38;5;241m=\u001b[39m\u001b[38;5;28;01mTrue\u001b[39;00m,\n\u001b[0;32m    766\u001b[0m             )\n\u001b[1;32m--> 767\u001b[0m             train_stats \u001b[38;5;241m=\u001b[39m \u001b[38;5;28;43mself\u001b[39;49m\u001b[38;5;241;43m.\u001b[39;49m\u001b[43mtrain_minibatch\u001b[49m\u001b[43m(\u001b[49m\n\u001b[0;32m    768\u001b[0m \u001b[43m                \u001b[49m\u001b[43mmini_batch_dict\u001b[49m\u001b[43m[\u001b[49m\u001b[38;5;124;43m\"\u001b[39;49m\u001b[38;5;124;43mlogprobs\u001b[39;49m\u001b[38;5;124;43m\"\u001b[39;49m\u001b[43m]\u001b[49m\u001b[43m,\u001b[49m\n\u001b[0;32m    769\u001b[0m \u001b[43m                \u001b[49m\u001b[43mmini_batch_dict\u001b[49m\u001b[43m[\u001b[49m\u001b[38;5;124;43m\"\u001b[39;49m\u001b[38;5;124;43mvalues\u001b[39;49m\u001b[38;5;124;43m\"\u001b[39;49m\u001b[43m]\u001b[49m\u001b[43m,\u001b[49m\n\u001b[0;32m    770\u001b[0m \u001b[43m                \u001b[49m\u001b[43mlogprobs\u001b[49m\u001b[43m,\u001b[49m\n\u001b[0;32m    771\u001b[0m \u001b[43m                \u001b[49m\u001b[43mlogits\u001b[49m\u001b[43m,\u001b[49m\n\u001b[0;32m    772\u001b[0m \u001b[43m                \u001b[49m\u001b[43mvpreds\u001b[49m\u001b[43m,\u001b[49m\n\u001b[0;32m    773\u001b[0m \u001b[43m                \u001b[49m\u001b[43mmini_batch_dict\u001b[49m\u001b[43m[\u001b[49m\u001b[38;5;124;43m\"\u001b[39;49m\u001b[38;5;124;43mmasks\u001b[39;49m\u001b[38;5;124;43m\"\u001b[39;49m\u001b[43m]\u001b[49m\u001b[43m,\u001b[49m\n\u001b[0;32m    774\u001b[0m \u001b[43m                \u001b[49m\u001b[43mmini_batch_dict\u001b[49m\u001b[43m[\u001b[49m\u001b[38;5;124;43m\"\u001b[39;49m\u001b[38;5;124;43madvantages\u001b[39;49m\u001b[38;5;124;43m\"\u001b[39;49m\u001b[43m]\u001b[49m\u001b[43m,\u001b[49m\n\u001b[0;32m    775\u001b[0m \u001b[43m                \u001b[49m\u001b[43mmini_batch_dict\u001b[49m\u001b[43m[\u001b[49m\u001b[38;5;124;43m\"\u001b[39;49m\u001b[38;5;124;43mreturns\u001b[39;49m\u001b[38;5;124;43m\"\u001b[39;49m\u001b[43m]\u001b[49m\u001b[43m,\u001b[49m\n\u001b[0;32m    776\u001b[0m \u001b[43m            \u001b[49m\u001b[43m)\u001b[49m\n\u001b[0;32m    777\u001b[0m             all_stats\u001b[38;5;241m.\u001b[39mappend(train_stats)\n\u001b[0;32m    779\u001b[0m \u001b[38;5;66;03m# typically, early stopping is done at the epoch level\u001b[39;00m\n",
      "File \u001b[1;32m~\\AppData\\Local\\Programs\\Python\\Python311\\Lib\\contextlib.py:81\u001b[0m, in \u001b[0;36mContextDecorator.__call__.<locals>.inner\u001b[1;34m(*args, **kwds)\u001b[0m\n\u001b[0;32m     78\u001b[0m \u001b[38;5;129m@wraps\u001b[39m(func)\n\u001b[0;32m     79\u001b[0m \u001b[38;5;28;01mdef\u001b[39;00m \u001b[38;5;21minner\u001b[39m(\u001b[38;5;241m*\u001b[39margs, \u001b[38;5;241m*\u001b[39m\u001b[38;5;241m*\u001b[39mkwds):\n\u001b[0;32m     80\u001b[0m     \u001b[38;5;28;01mwith\u001b[39;00m \u001b[38;5;28mself\u001b[39m\u001b[38;5;241m.\u001b[39m_recreate_cm():\n\u001b[1;32m---> 81\u001b[0m         \u001b[38;5;28;01mreturn\u001b[39;00m \u001b[43mfunc\u001b[49m\u001b[43m(\u001b[49m\u001b[38;5;241;43m*\u001b[39;49m\u001b[43margs\u001b[49m\u001b[43m,\u001b[49m\u001b[43m \u001b[49m\u001b[38;5;241;43m*\u001b[39;49m\u001b[38;5;241;43m*\u001b[39;49m\u001b[43mkwds\u001b[49m\u001b[43m)\u001b[49m\n",
      "File \u001b[1;32mD:\\my_projects\\gpt2_sentiment\\venv\\Lib\\site-packages\\trl\\trainer\\ppo_trainer.py:1039\u001b[0m, in \u001b[0;36mPPOTrainer.train_minibatch\u001b[1;34m(self, old_logprobs, values, logprobs, logits, vpreds, mask, advantages, returns)\u001b[0m\n\u001b[0;32m   1035\u001b[0m loss_p, loss_v, train_stats \u001b[38;5;241m=\u001b[39m \u001b[38;5;28mself\u001b[39m\u001b[38;5;241m.\u001b[39mloss(\n\u001b[0;32m   1036\u001b[0m     old_logprobs, values, logits, vpreds, logprobs, mask, advantages, returns\n\u001b[0;32m   1037\u001b[0m )\n\u001b[0;32m   1038\u001b[0m loss \u001b[38;5;241m=\u001b[39m loss_p \u001b[38;5;241m+\u001b[39m loss_v\n\u001b[1;32m-> 1039\u001b[0m \u001b[38;5;28;43mself\u001b[39;49m\u001b[38;5;241;43m.\u001b[39;49m\u001b[43maccelerator\u001b[49m\u001b[38;5;241;43m.\u001b[39;49m\u001b[43mbackward\u001b[49m\u001b[43m(\u001b[49m\u001b[43mloss\u001b[49m\u001b[43m)\u001b[49m\n\u001b[0;32m   1040\u001b[0m \u001b[38;5;28;01mif\u001b[39;00m \u001b[38;5;28mself\u001b[39m\u001b[38;5;241m.\u001b[39mconfig\u001b[38;5;241m.\u001b[39mmax_grad_norm \u001b[38;5;129;01mis\u001b[39;00m \u001b[38;5;129;01mnot\u001b[39;00m \u001b[38;5;28;01mNone\u001b[39;00m:\n\u001b[0;32m   1041\u001b[0m     \u001b[38;5;28;01mif\u001b[39;00m \u001b[38;5;28mself\u001b[39m\u001b[38;5;241m.\u001b[39maccelerator\u001b[38;5;241m.\u001b[39msync_gradients:\n",
      "File \u001b[1;32mD:\\my_projects\\gpt2_sentiment\\venv\\Lib\\site-packages\\accelerate\\accelerator.py:1985\u001b[0m, in \u001b[0;36mAccelerator.backward\u001b[1;34m(self, loss, **kwargs)\u001b[0m\n\u001b[0;32m   1983\u001b[0m     \u001b[38;5;28mself\u001b[39m\u001b[38;5;241m.\u001b[39mscaler\u001b[38;5;241m.\u001b[39mscale(loss)\u001b[38;5;241m.\u001b[39mbackward(\u001b[38;5;241m*\u001b[39m\u001b[38;5;241m*\u001b[39mkwargs)\n\u001b[0;32m   1984\u001b[0m \u001b[38;5;28;01melse\u001b[39;00m:\n\u001b[1;32m-> 1985\u001b[0m     \u001b[43mloss\u001b[49m\u001b[38;5;241;43m.\u001b[39;49m\u001b[43mbackward\u001b[49m\u001b[43m(\u001b[49m\u001b[38;5;241;43m*\u001b[39;49m\u001b[38;5;241;43m*\u001b[39;49m\u001b[43mkwargs\u001b[49m\u001b[43m)\u001b[49m\n",
      "File \u001b[1;32mD:\\my_projects\\gpt2_sentiment\\venv\\Lib\\site-packages\\torch\\_tensor.py:492\u001b[0m, in \u001b[0;36mTensor.backward\u001b[1;34m(self, gradient, retain_graph, create_graph, inputs)\u001b[0m\n\u001b[0;32m    482\u001b[0m \u001b[38;5;28;01mif\u001b[39;00m has_torch_function_unary(\u001b[38;5;28mself\u001b[39m):\n\u001b[0;32m    483\u001b[0m     \u001b[38;5;28;01mreturn\u001b[39;00m handle_torch_function(\n\u001b[0;32m    484\u001b[0m         Tensor\u001b[38;5;241m.\u001b[39mbackward,\n\u001b[0;32m    485\u001b[0m         (\u001b[38;5;28mself\u001b[39m,),\n\u001b[1;32m   (...)\u001b[0m\n\u001b[0;32m    490\u001b[0m         inputs\u001b[38;5;241m=\u001b[39minputs,\n\u001b[0;32m    491\u001b[0m     )\n\u001b[1;32m--> 492\u001b[0m \u001b[43mtorch\u001b[49m\u001b[38;5;241;43m.\u001b[39;49m\u001b[43mautograd\u001b[49m\u001b[38;5;241;43m.\u001b[39;49m\u001b[43mbackward\u001b[49m\u001b[43m(\u001b[49m\n\u001b[0;32m    493\u001b[0m \u001b[43m    \u001b[49m\u001b[38;5;28;43mself\u001b[39;49m\u001b[43m,\u001b[49m\u001b[43m \u001b[49m\u001b[43mgradient\u001b[49m\u001b[43m,\u001b[49m\u001b[43m \u001b[49m\u001b[43mretain_graph\u001b[49m\u001b[43m,\u001b[49m\u001b[43m \u001b[49m\u001b[43mcreate_graph\u001b[49m\u001b[43m,\u001b[49m\u001b[43m \u001b[49m\u001b[43minputs\u001b[49m\u001b[38;5;241;43m=\u001b[39;49m\u001b[43minputs\u001b[49m\n\u001b[0;32m    494\u001b[0m \u001b[43m\u001b[49m\u001b[43m)\u001b[49m\n",
      "File \u001b[1;32mD:\\my_projects\\gpt2_sentiment\\venv\\Lib\\site-packages\\torch\\autograd\\__init__.py:251\u001b[0m, in \u001b[0;36mbackward\u001b[1;34m(tensors, grad_tensors, retain_graph, create_graph, grad_variables, inputs)\u001b[0m\n\u001b[0;32m    246\u001b[0m     retain_graph \u001b[38;5;241m=\u001b[39m create_graph\n\u001b[0;32m    248\u001b[0m \u001b[38;5;66;03m# The reason we repeat the same comment below is that\u001b[39;00m\n\u001b[0;32m    249\u001b[0m \u001b[38;5;66;03m# some Python versions print out the first line of a multi-line function\u001b[39;00m\n\u001b[0;32m    250\u001b[0m \u001b[38;5;66;03m# calls in the traceback and some print out the last line\u001b[39;00m\n\u001b[1;32m--> 251\u001b[0m \u001b[43mVariable\u001b[49m\u001b[38;5;241;43m.\u001b[39;49m\u001b[43m_execution_engine\u001b[49m\u001b[38;5;241;43m.\u001b[39;49m\u001b[43mrun_backward\u001b[49m\u001b[43m(\u001b[49m\u001b[43m  \u001b[49m\u001b[38;5;66;43;03m# Calls into the C++ engine to run the backward pass\u001b[39;49;00m\n\u001b[0;32m    252\u001b[0m \u001b[43m    \u001b[49m\u001b[43mtensors\u001b[49m\u001b[43m,\u001b[49m\n\u001b[0;32m    253\u001b[0m \u001b[43m    \u001b[49m\u001b[43mgrad_tensors_\u001b[49m\u001b[43m,\u001b[49m\n\u001b[0;32m    254\u001b[0m \u001b[43m    \u001b[49m\u001b[43mretain_graph\u001b[49m\u001b[43m,\u001b[49m\n\u001b[0;32m    255\u001b[0m \u001b[43m    \u001b[49m\u001b[43mcreate_graph\u001b[49m\u001b[43m,\u001b[49m\n\u001b[0;32m    256\u001b[0m \u001b[43m    \u001b[49m\u001b[43minputs\u001b[49m\u001b[43m,\u001b[49m\n\u001b[0;32m    257\u001b[0m \u001b[43m    \u001b[49m\u001b[43mallow_unreachable\u001b[49m\u001b[38;5;241;43m=\u001b[39;49m\u001b[38;5;28;43;01mTrue\u001b[39;49;00m\u001b[43m,\u001b[49m\n\u001b[0;32m    258\u001b[0m \u001b[43m    \u001b[49m\u001b[43maccumulate_grad\u001b[49m\u001b[38;5;241;43m=\u001b[39;49m\u001b[38;5;28;43;01mTrue\u001b[39;49;00m\u001b[43m,\u001b[49m\n\u001b[0;32m    259\u001b[0m \u001b[43m\u001b[49m\u001b[43m)\u001b[49m\n",
      "\u001b[1;31mKeyboardInterrupt\u001b[0m: "
     ]
    }
   ],
   "source": [
    "output_min_length = 4\n",
    "output_max_length = 16\n",
    "output_length_sampler = LengthSampler(output_min_length, output_max_length)\n",
    "\n",
    "\n",
    "generation_kwargs = {\n",
    "    \"min_length\": -1,\n",
    "    \"top_k\": 0.0,\n",
    "    \"top_p\": 1.0,\n",
    "    \"do_sample\": True,\n",
    "    \"pad_token_id\": tokenizer.eos_token_id,\n",
    "}\n",
    "\n",
    "\n",
    "for epoch, batch in tqdm(enumerate(ppo_trainer.dataloader)):\n",
    "    query_tensors = batch[\"input_ids\"]\n",
    "\n",
    "    #### Get response from gpt2\n",
    "    response_tensors = []\n",
    "    for query in query_tensors:\n",
    "        gen_len = output_length_sampler()\n",
    "        generation_kwargs[\"max_new_tokens\"] = gen_len\n",
    "        response = ppo_trainer.generate(query, **generation_kwargs)\n",
    "        response_tensors.append(response.squeeze()[-gen_len:])\n",
    "    batch[\"response\"] = [tokenizer.decode(r.squeeze()) for r in response_tensors]\n",
    "\n",
    "    #### Compute sentiment score\n",
    "    texts = [q + r for q, r in zip(batch[\"query\"], batch[\"response\"])]\n",
    "    pipe_outputs = sentiment_pipe(texts, **sent_kwargs)\n",
    "    rewards = [torch.tensor(output[1][\"score\"]) for output in pipe_outputs]\n",
    "\n",
    "    #### Run PPO step\n",
    "    stats = ppo_trainer.step(query_tensors, response_tensors, rewards)\n",
    "    ppo_trainer.log_stats(stats, batch, rewards)"
   ]
  },
  {
   "cell_type": "markdown",
   "metadata": {},
   "source": [
    "### Training progress\n",
    "If you are tracking the training progress with Weights&Biases you should see a plot similar to the one below. Check out the interactive sample report on wandb.ai: [link](https://app.wandb.ai/huggingface/trl-showcase/runs/1jtvxb1m/).\n",
    "\n",
    "<div style=\"text-align: center\">\n",
    "<img src='https://huggingface.co/datasets/trl-internal-testing/example-images/resolve/main/images/gpt2_tuning_progress.png' width='800'>\n",
    "<p style=\"text-align: center;\"> <b>Figure:</b> Reward mean and distribution evolution during training. </p>\n",
    "</div>\n",
    "\n",
    "One can observe how the model starts to generate more positive outputs after a few optimisation steps.\n",
    "\n",
    "> Note: Investigating the KL-divergence will probably show that at this point the model has not converged to the target KL-divergence, yet. To get there would require longer training or starting with a higher initial coefficient."
   ]
  },
  {
   "attachments": {},
   "cell_type": "markdown",
   "metadata": {},
   "source": [
    "## Model inspection\n",
    "Let's inspect some examples from the IMDB dataset. We can use `model_ref` to compare the tuned model `model` against the model before optimisation."
   ]
  },
  {
   "cell_type": "code",
   "execution_count": 14,
   "metadata": {},
   "outputs": [
    {
     "name": "stderr",
     "output_type": "stream",
     "text": [
      "D:\\my_projects\\gpt2_sentiment\\venv\\Lib\\site-packages\\transformers\\pipelines\\text_classification.py:105: UserWarning: `return_all_scores` is now deprecated,  if want a similar functionality use `top_k=None` instead of `return_all_scores=True` or `top_k=1` instead of `return_all_scores=False`.\n",
      "  warnings.warn(\n",
      "D:\\my_projects\\gpt2_sentiment\\venv\\Lib\\site-packages\\transformers\\pipelines\\base.py:1101: UserWarning: You seem to be using the pipelines sequentially on GPU. In order to maximize efficiency please use a dataset\n",
      "  warnings.warn(\n"
     ]
    },
    {
     "data": {
      "text/html": [
       "<div>\n",
       "<style scoped>\n",
       "    .dataframe tbody tr th:only-of-type {\n",
       "        vertical-align: middle;\n",
       "    }\n",
       "\n",
       "    .dataframe tbody tr th {\n",
       "        vertical-align: top;\n",
       "    }\n",
       "\n",
       "    .dataframe thead th {\n",
       "        text-align: right;\n",
       "    }\n",
       "</style>\n",
       "<table border=\"1\" class=\"dataframe\">\n",
       "  <thead>\n",
       "    <tr style=\"text-align: right;\">\n",
       "      <th></th>\n",
       "      <th>query</th>\n",
       "      <th>response (before)</th>\n",
       "      <th>response (after)</th>\n",
       "      <th>rewards (before)</th>\n",
       "      <th>rewards (after)</th>\n",
       "    </tr>\n",
       "  </thead>\n",
       "  <tbody>\n",
       "    <tr>\n",
       "      <th>0</th>\n",
       "      <td>I loved the original.</td>\n",
       "      <td>(Also, I would love</td>\n",
       "      <td>This is a film that is</td>\n",
       "      <td>2.036438</td>\n",
       "      <td>2.594579</td>\n",
       "    </tr>\n",
       "    <tr>\n",
       "      <th>1</th>\n",
       "      <td>If you see</td>\n",
       "      <td>the Lenny &amp; Louis</td>\n",
       "      <td>this, it is great</td>\n",
       "      <td>0.820156</td>\n",
       "      <td>2.594775</td>\n",
       "    </tr>\n",
       "    <tr>\n",
       "      <th>2</th>\n",
       "      <td>This \"screwy comedy</td>\n",
       "      <td>\" is simply too silly to be funny when compare...</td>\n",
       "      <td>\" is great, says the movie's great screenplay,...</td>\n",
       "      <td>-2.813715</td>\n",
       "      <td>2.506619</td>\n",
       "    </tr>\n",
       "    <tr>\n",
       "      <th>3</th>\n",
       "      <td>I Enjoy</td>\n",
       "      <td>(2009): Vegetable comedy</td>\n",
       "      <td>this film. The story is</td>\n",
       "      <td>1.316188</td>\n",
       "      <td>2.730370</td>\n",
       "    </tr>\n",
       "    <tr>\n",
       "      <th>4</th>\n",
       "      <td>The cliché of the shell</td>\n",
       "      <td>fish myth begins to soften as the game progres...</td>\n",
       "      <td>is very well made and very well interpreted. The</td>\n",
       "      <td>-0.174691</td>\n",
       "      <td>2.648175</td>\n",
       "    </tr>\n",
       "    <tr>\n",
       "      <th>5</th>\n",
       "      <td>Grand Canyon falls under a</td>\n",
       "      <td>mysterious shadow  of his family foul-mouthed</td>\n",
       "      <td>salient theme of evil, and it's very pop and ...</td>\n",
       "      <td>-1.593866</td>\n",
       "      <td>2.373064</td>\n",
       "    </tr>\n",
       "    <tr>\n",
       "      <th>6</th>\n",
       "      <td>A doctor and a policeman in</td>\n",
       "      <td>peril wanted to help people in Iraq, the</td>\n",
       "      <td>order to make sure all makes it worth it</td>\n",
       "      <td>-1.187501</td>\n",
       "      <td>2.217432</td>\n",
       "    </tr>\n",
       "    <tr>\n",
       "      <th>7</th>\n",
       "      <td>The reason why I say</td>\n",
       "      <td>this film is, very, very bad</td>\n",
       "      <td>this is a wonderful, unforgettable, early</td>\n",
       "      <td>-2.556539</td>\n",
       "      <td>2.612299</td>\n",
       "    </tr>\n",
       "    <tr>\n",
       "      <th>8</th>\n",
       "      <td>I saw it at</td>\n",
       "      <td>the very very start and thought I'd like it j...</td>\n",
       "      <td>the 9.00 mark this morning, and I'm very impr...</td>\n",
       "      <td>1.764494</td>\n",
       "      <td>2.586549</td>\n",
       "    </tr>\n",
       "    <tr>\n",
       "      <th>9</th>\n",
       "      <td>There are many police dramas doing</td>\n",
       "      <td>their homework. Garry Williams, who goes from...</td>\n",
       "      <td>well. The main character is a brilliant actre...</td>\n",
       "      <td>0.261096</td>\n",
       "      <td>2.223336</td>\n",
       "    </tr>\n",
       "    <tr>\n",
       "      <th>10</th>\n",
       "      <td>A lot</td>\n",
       "      <td>of times i hate actors and I</td>\n",
       "      <td>of fun! We got our very</td>\n",
       "      <td>-1.286154</td>\n",
       "      <td>2.565255</td>\n",
       "    </tr>\n",
       "    <tr>\n",
       "      <th>11</th>\n",
       "      <td>This movie is horrible if</td>\n",
       "      <td>you don't like funny movies like musicals. Th...</td>\n",
       "      <td>you lived this good movie. I hate it! I mean it</td>\n",
       "      <td>-2.825791</td>\n",
       "      <td>-2.313550</td>\n",
       "    </tr>\n",
       "    <tr>\n",
       "      <th>12</th>\n",
       "      <td>Teamo</td>\n",
       "      <td>is intrigued by the playboy phenomenon</td>\n",
       "      <td>o is a great show.&lt;|endoftext|&gt;</td>\n",
       "      <td>1.634867</td>\n",
       "      <td>2.657881</td>\n",
       "    </tr>\n",
       "    <tr>\n",
       "      <th>13</th>\n",
       "      <td>I love Claire</td>\n",
       "      <td>Locklear's retelling of Moon</td>\n",
       "      <td>'s films, and my favorite movie</td>\n",
       "      <td>2.188060</td>\n",
       "      <td>2.580133</td>\n",
       "    </tr>\n",
       "    <tr>\n",
       "      <th>14</th>\n",
       "      <td>Wow, not only is this film</td>\n",
       "      <td>tied to my favourite character of Sir</td>\n",
       "      <td>one of the best films ever made</td>\n",
       "      <td>2.257682</td>\n",
       "      <td>2.615962</td>\n",
       "    </tr>\n",
       "    <tr>\n",
       "      <th>15</th>\n",
       "      <td>In a way this is the</td>\n",
       "      <td>least impressive achievement this side of Way...</td>\n",
       "      <td>In a way this is the best film I have ever see...</td>\n",
       "      <td>-0.895636</td>\n",
       "      <td>2.519555</td>\n",
       "    </tr>\n",
       "  </tbody>\n",
       "</table>\n",
       "</div>"
      ],
      "text/plain": [
       "                                 query  \\\n",
       "0                I loved the original.   \n",
       "1                           If you see   \n",
       "2                  This \"screwy comedy   \n",
       "3                              I Enjoy   \n",
       "4              The cliché of the shell   \n",
       "5           Grand Canyon falls under a   \n",
       "6          A doctor and a policeman in   \n",
       "7                 The reason why I say   \n",
       "8                          I saw it at   \n",
       "9   There are many police dramas doing   \n",
       "10                               A lot   \n",
       "11           This movie is horrible if   \n",
       "12                               Teamo   \n",
       "13                       I love Claire   \n",
       "14          Wow, not only is this film   \n",
       "15                In a way this is the   \n",
       "\n",
       "                                    response (before)  \\\n",
       "0                                 (Also, I would love   \n",
       "1                                   the Lenny & Louis   \n",
       "2   \" is simply too silly to be funny when compare...   \n",
       "3                            (2009): Vegetable comedy   \n",
       "4   fish myth begins to soften as the game progres...   \n",
       "5      mysterious shadow  of his family foul-mouthed   \n",
       "6            peril wanted to help people in Iraq, the   \n",
       "7                        this film is, very, very bad   \n",
       "8    the very very start and thought I'd like it j...   \n",
       "9    their homework. Garry Williams, who goes from...   \n",
       "10                       of times i hate actors and I   \n",
       "11   you don't like funny movies like musicals. Th...   \n",
       "12             is intrigued by the playboy phenomenon   \n",
       "13                       Locklear's retelling of Moon   \n",
       "14              tied to my favourite character of Sir   \n",
       "15   least impressive achievement this side of Way...   \n",
       "\n",
       "                                     response (after)  rewards (before)  \\\n",
       "0                              This is a film that is          2.036438   \n",
       "1                                   this, it is great          0.820156   \n",
       "2   \" is great, says the movie's great screenplay,...         -2.813715   \n",
       "3                             this film. The story is          1.316188   \n",
       "4    is very well made and very well interpreted. The         -0.174691   \n",
       "5    salient theme of evil, and it's very pop and ...         -1.593866   \n",
       "6            order to make sure all makes it worth it         -1.187501   \n",
       "7           this is a wonderful, unforgettable, early         -2.556539   \n",
       "8    the 9.00 mark this morning, and I'm very impr...          1.764494   \n",
       "9    well. The main character is a brilliant actre...          0.261096   \n",
       "10                            of fun! We got our very         -1.286154   \n",
       "11    you lived this good movie. I hate it! I mean it         -2.825791   \n",
       "12                    o is a great show.<|endoftext|>          1.634867   \n",
       "13                    's films, and my favorite movie          2.188060   \n",
       "14                    one of the best films ever made          2.257682   \n",
       "15  In a way this is the best film I have ever see...         -0.895636   \n",
       "\n",
       "    rewards (after)  \n",
       "0          2.594579  \n",
       "1          2.594775  \n",
       "2          2.506619  \n",
       "3          2.730370  \n",
       "4          2.648175  \n",
       "5          2.373064  \n",
       "6          2.217432  \n",
       "7          2.612299  \n",
       "8          2.586549  \n",
       "9          2.223336  \n",
       "10         2.565255  \n",
       "11        -2.313550  \n",
       "12         2.657881  \n",
       "13         2.580133  \n",
       "14         2.615962  \n",
       "15         2.519555  "
      ]
     },
     "execution_count": 14,
     "metadata": {},
     "output_type": "execute_result"
    }
   ],
   "source": [
    "#### get a batch from the dataset\n",
    "bs = 16\n",
    "game_data = dict()\n",
    "dataset.set_format(\"pandas\")\n",
    "df_batch = dataset[:].sample(bs)\n",
    "game_data[\"query\"] = df_batch[\"query\"].tolist()\n",
    "query_tensors = df_batch[\"input_ids\"].tolist()\n",
    "\n",
    "response_tensors_ref, response_tensors = [], []\n",
    "\n",
    "#### get response from gpt2 and gpt2_ref\n",
    "for i in range(bs):\n",
    "    gen_len = output_length_sampler()\n",
    "    output = ref_model.generate(\n",
    "        torch.tensor(query_tensors[i]).unsqueeze(dim=0).to(device), max_new_tokens=gen_len, **gen_kwargs\n",
    "    ).squeeze()[-gen_len:]\n",
    "    response_tensors_ref.append(output)\n",
    "    output = model.generate(\n",
    "        torch.tensor(query_tensors[i]).unsqueeze(dim=0).to(device), max_new_tokens=gen_len, **gen_kwargs\n",
    "    ).squeeze()[-gen_len:]\n",
    "    response_tensors.append(output)\n",
    "\n",
    "#### decode responses\n",
    "game_data[\"response (before)\"] = [tokenizer.decode(response_tensors_ref[i]) for i in range(bs)]\n",
    "game_data[\"response (after)\"] = [tokenizer.decode(response_tensors[i]) for i in range(bs)]\n",
    "\n",
    "#### sentiment analysis of query/response pairs before/after\n",
    "texts = [q + r for q, r in zip(game_data[\"query\"], game_data[\"response (before)\"])]\n",
    "game_data[\"rewards (before)\"] = [output[1][\"score\"] for output in sentiment_pipe(texts, **sent_kwargs)]\n",
    "\n",
    "texts = [q + r for q, r in zip(game_data[\"query\"], game_data[\"response (after)\"])]\n",
    "game_data[\"rewards (after)\"] = [output[1][\"score\"] for output in sentiment_pipe(texts, **sent_kwargs)]\n",
    "\n",
    "# store results in a dataframe\n",
    "df_results = pd.DataFrame(game_data)\n",
    "df_results"
   ]
  },
  {
   "cell_type": "markdown",
   "metadata": {},
   "source": [
    "Looking at the reward mean/median of the generated sequences we observe a significant difference."
   ]
  },
  {
   "cell_type": "code",
   "execution_count": 15,
   "metadata": {},
   "outputs": [
    {
     "name": "stdout",
     "output_type": "stream",
     "text": [
      "mean:\n"
     ]
    },
    {
     "data": {
      "text/plain": [
       "rewards (before)   -0.065932\n",
       "rewards (after)     2.232027\n",
       "dtype: float64"
      ]
     },
     "metadata": {},
     "output_type": "display_data"
    },
    {
     "name": "stdout",
     "output_type": "stream",
     "text": [
      "\n",
      "median:\n"
     ]
    },
    {
     "data": {
      "text/plain": [
       "rewards (before)    0.043203\n",
       "rewards (after)     2.583341\n",
       "dtype: float64"
      ]
     },
     "metadata": {},
     "output_type": "display_data"
    }
   ],
   "source": [
    "print(\"mean:\")\n",
    "display(df_results[[\"rewards (before)\", \"rewards (after)\"]].mean())\n",
    "print()\n",
    "print(\"median:\")\n",
    "display(df_results[[\"rewards (before)\", \"rewards (after)\"]].median())"
   ]
  },
  {
   "cell_type": "markdown",
   "metadata": {},
   "source": [
    "## Save model\n",
    "Finally, we save the model and push it to the Hugging Face for later usage."
   ]
  },
  {
   "cell_type": "code",
   "execution_count": 16,
   "metadata": {},
   "outputs": [
    {
     "ename": "ValueError",
     "evalue": "Token is required (write-access action) but no token found. You need to provide a token or be logged in to Hugging Face with `huggingface-cli login` or `huggingface_hub.login`. See https://huggingface.co/settings/tokens.",
     "output_type": "error",
     "traceback": [
      "\u001b[1;31m---------------------------------------------------------------------------\u001b[0m",
      "\u001b[1;31mValueError\u001b[0m                                Traceback (most recent call last)",
      "Cell \u001b[1;32mIn[16], line 1\u001b[0m\n\u001b[1;32m----> 1\u001b[0m \u001b[43mmodel\u001b[49m\u001b[38;5;241;43m.\u001b[39;49m\u001b[43msave_pretrained\u001b[49m\u001b[43m(\u001b[49m\u001b[38;5;124;43m\"\u001b[39;49m\u001b[38;5;124;43mgpt2-imdb-pos-v2\u001b[39;49m\u001b[38;5;124;43m\"\u001b[39;49m\u001b[43m,\u001b[49m\u001b[43m \u001b[49m\u001b[43mpush_to_hub\u001b[49m\u001b[38;5;241;43m=\u001b[39;49m\u001b[38;5;28;43;01mTrue\u001b[39;49;00m\u001b[43m)\u001b[49m\n\u001b[0;32m      2\u001b[0m tokenizer\u001b[38;5;241m.\u001b[39msave_pretrained(\u001b[38;5;124m\"\u001b[39m\u001b[38;5;124mgpt2-imdb-pos-v2\u001b[39m\u001b[38;5;124m\"\u001b[39m, push_to_hub\u001b[38;5;241m=\u001b[39m\u001b[38;5;28;01mTrue\u001b[39;00m)\n",
      "File \u001b[1;32mD:\\my_projects\\gpt2_sentiment\\venv\\Lib\\site-packages\\trl\\models\\modeling_base.py:412\u001b[0m, in \u001b[0;36mPreTrainedModelWrapper.save_pretrained\u001b[1;34m(self, *args, **kwargs)\u001b[0m\n\u001b[0;32m    409\u001b[0m     torch\u001b[38;5;241m.\u001b[39msave(state_dict, save_path)\n\u001b[0;32m    410\u001b[0m     _ \u001b[38;5;241m=\u001b[39m kwargs\u001b[38;5;241m.\u001b[39mpop(\u001b[38;5;124m\"\u001b[39m\u001b[38;5;124mstate_dict\u001b[39m\u001b[38;5;124m\"\u001b[39m, \u001b[38;5;28;01mNone\u001b[39;00m)\n\u001b[1;32m--> 412\u001b[0m \u001b[38;5;28;01mreturn\u001b[39;00m \u001b[38;5;28;43mself\u001b[39;49m\u001b[38;5;241;43m.\u001b[39;49m\u001b[43mpretrained_model\u001b[49m\u001b[38;5;241;43m.\u001b[39;49m\u001b[43msave_pretrained\u001b[49m\u001b[43m(\u001b[49m\u001b[38;5;241;43m*\u001b[39;49m\u001b[43margs\u001b[49m\u001b[43m,\u001b[49m\u001b[43m \u001b[49m\u001b[38;5;241;43m*\u001b[39;49m\u001b[38;5;241;43m*\u001b[39;49m\u001b[43mkwargs\u001b[49m\u001b[43m)\u001b[49m\n",
      "File \u001b[1;32mD:\\my_projects\\gpt2_sentiment\\venv\\Lib\\site-packages\\transformers\\modeling_utils.py:1972\u001b[0m, in \u001b[0;36mPreTrainedModel.save_pretrained\u001b[1;34m(self, save_directory, is_main_process, state_dict, save_function, push_to_hub, max_shard_size, safe_serialization, variant, token, save_peft_format, **kwargs)\u001b[0m\n\u001b[0;32m   1970\u001b[0m     commit_message \u001b[38;5;241m=\u001b[39m kwargs\u001b[38;5;241m.\u001b[39mpop(\u001b[38;5;124m\"\u001b[39m\u001b[38;5;124mcommit_message\u001b[39m\u001b[38;5;124m\"\u001b[39m, \u001b[38;5;28;01mNone\u001b[39;00m)\n\u001b[0;32m   1971\u001b[0m     repo_id \u001b[38;5;241m=\u001b[39m kwargs\u001b[38;5;241m.\u001b[39mpop(\u001b[38;5;124m\"\u001b[39m\u001b[38;5;124mrepo_id\u001b[39m\u001b[38;5;124m\"\u001b[39m, save_directory\u001b[38;5;241m.\u001b[39msplit(os\u001b[38;5;241m.\u001b[39mpath\u001b[38;5;241m.\u001b[39msep)[\u001b[38;5;241m-\u001b[39m\u001b[38;5;241m1\u001b[39m])\n\u001b[1;32m-> 1972\u001b[0m     repo_id \u001b[38;5;241m=\u001b[39m \u001b[38;5;28;43mself\u001b[39;49m\u001b[38;5;241;43m.\u001b[39;49m\u001b[43m_create_repo\u001b[49m\u001b[43m(\u001b[49m\u001b[43mrepo_id\u001b[49m\u001b[43m,\u001b[49m\u001b[43m \u001b[49m\u001b[38;5;241;43m*\u001b[39;49m\u001b[38;5;241;43m*\u001b[39;49m\u001b[43mkwargs\u001b[49m\u001b[43m)\u001b[49m\n\u001b[0;32m   1973\u001b[0m     files_timestamps \u001b[38;5;241m=\u001b[39m \u001b[38;5;28mself\u001b[39m\u001b[38;5;241m.\u001b[39m_get_files_timestamps(save_directory)\n\u001b[0;32m   1975\u001b[0m \u001b[38;5;66;03m# Only save the model itself if we are using distributed training\u001b[39;00m\n",
      "File \u001b[1;32mD:\\my_projects\\gpt2_sentiment\\venv\\Lib\\site-packages\\transformers\\utils\\hub.py:709\u001b[0m, in \u001b[0;36mPushToHubMixin._create_repo\u001b[1;34m(self, repo_id, private, token, repo_url, organization)\u001b[0m\n\u001b[0;32m    706\u001b[0m             repo_id \u001b[38;5;241m=\u001b[39m repo_id\u001b[38;5;241m.\u001b[39msplit(\u001b[38;5;124m\"\u001b[39m\u001b[38;5;124m/\u001b[39m\u001b[38;5;124m\"\u001b[39m)[\u001b[38;5;241m-\u001b[39m\u001b[38;5;241m1\u001b[39m]\n\u001b[0;32m    707\u001b[0m         repo_id \u001b[38;5;241m=\u001b[39m \u001b[38;5;124mf\u001b[39m\u001b[38;5;124m\"\u001b[39m\u001b[38;5;132;01m{\u001b[39;00morganization\u001b[38;5;132;01m}\u001b[39;00m\u001b[38;5;124m/\u001b[39m\u001b[38;5;132;01m{\u001b[39;00mrepo_id\u001b[38;5;132;01m}\u001b[39;00m\u001b[38;5;124m\"\u001b[39m\n\u001b[1;32m--> 709\u001b[0m url \u001b[38;5;241m=\u001b[39m \u001b[43mcreate_repo\u001b[49m\u001b[43m(\u001b[49m\u001b[43mrepo_id\u001b[49m\u001b[38;5;241;43m=\u001b[39;49m\u001b[43mrepo_id\u001b[49m\u001b[43m,\u001b[49m\u001b[43m \u001b[49m\u001b[43mtoken\u001b[49m\u001b[38;5;241;43m=\u001b[39;49m\u001b[43mtoken\u001b[49m\u001b[43m,\u001b[49m\u001b[43m \u001b[49m\u001b[43mprivate\u001b[49m\u001b[38;5;241;43m=\u001b[39;49m\u001b[43mprivate\u001b[49m\u001b[43m,\u001b[49m\u001b[43m \u001b[49m\u001b[43mexist_ok\u001b[49m\u001b[38;5;241;43m=\u001b[39;49m\u001b[38;5;28;43;01mTrue\u001b[39;49;00m\u001b[43m)\u001b[49m\n\u001b[0;32m    710\u001b[0m \u001b[38;5;28;01mreturn\u001b[39;00m url\u001b[38;5;241m.\u001b[39mrepo_id\n",
      "File \u001b[1;32mD:\\my_projects\\gpt2_sentiment\\venv\\Lib\\site-packages\\huggingface_hub\\utils\\_validators.py:118\u001b[0m, in \u001b[0;36mvalidate_hf_hub_args.<locals>._inner_fn\u001b[1;34m(*args, **kwargs)\u001b[0m\n\u001b[0;32m    115\u001b[0m \u001b[38;5;28;01mif\u001b[39;00m check_use_auth_token:\n\u001b[0;32m    116\u001b[0m     kwargs \u001b[38;5;241m=\u001b[39m smoothly_deprecate_use_auth_token(fn_name\u001b[38;5;241m=\u001b[39mfn\u001b[38;5;241m.\u001b[39m\u001b[38;5;18m__name__\u001b[39m, has_token\u001b[38;5;241m=\u001b[39mhas_token, kwargs\u001b[38;5;241m=\u001b[39mkwargs)\n\u001b[1;32m--> 118\u001b[0m \u001b[38;5;28;01mreturn\u001b[39;00m \u001b[43mfn\u001b[49m\u001b[43m(\u001b[49m\u001b[38;5;241;43m*\u001b[39;49m\u001b[43margs\u001b[49m\u001b[43m,\u001b[49m\u001b[43m \u001b[49m\u001b[38;5;241;43m*\u001b[39;49m\u001b[38;5;241;43m*\u001b[39;49m\u001b[43mkwargs\u001b[49m\u001b[43m)\u001b[49m\n",
      "File \u001b[1;32mD:\\my_projects\\gpt2_sentiment\\venv\\Lib\\site-packages\\huggingface_hub\\hf_api.py:2542\u001b[0m, in \u001b[0;36mHfApi.create_repo\u001b[1;34m(self, repo_id, token, private, repo_type, exist_ok, space_sdk, space_hardware, space_storage, space_sleep_time, space_secrets, space_variables)\u001b[0m\n\u001b[0;32m   2538\u001b[0m \u001b[38;5;28;01mif\u001b[39;00m \u001b[38;5;28mgetattr\u001b[39m(\u001b[38;5;28mself\u001b[39m, \u001b[38;5;124m\"\u001b[39m\u001b[38;5;124m_lfsmultipartthresh\u001b[39m\u001b[38;5;124m\"\u001b[39m, \u001b[38;5;28;01mNone\u001b[39;00m):\n\u001b[0;32m   2539\u001b[0m     \u001b[38;5;66;03m# Testing purposes only.\u001b[39;00m\n\u001b[0;32m   2540\u001b[0m     \u001b[38;5;66;03m# See https://github.com/huggingface/huggingface_hub/pull/733/files#r820604472\u001b[39;00m\n\u001b[0;32m   2541\u001b[0m     json[\u001b[38;5;124m\"\u001b[39m\u001b[38;5;124mlfsmultipartthresh\u001b[39m\u001b[38;5;124m\"\u001b[39m] \u001b[38;5;241m=\u001b[39m \u001b[38;5;28mself\u001b[39m\u001b[38;5;241m.\u001b[39m_lfsmultipartthresh  \u001b[38;5;66;03m# type: ignore\u001b[39;00m\n\u001b[1;32m-> 2542\u001b[0m headers \u001b[38;5;241m=\u001b[39m \u001b[38;5;28;43mself\u001b[39;49m\u001b[38;5;241;43m.\u001b[39;49m\u001b[43m_build_hf_headers\u001b[49m\u001b[43m(\u001b[49m\u001b[43mtoken\u001b[49m\u001b[38;5;241;43m=\u001b[39;49m\u001b[43mtoken\u001b[49m\u001b[43m,\u001b[49m\u001b[43m \u001b[49m\u001b[43mis_write_action\u001b[49m\u001b[38;5;241;43m=\u001b[39;49m\u001b[38;5;28;43;01mTrue\u001b[39;49;00m\u001b[43m)\u001b[49m\n\u001b[0;32m   2543\u001b[0m r \u001b[38;5;241m=\u001b[39m get_session()\u001b[38;5;241m.\u001b[39mpost(path, headers\u001b[38;5;241m=\u001b[39mheaders, json\u001b[38;5;241m=\u001b[39mjson)\n\u001b[0;32m   2545\u001b[0m \u001b[38;5;28;01mtry\u001b[39;00m:\n",
      "File \u001b[1;32mD:\\my_projects\\gpt2_sentiment\\venv\\Lib\\site-packages\\huggingface_hub\\hf_api.py:5719\u001b[0m, in \u001b[0;36mHfApi._build_hf_headers\u001b[1;34m(self, token, is_write_action, library_name, library_version, user_agent)\u001b[0m\n\u001b[0;32m   5716\u001b[0m \u001b[38;5;28;01mif\u001b[39;00m token \u001b[38;5;129;01mis\u001b[39;00m \u001b[38;5;28;01mNone\u001b[39;00m:\n\u001b[0;32m   5717\u001b[0m     \u001b[38;5;66;03m# Cannot do `token = token or self.token` as token can be `False`.\u001b[39;00m\n\u001b[0;32m   5718\u001b[0m     token \u001b[38;5;241m=\u001b[39m \u001b[38;5;28mself\u001b[39m\u001b[38;5;241m.\u001b[39mtoken\n\u001b[1;32m-> 5719\u001b[0m \u001b[38;5;28;01mreturn\u001b[39;00m \u001b[43mbuild_hf_headers\u001b[49m\u001b[43m(\u001b[49m\n\u001b[0;32m   5720\u001b[0m \u001b[43m    \u001b[49m\u001b[43mtoken\u001b[49m\u001b[38;5;241;43m=\u001b[39;49m\u001b[43mtoken\u001b[49m\u001b[43m,\u001b[49m\n\u001b[0;32m   5721\u001b[0m \u001b[43m    \u001b[49m\u001b[43mis_write_action\u001b[49m\u001b[38;5;241;43m=\u001b[39;49m\u001b[43mis_write_action\u001b[49m\u001b[43m,\u001b[49m\n\u001b[0;32m   5722\u001b[0m \u001b[43m    \u001b[49m\u001b[43mlibrary_name\u001b[49m\u001b[38;5;241;43m=\u001b[39;49m\u001b[43mlibrary_name\u001b[49m\u001b[43m \u001b[49m\u001b[38;5;129;43;01mor\u001b[39;49;00m\u001b[43m \u001b[49m\u001b[38;5;28;43mself\u001b[39;49m\u001b[38;5;241;43m.\u001b[39;49m\u001b[43mlibrary_name\u001b[49m\u001b[43m,\u001b[49m\n\u001b[0;32m   5723\u001b[0m \u001b[43m    \u001b[49m\u001b[43mlibrary_version\u001b[49m\u001b[38;5;241;43m=\u001b[39;49m\u001b[43mlibrary_version\u001b[49m\u001b[43m \u001b[49m\u001b[38;5;129;43;01mor\u001b[39;49;00m\u001b[43m \u001b[49m\u001b[38;5;28;43mself\u001b[39;49m\u001b[38;5;241;43m.\u001b[39;49m\u001b[43mlibrary_version\u001b[49m\u001b[43m,\u001b[49m\n\u001b[0;32m   5724\u001b[0m \u001b[43m    \u001b[49m\u001b[43muser_agent\u001b[49m\u001b[38;5;241;43m=\u001b[39;49m\u001b[43muser_agent\u001b[49m\u001b[43m \u001b[49m\u001b[38;5;129;43;01mor\u001b[39;49;00m\u001b[43m \u001b[49m\u001b[38;5;28;43mself\u001b[39;49m\u001b[38;5;241;43m.\u001b[39;49m\u001b[43muser_agent\u001b[49m\u001b[43m,\u001b[49m\n\u001b[0;32m   5725\u001b[0m \u001b[43m\u001b[49m\u001b[43m)\u001b[49m\n",
      "File \u001b[1;32mD:\\my_projects\\gpt2_sentiment\\venv\\Lib\\site-packages\\huggingface_hub\\utils\\_validators.py:118\u001b[0m, in \u001b[0;36mvalidate_hf_hub_args.<locals>._inner_fn\u001b[1;34m(*args, **kwargs)\u001b[0m\n\u001b[0;32m    115\u001b[0m \u001b[38;5;28;01mif\u001b[39;00m check_use_auth_token:\n\u001b[0;32m    116\u001b[0m     kwargs \u001b[38;5;241m=\u001b[39m smoothly_deprecate_use_auth_token(fn_name\u001b[38;5;241m=\u001b[39mfn\u001b[38;5;241m.\u001b[39m\u001b[38;5;18m__name__\u001b[39m, has_token\u001b[38;5;241m=\u001b[39mhas_token, kwargs\u001b[38;5;241m=\u001b[39mkwargs)\n\u001b[1;32m--> 118\u001b[0m \u001b[38;5;28;01mreturn\u001b[39;00m \u001b[43mfn\u001b[49m\u001b[43m(\u001b[49m\u001b[38;5;241;43m*\u001b[39;49m\u001b[43margs\u001b[49m\u001b[43m,\u001b[49m\u001b[43m \u001b[49m\u001b[38;5;241;43m*\u001b[39;49m\u001b[38;5;241;43m*\u001b[39;49m\u001b[43mkwargs\u001b[49m\u001b[43m)\u001b[49m\n",
      "File \u001b[1;32mD:\\my_projects\\gpt2_sentiment\\venv\\Lib\\site-packages\\huggingface_hub\\utils\\_headers.py:122\u001b[0m, in \u001b[0;36mbuild_hf_headers\u001b[1;34m(token, is_write_action, library_name, library_version, user_agent)\u001b[0m\n\u001b[0;32m    120\u001b[0m \u001b[38;5;66;03m# Get auth token to send\u001b[39;00m\n\u001b[0;32m    121\u001b[0m token_to_send \u001b[38;5;241m=\u001b[39m get_token_to_send(token)\n\u001b[1;32m--> 122\u001b[0m \u001b[43m_validate_token_to_send\u001b[49m\u001b[43m(\u001b[49m\u001b[43mtoken_to_send\u001b[49m\u001b[43m,\u001b[49m\u001b[43m \u001b[49m\u001b[43mis_write_action\u001b[49m\u001b[38;5;241;43m=\u001b[39;49m\u001b[43mis_write_action\u001b[49m\u001b[43m)\u001b[49m\n\u001b[0;32m    124\u001b[0m \u001b[38;5;66;03m# Combine headers\u001b[39;00m\n\u001b[0;32m    125\u001b[0m headers \u001b[38;5;241m=\u001b[39m {\n\u001b[0;32m    126\u001b[0m     \u001b[38;5;124m\"\u001b[39m\u001b[38;5;124muser-agent\u001b[39m\u001b[38;5;124m\"\u001b[39m: _http_user_agent(\n\u001b[0;32m    127\u001b[0m         library_name\u001b[38;5;241m=\u001b[39mlibrary_name,\n\u001b[1;32m   (...)\u001b[0m\n\u001b[0;32m    130\u001b[0m     )\n\u001b[0;32m    131\u001b[0m }\n",
      "File \u001b[1;32mD:\\my_projects\\gpt2_sentiment\\venv\\Lib\\site-packages\\huggingface_hub\\utils\\_headers.py:172\u001b[0m, in \u001b[0;36m_validate_token_to_send\u001b[1;34m(token, is_write_action)\u001b[0m\n\u001b[0;32m    170\u001b[0m \u001b[38;5;28;01mif\u001b[39;00m is_write_action:\n\u001b[0;32m    171\u001b[0m     \u001b[38;5;28;01mif\u001b[39;00m token \u001b[38;5;129;01mis\u001b[39;00m \u001b[38;5;28;01mNone\u001b[39;00m:\n\u001b[1;32m--> 172\u001b[0m         \u001b[38;5;28;01mraise\u001b[39;00m \u001b[38;5;167;01mValueError\u001b[39;00m(\n\u001b[0;32m    173\u001b[0m             \u001b[38;5;124m\"\u001b[39m\u001b[38;5;124mToken is required (write-access action) but no token found. You need\u001b[39m\u001b[38;5;124m\"\u001b[39m\n\u001b[0;32m    174\u001b[0m             \u001b[38;5;124m\"\u001b[39m\u001b[38;5;124m to provide a token or be logged in to Hugging Face with\u001b[39m\u001b[38;5;124m\"\u001b[39m\n\u001b[0;32m    175\u001b[0m             \u001b[38;5;124m\"\u001b[39m\u001b[38;5;124m `huggingface-cli login` or `huggingface_hub.login`. See\u001b[39m\u001b[38;5;124m\"\u001b[39m\n\u001b[0;32m    176\u001b[0m             \u001b[38;5;124m\"\u001b[39m\u001b[38;5;124m https://huggingface.co/settings/tokens.\u001b[39m\u001b[38;5;124m\"\u001b[39m\n\u001b[0;32m    177\u001b[0m         )\n\u001b[0;32m    178\u001b[0m     \u001b[38;5;28;01mif\u001b[39;00m token\u001b[38;5;241m.\u001b[39mstartswith(\u001b[38;5;124m\"\u001b[39m\u001b[38;5;124mapi_org\u001b[39m\u001b[38;5;124m\"\u001b[39m):\n\u001b[0;32m    179\u001b[0m         \u001b[38;5;28;01mraise\u001b[39;00m \u001b[38;5;167;01mValueError\u001b[39;00m(\n\u001b[0;32m    180\u001b[0m             \u001b[38;5;124m\"\u001b[39m\u001b[38;5;124mYou must use your personal account token for write-access methods. To\u001b[39m\u001b[38;5;124m\"\u001b[39m\n\u001b[0;32m    181\u001b[0m             \u001b[38;5;124m\"\u001b[39m\u001b[38;5;124m generate a write-access token, go to\u001b[39m\u001b[38;5;124m\"\u001b[39m\n\u001b[0;32m    182\u001b[0m             \u001b[38;5;124m\"\u001b[39m\u001b[38;5;124m https://huggingface.co/settings/tokens\u001b[39m\u001b[38;5;124m\"\u001b[39m\n\u001b[0;32m    183\u001b[0m         )\n",
      "\u001b[1;31mValueError\u001b[0m: Token is required (write-access action) but no token found. You need to provide a token or be logged in to Hugging Face with `huggingface-cli login` or `huggingface_hub.login`. See https://huggingface.co/settings/tokens."
     ]
    },
    {
     "name": "stderr",
     "output_type": "stream",
     "text": [
      "\u001b[34m\u001b[1mwandb\u001b[0m: While tearing down the service manager. The following error has occurred: [WinError 10054] Удаленный хост принудительно разорвал существующее подключение\n"
     ]
    }
   ],
   "source": [
    "model.save_pretrained(\"gpt2-imdb-pos-v2\", push_to_hub=True)\n",
    "tokenizer.save_pretrained(\"gpt2-imdb-pos-v2\", push_to_hub=True)"
   ]
  },
  {
   "cell_type": "code",
   "execution_count": null,
   "metadata": {},
   "outputs": [],
   "source": []
  }
 ],
 "metadata": {
  "kernelspec": {
   "display_name": "Python 3 (ipykernel)",
   "language": "python",
   "name": "python3"
  },
  "language_info": {
   "codemirror_mode": {
    "name": "ipython",
    "version": 3
   },
   "file_extension": ".py",
   "mimetype": "text/x-python",
   "name": "python",
   "nbconvert_exporter": "python",
   "pygments_lexer": "ipython3",
   "version": "3.11.5"
  },
  "vscode": {
   "interpreter": {
    "hash": "4c8ff454cd947027f86954d72bf940c689a97dcc494eb53cfe4813862c6065fe"
   }
  }
 },
 "nbformat": 4,
 "nbformat_minor": 4
}
