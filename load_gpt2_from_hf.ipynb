{
 "cells": [
  {
   "cell_type": "code",
   "execution_count": 1,
   "id": "a81aee7d-40e8-4bf4-a358-b744f73475f1",
   "metadata": {},
   "outputs": [],
   "source": [
    "import transformers\n",
    "import torch\n",
    "from torch import nn\n",
    "import pandas as pd\n",
    "from transformers import pipeline\n",
    "from transformers import GPT2Tokenizer, GPT2LMHeadModel"
   ]
  },
  {
   "cell_type": "code",
   "execution_count": 2,
   "id": "7836bd9b-cc2b-4cc8-86bc-6112555f10a9",
   "metadata": {},
   "outputs": [
    {
     "data": {
      "text/plain": [
       "device(type='cuda')"
      ]
     },
     "execution_count": 2,
     "metadata": {},
     "output_type": "execute_result"
    }
   ],
   "source": [
    "device = torch.device(\"cuda\" if torch.cuda.is_available() else \"cpu\")\n",
    "device"
   ]
  },
  {
   "cell_type": "code",
   "execution_count": 3,
   "id": "5763abe5-ed63-451d-be3a-838d3423499f",
   "metadata": {},
   "outputs": [],
   "source": [
    "model_name = 'maxfil333/gpt2_imdb_generator_v2'"
   ]
  },
  {
   "cell_type": "code",
   "execution_count": 4,
   "id": "1285f05a-3c79-439f-903e-c11451bda371",
   "metadata": {},
   "outputs": [],
   "source": [
    "context = 'Well what can I say. Another adaptation of'"
   ]
  },
  {
   "cell_type": "markdown",
   "id": "de47bf1f-8102-4fe6-9579-1b0a4105cbbd",
   "metadata": {},
   "source": [
    "После обучения модели мы можем использовать ее, загрузив любым доступным способом. <br>\n",
    "Далее показаны способы загрузки через <b>GPT2LMHeadModel</b> и <b>pipeline</b>"
   ]
  },
  {
   "cell_type": "markdown",
   "id": "6e58dc0c-4c62-4110-89e6-f5ed05604b84",
   "metadata": {},
   "source": [
    "### GPT2LMHeadModel"
   ]
  },
  {
   "cell_type": "code",
   "execution_count": 5,
   "id": "f5db5029-e71c-4688-b4d8-c6a92e13f39c",
   "metadata": {},
   "outputs": [
    {
     "name": "stderr",
     "output_type": "stream",
     "text": [
      "Special tokens have been added in the vocabulary, make sure the associated word embeddings are fine-tuned or trained.\n"
     ]
    }
   ],
   "source": [
    "model = GPT2LMHeadModel.from_pretrained(model_name).to(device)\n",
    "tokenizer = GPT2Tokenizer.from_pretrained(model_name)"
   ]
  },
  {
   "cell_type": "code",
   "execution_count": 6,
   "id": "8c6d5ce7-161b-4d77-a5a0-ce73cfaaff58",
   "metadata": {},
   "outputs": [],
   "source": [
    "generation_kwargs = {'do_sample': True,\n",
    "                     'num_beams': 2,\n",
    "                     'temperature': 1.5,\n",
    "                     'top_p': 0.9,\n",
    "                     'top_k': 30,\n",
    "                     'max_length': 200,\n",
    "                     'pad_token_id': tokenizer.eos_token_id}"
   ]
  },
  {
   "cell_type": "code",
   "execution_count": 7,
   "id": "c24f2205-e966-4c52-be5e-250f2d0a3396",
   "metadata": {},
   "outputs": [
    {
     "name": "stdout",
     "output_type": "stream",
     "text": [
      "Well what can I say. Another adaptation of an old French film, this one starring Jean-Luc Godard and Claude-Michel Aufe, is very well made and entertaining. The plot and the characters are well drawn, and very well written. The film is quite well done, with plenty of humor, and very good acting and directing. I have seen a couple of times this film in the theaters, and it is very good to see it at home. The music in the film is excellent, and there is a good amount of dancing on the dance floor. The script is very well written, with very good dialogue. I really enjoyed seeing this film in the theaters. <br /><br />I highly recommend this film to a friend. It has a good story, and a good ensemble cast. The story is very good and well done. <br /><br />This movie is a great example of French Cinema. If you are in the market for a good French\n"
     ]
    }
   ],
   "source": [
    "input_ids = tokenizer.encode(context, return_tensors=\"pt\").to(device)\n",
    "model.eval()\n",
    "with torch.no_grad():\n",
    "    out = model.generate(input_ids, **generation_kwargs)\n",
    "\n",
    "generated_text = list(map(tokenizer.decode, out))[0]\n",
    "\n",
    "print(generated_text)"
   ]
  },
  {
   "cell_type": "markdown",
   "id": "ae490cc4-8555-46a4-91b5-47b21956d588",
   "metadata": {},
   "source": [
    "### pipeline('text-generation')"
   ]
  },
  {
   "cell_type": "code",
   "execution_count": 8,
   "id": "df8db4b2-e5d9-4b8d-aba1-78b1a87aa84e",
   "metadata": {},
   "outputs": [
    {
     "name": "stderr",
     "output_type": "stream",
     "text": [
      "Special tokens have been added in the vocabulary, make sure the associated word embeddings are fine-tuned or trained.\n",
      "Special tokens have been added in the vocabulary, make sure the associated word embeddings are fine-tuned or trained.\n"
     ]
    }
   ],
   "source": [
    "pipe = pipeline('text-generation', model=model_name, tokenizer=model_name)"
   ]
  },
  {
   "cell_type": "code",
   "execution_count": 9,
   "id": "777db889-f780-4bb3-8c99-581b51318973",
   "metadata": {},
   "outputs": [
    {
     "data": {
      "text/plain": [
       "[{'generated_text': 'Well what can I say. Another adaptation of the novel. A great idea for a film. The plot and the plotline are very well executed. The cinematography and cinematography is very good. The acting is great. The acting is very good. This film is a great idea. I will recommend it to anyone who wants to watch it. It is very good. I am very glad that it was adapted from the novel, and I will be very happy to see it again. I do not think it is as good as the original. I think that the movie was written by a very good writer, who gave the novel a very good story. The acting and the plot line were very well executed. It is a very good idea to make a film with a good story. This is a very good idea for a film. It is very good. I will recommend it to anyone who wants to watch it. It is very good. I am very glad that it was adapted from the'}]"
      ]
     },
     "execution_count": 9,
     "metadata": {},
     "output_type": "execute_result"
    }
   ],
   "source": [
    "pipe(context, **generation_kwargs)"
   ]
  },
  {
   "cell_type": "markdown",
   "id": "22757a33-6e7b-4b30-a72c-1c7531695346",
   "metadata": {},
   "source": [
    "### comparison of default and pretrained model"
   ]
  },
  {
   "cell_type": "code",
   "execution_count": 10,
   "id": "de446e6d-5a47-44ab-9949-9b3f95e48f9a",
   "metadata": {},
   "outputs": [],
   "source": [
    "default_generator_name = 'gpt2'\n",
    "imdb_generator_name = model_name\n",
    "generation_kwargs['max_length'] = 100\n",
    "inputs = [\"If you ask me\",\n",
    "          \"I rarely pay attention\",\n",
    "          \"Once upon a time\",\n",
    "          \"So, I want to share my thoughts about\",\n",
    "          \"No matter how sad it may sound\"]"
   ]
  },
  {
   "cell_type": "markdown",
   "id": "be004305-e1dc-4501-82a1-026b519adfb3",
   "metadata": {},
   "source": [
    "#### default gpt2"
   ]
  },
  {
   "cell_type": "code",
   "execution_count": 11,
   "id": "82d748c4-7a2e-4ab1-ba86-8ce7143f473c",
   "metadata": {},
   "outputs": [],
   "source": [
    "default_pipe = pipeline('text-generation', model=default_generator_name, tokenizer=default_generator_name)\n",
    "default_outpus = default_pipe(inputs, **generation_kwargs)\n",
    "default_outpus = [x[0]['generated_text'] for x in default_outpus]"
   ]
  },
  {
   "cell_type": "markdown",
   "id": "fa8604be-d78e-4335-a645-9413fd7c28e7",
   "metadata": {},
   "source": [
    "#### pretrained on imdb gpt2"
   ]
  },
  {
   "cell_type": "code",
   "execution_count": 12,
   "id": "c43c2991-b81d-4d2c-8947-b2d590eeb00e",
   "metadata": {},
   "outputs": [
    {
     "name": "stderr",
     "output_type": "stream",
     "text": [
      "Special tokens have been added in the vocabulary, make sure the associated word embeddings are fine-tuned or trained.\n",
      "Special tokens have been added in the vocabulary, make sure the associated word embeddings are fine-tuned or trained.\n"
     ]
    }
   ],
   "source": [
    "imdb_pipe = pipeline('text-generation', model=imdb_generator_name, tokenizer=imdb_generator_name)\n",
    "imdb_outpus = imdb_pipe(inputs, **generation_kwargs)\n",
    "imdb_outpus = [x[0]['generated_text'] for x in imdb_outpus]"
   ]
  },
  {
   "cell_type": "markdown",
   "id": "4f4dc629-931b-400c-aed0-71a62bb0111b",
   "metadata": {},
   "source": [
    "### results:"
   ]
  },
  {
   "cell_type": "code",
   "execution_count": 13,
   "id": "a2d51ad6-3693-4234-817a-cde4a5ade749",
   "metadata": {},
   "outputs": [
    {
     "data": {
      "text/plain": [
       "['If you ask me, I\\'m just saying it\\'s not a big deal. It\\'s something we\\'re not going to talk about.\"\\n\\n\"So what are you going to do?\"\\n\\n\"I\\'m going to go into the kitchen. I\\'m going to put the dishes in the oven. I\\'m going to be in the kitchen, but I don\\'t want to go into the oven. I want to go into the kitchen and get my breakfast. I don\\'t want to go in',\n",
       " \"I rarely pay attention to what people do with their money. I don't care. If they don't take care of themselves, they will die. It's not my place to say it, because I'm not a lawyer.\\n\\nI am a lawyer and I don't want to be one.\\n\\nI don't want to be the one who gets arrested because I'm a lawyer.\\n\\nI think about the things I do, and the things I don't do. I've\",\n",
       " 'Once upon a time, when it was not possible, he would ask himself, why do I want to die?\"\\n\\n\"Because I want to be loved. Because I want to be respected. Because I want to be loved. Because I want to be loved. Because I want to be loved. Because I want to be loved. Because I want to be loved. Because I want to be loved. Because I want to be loved. Because I want to be loved. Because I want to',\n",
       " 'So, I want to share my thoughts about this game with all of you who play it.\\n\\nWe know that the game is extremely difficult to play. So, I wanted to share with you some of my experiences with this game. This game is so difficult to play because it was such a long time ago.\\n\\nYou can play it in two ways. You can play with friends, or you can play with your friends.\\n\\nYou can play with friends, or you can play',\n",
       " \"No matter how sad it may sound, I've always believed that I was in the right place.\\n\\nIt took me a few months to realize that what I had done to myself was wrong and that what I did was wrong, and that what I did to others was wrong. I didn't do it for money. I did it to make money. I don't want to live like this for any of you. I want to live for the future. I want to live so that my\"]"
      ]
     },
     "execution_count": 13,
     "metadata": {},
     "output_type": "execute_result"
    }
   ],
   "source": [
    "default_outpus"
   ]
  },
  {
   "cell_type": "code",
   "execution_count": 14,
   "id": "68e7d53f-8918-41d3-93f2-f2336ccca47f",
   "metadata": {},
   "outputs": [
    {
     "data": {
      "text/plain": [
       "[\"If you ask me how the film ends, I'll tell you that the main character is a very intelligent, well-meaning and well-acted actor with a strong sense of humor. He's also very good at his job as a lawyer, so he gets the job done. He is the only character who doesn't fall into the trap of being the most stupid character in the movie. He's so good that I found myself laughing a lot at his antics, which is a shame, because he\",\n",
       " \"I rarely pay attention to this movie, and I don't know why. I don't know if it's because of the fact that I'm not a huge fan, or I just haven't seen the movie yet. It's just that it's so much more boring than the first time I watched it. The plot is boring, and the ending is boring. I feel like I'm giving it 2 out of 10. I didn't even watch it in the first place, so this movie is\",\n",
       " 'Once upon a time, there were a lot of movies that were based on real events. It was a good thing the genre could not get enough credit for that. There were a few movies that were based on real life events and there were a few movies that were based on real life events and there were a few movies that were based on real life events and there were a couple of movies that were based on real life events and there are a couple of movies that are based on real life events and',\n",
       " \"So, I want to share my thoughts about this movie. I have watched the original version of this movie many times and I thought that this movie would be much better made. I watched the original version on DVD, I can't remember what it was about, but it's a very good movie and it's really good. The story is very clever, the characters are believable, the acting is very good, the direction is very good. The movie is well written, the story is very good,\",\n",
       " \"No matter how sad it may sound, this movie has a heart and soul of its own. Don't miss this great movie.<br /><br />The story is very simple, and the acting is very good. The characters are all very likable and have an interesting relationship with each other.<br /><br />It is a film that I am still waiting for. After that, I will definitely be buying this film again, and I will definitely watch it again.<br /><br\"]"
      ]
     },
     "execution_count": 14,
     "metadata": {},
     "output_type": "execute_result"
    }
   ],
   "source": [
    "imdb_outpus"
   ]
  }
 ],
 "metadata": {
  "kernelspec": {
   "display_name": "Python 3 (ipykernel)",
   "language": "python",
   "name": "python3"
  },
  "language_info": {
   "codemirror_mode": {
    "name": "ipython",
    "version": 3
   },
   "file_extension": ".py",
   "mimetype": "text/x-python",
   "name": "python",
   "nbconvert_exporter": "python",
   "pygments_lexer": "ipython3",
   "version": "3.11.5"
  }
 },
 "nbformat": 4,
 "nbformat_minor": 5
}
