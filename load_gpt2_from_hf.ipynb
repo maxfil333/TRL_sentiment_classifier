{
 "cells": [
  {
   "cell_type": "code",
   "execution_count": 85,
   "id": "a81aee7d-40e8-4bf4-a358-b744f73475f1",
   "metadata": {},
   "outputs": [],
   "source": [
    "import transformers\n",
    "import torch\n",
    "from torch import nn\n",
    "import pandas as pd\n",
    "from transformers import pipeline\n",
    "from transformers import GPT2Tokenizer, GPT2LMHeadModel"
   ]
  },
  {
   "cell_type": "code",
   "execution_count": 86,
   "id": "7836bd9b-cc2b-4cc8-86bc-6112555f10a9",
   "metadata": {},
   "outputs": [
    {
     "data": {
      "text/plain": [
       "device(type='cuda')"
      ]
     },
     "execution_count": 86,
     "metadata": {},
     "output_type": "execute_result"
    }
   ],
   "source": [
    "device = torch.device(\"cuda\" if torch.cuda.is_available() else \"cpu\")\n",
    "device"
   ]
  },
  {
   "cell_type": "code",
   "execution_count": 87,
   "id": "5763abe5-ed63-451d-be3a-838d3423499f",
   "metadata": {},
   "outputs": [],
   "source": [
    "model_name = 'maxfil333/gpt2_imdb_generator'"
   ]
  },
  {
   "cell_type": "code",
   "execution_count": 88,
   "id": "1285f05a-3c79-439f-903e-c11451bda371",
   "metadata": {},
   "outputs": [],
   "source": [
    "context = 'Well what can I say. Another adaptation of'"
   ]
  },
  {
   "cell_type": "markdown",
   "id": "de47bf1f-8102-4fe6-9579-1b0a4105cbbd",
   "metadata": {},
   "source": [
    "После обучения модели мы можем использовать ее, загрузив любым доступным способом. <br>\n",
    "Далее показаны способы загрузки через <b>GPT2LMHeadModel</b> и <b>pipeline</b>"
   ]
  },
  {
   "cell_type": "markdown",
   "id": "6e58dc0c-4c62-4110-89e6-f5ed05604b84",
   "metadata": {},
   "source": [
    "### GPT2LMHeadModel"
   ]
  },
  {
   "cell_type": "code",
   "execution_count": 89,
   "id": "f5db5029-e71c-4688-b4d8-c6a92e13f39c",
   "metadata": {},
   "outputs": [
    {
     "name": "stderr",
     "output_type": "stream",
     "text": [
      "Special tokens have been added in the vocabulary, make sure the associated word embeddings are fine-tuned or trained.\n"
     ]
    }
   ],
   "source": [
    "model = GPT2LMHeadModel.from_pretrained(model_name).to(device)\n",
    "tokenizer = GPT2Tokenizer.from_pretrained(model_name)"
   ]
  },
  {
   "cell_type": "code",
   "execution_count": 90,
   "id": "c24f2205-e966-4c52-be5e-250f2d0a3396",
   "metadata": {},
   "outputs": [
    {
     "name": "stdout",
     "output_type": "stream",
     "text": [
      "Well what can I say. Another adaptation of the novel was a great success. If anyone can recommend this adaptation, it is by far! <br /><br />The book was written in one day and, as a result, is one of the greatest films ever made. The characters and plot are so great that it is hard not to laugh. The music is so catchy, it would make you feel like you are on the edge of your seat.<br /><br />I have no idea how to pronounce this word. It sounds like a combination of English and German. If you have never heard the word, make sure you don't know what it means.<br /><br />You may not be able to pronounce it. It is the English equivalent of the Italian word'solo.' <br /><br />I recommend this movie. It is the only one I have ever seen that is actually good at making a good movie. It's a great movie for those who\n"
     ]
    }
   ],
   "source": [
    "input_ids = tokenizer.encode(context, return_tensors=\"pt\").to(device)\n",
    "model.eval()\n",
    "with torch.no_grad():\n",
    "    out = model.generate(input_ids, \n",
    "                        do_sample=True,\n",
    "                        num_beams=2,\n",
    "                        temperature=1.5,\n",
    "                        top_p=0.9,\n",
    "                        max_length=200,\n",
    "                        pad_token_id=tokenizer.eos_token_id\n",
    "                        )\n",
    "\n",
    "generated_text = list(map(tokenizer.decode, out))[0]\n",
    "\n",
    "print(generated_text)"
   ]
  },
  {
   "cell_type": "markdown",
   "id": "ae490cc4-8555-46a4-91b5-47b21956d588",
   "metadata": {},
   "source": [
    "### pipeline('text-generation')"
   ]
  },
  {
   "cell_type": "code",
   "execution_count": 91,
   "id": "df8db4b2-e5d9-4b8d-aba1-78b1a87aa84e",
   "metadata": {},
   "outputs": [
    {
     "name": "stderr",
     "output_type": "stream",
     "text": [
      "Special tokens have been added in the vocabulary, make sure the associated word embeddings are fine-tuned or trained.\n",
      "Special tokens have been added in the vocabulary, make sure the associated word embeddings are fine-tuned or trained.\n"
     ]
    }
   ],
   "source": [
    "pipe = pipeline('text-generation', model=model_name, tokenizer=model_name)"
   ]
  },
  {
   "cell_type": "code",
   "execution_count": 92,
   "id": "777db889-f780-4bb3-8c99-581b51318973",
   "metadata": {},
   "outputs": [
    {
     "name": "stderr",
     "output_type": "stream",
     "text": [
      "Setting `pad_token_id` to `eos_token_id`:50256 for open-end generation.\n"
     ]
    },
    {
     "data": {
      "text/plain": [
       "[{'generated_text': 'Well what can I say. Another adaptation of another work of genre, this time in a different genre. This is not bad either - just not as good as this time, and I think it\\'s more well done.<br /><br />The story is set in a futuristic future where we are given a new life and how to survive in times and situations where we are faced with new problems. The characters come from the same future, and each is introduced in their own way - by chance, or by experience, or by chance, or by chance.<br /><br />The dialogue is always interesting, but, because the movie doesn\\'t use the usual dialog, it\\'s really hard to understand much of what actually happens. It comes across as like an old school comedy, rather than a more modern one.<br /><br />It\\'s been a while since I read \"Horror by Night\" and I really need the story to stick in my head. This one works fine,'}]"
      ]
     },
     "execution_count": 92,
     "metadata": {},
     "output_type": "execute_result"
    }
   ],
   "source": [
    "pipe(context, max_length=200)"
   ]
  },
  {
   "cell_type": "markdown",
   "id": "22757a33-6e7b-4b30-a72c-1c7531695346",
   "metadata": {},
   "source": [
    "### comparison of default and pretrained model"
   ]
  },
  {
   "cell_type": "code",
   "execution_count": 93,
   "id": "de446e6d-5a47-44ab-9949-9b3f95e48f9a",
   "metadata": {},
   "outputs": [],
   "source": [
    "default_generator_name = 'gpt2'\n",
    "imdb_generator_name = 'maxfil333/gpt2_imdb_generator'"
   ]
  },
  {
   "cell_type": "code",
   "execution_count": 94,
   "id": "be3e7afb-7e1f-4374-ab09-4cb9e9958c38",
   "metadata": {},
   "outputs": [],
   "source": [
    "inputs = [\"if you ask me\",\n",
    "          \"My name is Julien and I\",\n",
    "          \"Once upon a time\",\n",
    "          \"So, I want to share my thoughts about\",\n",
    "          \"No matter how sad it may sound\"]"
   ]
  },
  {
   "cell_type": "markdown",
   "id": "be004305-e1dc-4501-82a1-026b519adfb3",
   "metadata": {},
   "source": [
    "#### default gpt2"
   ]
  },
  {
   "cell_type": "code",
   "execution_count": 95,
   "id": "82d748c4-7a2e-4ab1-ba86-8ce7143f473c",
   "metadata": {},
   "outputs": [],
   "source": [
    "default_pipe = pipeline('text-generation', model=default_generator_name, tokenizer=default_generator_name)\n",
    "default_outpus = default_pipe(inputs, max_length=100, pad_token_id=tokenizer.eos_token_id)\n",
    "default_outpus = [x[0]['generated_text'] for x in default_outpus]"
   ]
  },
  {
   "cell_type": "markdown",
   "id": "fa8604be-d78e-4335-a645-9413fd7c28e7",
   "metadata": {},
   "source": [
    "#### pretrained on imdb gpt2"
   ]
  },
  {
   "cell_type": "code",
   "execution_count": 96,
   "id": "c43c2991-b81d-4d2c-8947-b2d590eeb00e",
   "metadata": {},
   "outputs": [
    {
     "name": "stderr",
     "output_type": "stream",
     "text": [
      "Special tokens have been added in the vocabulary, make sure the associated word embeddings are fine-tuned or trained.\n",
      "Special tokens have been added in the vocabulary, make sure the associated word embeddings are fine-tuned or trained.\n"
     ]
    }
   ],
   "source": [
    "imdb_pipe = pipeline('text-generation', model=imdb_generator_name, tokenizer=imdb_generator_name)\n",
    "imdb_outpus = imdb_pipe(inputs, max_length=100, pad_token_id=tokenizer.eos_token_id)\n",
    "imdb_outpus = [x[0]['generated_text'] for x in imdb_outpus]"
   ]
  },
  {
   "cell_type": "markdown",
   "id": "4f4dc629-931b-400c-aed0-71a62bb0111b",
   "metadata": {},
   "source": [
    "### results:"
   ]
  },
  {
   "cell_type": "code",
   "execution_count": 98,
   "id": "a2d51ad6-3693-4234-817a-cde4a5ade749",
   "metadata": {},
   "outputs": [
    {
     "data": {
      "text/plain": [
       "['Can you please let us know more details about your _____ or your personal information, where they come from, what you do and what you do not know on the internet.',\n",
       " 'My name is Julien and I am a professional actor and my role is very versatile,\" he told the TV news agency. \"The role at Marvel is so simple.\"',\n",
       " 'Once upon a time, this particular brand was very successful. The first three years, their catalog was not nearly as broad and varied as it could be, but for a number of years before that, their collection was a relatively small phenomenon; they had barely been sold in a large market for an entire year.\\n\\nAs you read this about \"Diesel,\" you will find that many, many interesting facts about the brand were written and printed down between 1937 and 1961. What about some other products',\n",
       " \"So, I want to share my thoughts about all things Star Wars-related. I feel that this book has a little too much energy and a little more focus. I feel that there's too much going on here. The Star Wars universe is in turmoil right now, and the fans and producers need to figure out what to do to revive the story, and we all are not very happy about it.\\n\\nQ: Do you think you'll see your trilogy continue in the new and different film\",\n",
       " 'No matter how sad it may sound to you, there are ways our country can be improved.\"\\n\\nMr. Sanders has raised $7 million in fundraising for his bid, almost two-thirds of which came as a direct result of a huge-dollar donation from hedge fund manager Charles Schwab.\\n\\nAs far back as the year 2000, Mr. Sanders\\' campaign told supporters that his primary effort would be \"all about winning,\" despite the fact that he had already raised almost $6 million']"
      ]
     },
     "execution_count": 98,
     "metadata": {},
     "output_type": "execute_result"
    }
   ],
   "source": [
    "default_outpus"
   ]
  },
  {
   "cell_type": "code",
   "execution_count": 99,
   "id": "68e7d53f-8918-41d3-93f2-f2336ccca47f",
   "metadata": {},
   "outputs": [
    {
     "data": {
      "text/plain": [
       "[\"Can you please let us know more details about your ills, such as being a sick or a neurotic? This is by far the worst movie that I've seen this year. It is filled with unnecessary, unrealistic plots, and poor script. I guess it's just a poor movie that I watched with my family last year.<br /><br />This flick is simply stupid. It's a bunch of teenagers (not much of them left or are there any for the movie). We all\",\n",
       " \"My name is Julien and I like to like to have fun... It starts off very bad after one of the movie's opening moments and it ends with an epic brawl. My problem is that it's just so long the dialogue is unintelligible for me. The animation is not great, there are certain times which are confusing, but I just have to watch it. This movie didn't have any good plot at all. The music was pretty good that I was expecting, it was a lot\",\n",
       " \"Once upon a time I watched the film at the Sundance Film Festival, but I couldn't get it to watch, since I haven't seen it in several decades. If you're a fan of the horror genre, you might find this to be in your league. And as for those who would be surprised to hear that I enjoyed the film, especially the brief opening and ending, that were just as good as my usual, then I know I'm not the only one. I'm actually pretty\",\n",
       " \"So, I want to share my thoughts about this film. First I want to say that I am a huge fan. If you have watched the first three movies, you would know that this film is a pretty good movie. And the next one I think for you will really enjoy it. If you are a director out in North West England or other countries, don't expect bad acting and it's not too bad either. A lot of it is just funny, but of course at times, the\",\n",
       " \"No matter how sad it may sound, I will always remember the memory of that year. We'd all been there, and we've all heard the stories of 'Bully'. A handful of the older children were already there, but I doubt the rest would. They just hadn't had the chance to take to the street, and so were leaving. Even they couldn't remember the kids who were gone. Not only were we all scared that something would happen to them but also that it might happen\"]"
      ]
     },
     "execution_count": 99,
     "metadata": {},
     "output_type": "execute_result"
    }
   ],
   "source": [
    "imdb_outpus"
   ]
  },
  {
   "cell_type": "code",
   "execution_count": null,
   "id": "addeebc9-2dc9-4aa6-b3c0-351470d14065",
   "metadata": {},
   "outputs": [],
   "source": []
  }
 ],
 "metadata": {
  "kernelspec": {
   "display_name": "Python 3 (ipykernel)",
   "language": "python",
   "name": "python3"
  },
  "language_info": {
   "codemirror_mode": {
    "name": "ipython",
    "version": 3
   },
   "file_extension": ".py",
   "mimetype": "text/x-python",
   "name": "python",
   "nbconvert_exporter": "python",
   "pygments_lexer": "ipython3",
   "version": "3.11.5"
  }
 },
 "nbformat": 4,
 "nbformat_minor": 5
}
