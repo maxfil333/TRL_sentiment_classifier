{
 "cells": [
  {
   "cell_type": "code",
   "execution_count": 88,
   "id": "cb33cd67-a37e-4761-9762-ca7e7133c243",
   "metadata": {},
   "outputs": [],
   "source": [
    "import transformers\n",
    "import torch\n",
    "from torch import nn\n",
    "from transformers import pipeline\n",
    "from transformers import AutoModelForSequenceClassification, AutoTokenizer"
   ]
  },
  {
   "cell_type": "code",
   "execution_count": 89,
   "id": "ed68406a-0977-4b64-a6e1-a7e42944a5e4",
   "metadata": {},
   "outputs": [],
   "source": [
    "model_name = 'maxfil333/bert_imdb_classifier'"
   ]
  },
  {
   "cell_type": "code",
   "execution_count": 90,
   "id": "f89ae536-1782-48ee-a946-c6d6020a6022",
   "metadata": {},
   "outputs": [],
   "source": [
    "text = 'this movie was just awesome'"
   ]
  },
  {
   "cell_type": "markdown",
   "id": "ddd28afd-21f9-491b-84d6-1c82599749d8",
   "metadata": {},
   "source": [
    "### pipeline (text-classification)"
   ]
  },
  {
   "cell_type": "code",
   "execution_count": 91,
   "id": "26fc2896-485a-4f98-a86f-3bffaf4732f0",
   "metadata": {},
   "outputs": [
    {
     "data": {
      "application/vnd.jupyter.widget-view+json": {
       "model_id": "885fc65633f34b42af9606e5a8705b1b",
       "version_major": 2,
       "version_minor": 0
      },
      "text/plain": [
       "Downloading (…)lve/main/config.json:   0%|          | 0.00/715 [00:00<?, ?B/s]"
      ]
     },
     "metadata": {},
     "output_type": "display_data"
    },
    {
     "data": {
      "application/vnd.jupyter.widget-view+json": {
       "model_id": "b709fd446ca64c02a273a96b645d8a7a",
       "version_major": 2,
       "version_minor": 0
      },
      "text/plain": [
       "Downloading pytorch_model.bin:   0%|          | 0.00/268M [00:00<?, ?B/s]"
      ]
     },
     "metadata": {},
     "output_type": "display_data"
    },
    {
     "data": {
      "application/vnd.jupyter.widget-view+json": {
       "model_id": "f4aca11c65754a4ebc7196aa273c8b2d",
       "version_major": 2,
       "version_minor": 0
      },
      "text/plain": [
       "Downloading (…)okenizer_config.json:   0%|          | 0.00/1.46k [00:00<?, ?B/s]"
      ]
     },
     "metadata": {},
     "output_type": "display_data"
    },
    {
     "data": {
      "application/vnd.jupyter.widget-view+json": {
       "model_id": "df25d27035154b3b8b502132f5ae2894",
       "version_major": 2,
       "version_minor": 0
      },
      "text/plain": [
       "Downloading (…)solve/main/vocab.txt:   0%|          | 0.00/232k [00:00<?, ?B/s]"
      ]
     },
     "metadata": {},
     "output_type": "display_data"
    },
    {
     "data": {
      "application/vnd.jupyter.widget-view+json": {
       "model_id": "4be54744572b4ce786e7f550624bfc94",
       "version_major": 2,
       "version_minor": 0
      },
      "text/plain": [
       "Downloading (…)in/added_tokens.json:   0%|          | 0.00/82.0 [00:00<?, ?B/s]"
      ]
     },
     "metadata": {},
     "output_type": "display_data"
    },
    {
     "data": {
      "application/vnd.jupyter.widget-view+json": {
       "model_id": "2801af4c35a845f7a5b97b60ca64ba15",
       "version_major": 2,
       "version_minor": 0
      },
      "text/plain": [
       "Downloading (…)cial_tokens_map.json:   0%|          | 0.00/125 [00:00<?, ?B/s]"
      ]
     },
     "metadata": {},
     "output_type": "display_data"
    },
    {
     "name": "stderr",
     "output_type": "stream",
     "text": [
      "Special tokens have been added in the vocabulary, make sure the associated word embeddings are fine-tuned or trained.\n",
      "Special tokens have been added in the vocabulary, make sure the associated word embeddings are fine-tuned or trained.\n"
     ]
    }
   ],
   "source": [
    "model = pipeline('text-classification', model=model_name, tokenizer=model_name, top_k=None)"
   ]
  },
  {
   "cell_type": "code",
   "execution_count": 92,
   "id": "294b84a9-1172-4cb1-85bd-4096ae9bc0a8",
   "metadata": {},
   "outputs": [
    {
     "data": {
      "text/plain": [
       "[[{'label': 'pos', 'score': 0.9802774786949158},\n",
       "  {'label': 'neg', 'score': 0.019722502678632736}]]"
      ]
     },
     "execution_count": 92,
     "metadata": {},
     "output_type": "execute_result"
    }
   ],
   "source": [
    "model(text)"
   ]
  },
  {
   "cell_type": "markdown",
   "id": "2069648d-e1a7-4650-9f99-a423f481c9d9",
   "metadata": {},
   "source": [
    "### AutoModelForSequenceClassification + AutoTokenizer"
   ]
  },
  {
   "cell_type": "code",
   "execution_count": 93,
   "id": "078791f1-3d9b-4930-8f7b-c00d0f6c73d0",
   "metadata": {},
   "outputs": [
    {
     "name": "stderr",
     "output_type": "stream",
     "text": [
      "Special tokens have been added in the vocabulary, make sure the associated word embeddings are fine-tuned or trained.\n",
      "Special tokens have been added in the vocabulary, make sure the associated word embeddings are fine-tuned or trained.\n"
     ]
    }
   ],
   "source": [
    "classifier = AutoModelForSequenceClassification.from_pretrained(model_name)\n",
    "tokenizer = AutoTokenizer.from_pretrained(model_name)"
   ]
  },
  {
   "cell_type": "code",
   "execution_count": 94,
   "id": "bca69729-e05e-49b5-b113-d2c56ce272cf",
   "metadata": {},
   "outputs": [
    {
     "data": {
      "text/plain": [
       "{'input_ids': tensor([[  101,  2023,  3185,  2001,  2074, 12476,   102]]), 'attention_mask': tensor([[1, 1, 1, 1, 1, 1, 1]])}"
      ]
     },
     "execution_count": 94,
     "metadata": {},
     "output_type": "execute_result"
    }
   ],
   "source": [
    "inputs = tokenizer(text, return_tensors='pt')\n",
    "inputs"
   ]
  },
  {
   "cell_type": "code",
   "execution_count": 95,
   "id": "2aeb8cf9-fb5b-4ddb-96b5-a296e59e3b15",
   "metadata": {},
   "outputs": [
    {
     "name": "stdout",
     "output_type": "stream",
     "text": [
      "ID: 1\n",
      "LABEL: pos\n",
      "score: 0.9802774786949158\n"
     ]
    }
   ],
   "source": [
    "classifier.eval()\n",
    "with torch.no_grad():\n",
    "    outputs = classifier(**inputs)\n",
    "    class_id = torch.argmax(outputs.logits, dim=1).item()\n",
    "    score = nn.functional.softmax(outputs.logits, dim=1)[0][class_id].item()\n",
    "\n",
    "print('ID:', class_id)\n",
    "print('LABEL:', classifier.config.id2label[class_id])\n",
    "print('score:', score)"
   ]
  }
 ],
 "metadata": {
  "kernelspec": {
   "display_name": "Python 3 (ipykernel)",
   "language": "python",
   "name": "python3"
  },
  "language_info": {
   "codemirror_mode": {
    "name": "ipython",
    "version": 3
   },
   "file_extension": ".py",
   "mimetype": "text/x-python",
   "name": "python",
   "nbconvert_exporter": "python",
   "pygments_lexer": "ipython3",
   "version": "3.11.5"
  }
 },
 "nbformat": 4,
 "nbformat_minor": 5
}
