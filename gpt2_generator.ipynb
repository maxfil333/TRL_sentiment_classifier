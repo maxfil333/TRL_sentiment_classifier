{
 "cells": [
  {
   "cell_type": "code",
   "execution_count": 1,
   "id": "b12878c6-f30c-42f5-963e-cde54ab220fd",
   "metadata": {},
   "outputs": [],
   "source": [
    "import torch\n",
    "import numpy as np\n",
    "from tqdm import tqdm"
   ]
  },
  {
   "cell_type": "code",
   "execution_count": 2,
   "id": "b5c03d96-9796-4c7e-ac23-df432e673ca1",
   "metadata": {},
   "outputs": [],
   "source": [
    "from transformers import GPT2Tokenizer, GPT2LMHeadModel, DataCollatorForLanguageModeling"
   ]
  },
  {
   "cell_type": "code",
   "execution_count": 3,
   "id": "6ab14af1-638c-4253-a29c-868e9517b4f1",
   "metadata": {},
   "outputs": [
    {
     "data": {
      "text/plain": [
       "device(type='cuda')"
      ]
     },
     "execution_count": 3,
     "metadata": {},
     "output_type": "execute_result"
    }
   ],
   "source": [
    "device = torch.device(\"cuda\" if torch.cuda.is_available() else \"cpu\")\n",
    "device"
   ]
  },
  {
   "cell_type": "markdown",
   "id": "40958d94-2c5d-4a5b-ab10-d6f3e49f96a1",
   "metadata": {},
   "source": [
    "### imdb dataset"
   ]
  },
  {
   "cell_type": "code",
   "execution_count": 4,
   "id": "bac6371c-4efa-48d3-b4ed-7a1f8de99884",
   "metadata": {},
   "outputs": [],
   "source": [
    "from datasets import load_dataset"
   ]
  },
  {
   "cell_type": "code",
   "execution_count": 5,
   "id": "69a1b142-f433-4242-878c-5d07fb5178f5",
   "metadata": {},
   "outputs": [
    {
     "data": {
      "text/plain": [
       "DatasetDict({\n",
       "    train: Dataset({\n",
       "        features: ['review', 'sentiment'],\n",
       "        num_rows: 24895\n",
       "    })\n",
       "    test: Dataset({\n",
       "        features: ['review', 'sentiment'],\n",
       "        num_rows: 24872\n",
       "    })\n",
       "    unsupervised: Dataset({\n",
       "        features: ['review', 'sentiment'],\n",
       "        num_rows: 49776\n",
       "    })\n",
       "})"
      ]
     },
     "execution_count": 5,
     "metadata": {},
     "output_type": "execute_result"
    }
   ],
   "source": [
    "ds = load_dataset('imdb')\n",
    "ds = ds.rename_columns({'text': 'review', 'label': 'sentiment'})\n",
    "ds = ds.filter(lambda x: len(x[\"review\"])>200, batched=False)\n",
    "ds = ds.shuffle(seed=1)\n",
    "ds"
   ]
  },
  {
   "cell_type": "markdown",
   "id": "975c8099-59f1-4272-9b6b-59201a9057bf",
   "metadata": {},
   "source": [
    "### default model "
   ]
  },
  {
   "cell_type": "code",
   "execution_count": 6,
   "id": "36e6ab94-9bfa-4bd1-839d-b1fa1793bd6c",
   "metadata": {},
   "outputs": [],
   "source": [
    "model = GPT2LMHeadModel.from_pretrained(\"gpt2\")\n",
    "tokenizer = GPT2Tokenizer.from_pretrained(\"gpt2\")"
   ]
  },
  {
   "cell_type": "markdown",
   "id": "997eb797-9aae-49f1-b031-b3ab42fd8813",
   "metadata": {},
   "source": [
    "### tokenization"
   ]
  },
  {
   "cell_type": "code",
   "execution_count": 7,
   "id": "355e7298-04c2-4d3b-8655-ba3fd8ef15cd",
   "metadata": {},
   "outputs": [
    {
     "data": {
      "application/vnd.jupyter.widget-view+json": {
       "model_id": "0a56becdb8b94c7caac4c2ecc53eb076",
       "version_major": 2,
       "version_minor": 0
      },
      "text/plain": [
       "Map:   0%|          | 0/24895 [00:00<?, ? examples/s]"
      ]
     },
     "metadata": {},
     "output_type": "display_data"
    },
    {
     "data": {
      "application/vnd.jupyter.widget-view+json": {
       "model_id": "f36fccab4bd248109258175ce917ce09",
       "version_major": 2,
       "version_minor": 0
      },
      "text/plain": [
       "Map:   0%|          | 0/24872 [00:00<?, ? examples/s]"
      ]
     },
     "metadata": {},
     "output_type": "display_data"
    },
    {
     "data": {
      "application/vnd.jupyter.widget-view+json": {
       "model_id": "ddaca649df55435f8f3b0dd140226ebe",
       "version_major": 2,
       "version_minor": 0
      },
      "text/plain": [
       "Map:   0%|          | 0/49776 [00:00<?, ? examples/s]"
      ]
     },
     "metadata": {},
     "output_type": "display_data"
    },
    {
     "data": {
      "text/plain": [
       "DatasetDict({\n",
       "    train: Dataset({\n",
       "        features: ['review', 'sentiment', 'input_ids', 'attention_mask'],\n",
       "        num_rows: 24895\n",
       "    })\n",
       "    test: Dataset({\n",
       "        features: ['review', 'sentiment', 'input_ids', 'attention_mask'],\n",
       "        num_rows: 24872\n",
       "    })\n",
       "    unsupervised: Dataset({\n",
       "        features: ['review', 'sentiment', 'input_ids', 'attention_mask'],\n",
       "        num_rows: 49776\n",
       "    })\n",
       "})"
      ]
     },
     "execution_count": 7,
     "metadata": {},
     "output_type": "execute_result"
    }
   ],
   "source": [
    "def preprocess_func(examples):\n",
    "    return tokenizer(examples['review'], truncation=True, max_length = 256)\n",
    "\n",
    "tokenized_ds = ds.map(preprocess_func, batched=True)\n",
    "tokenized_ds"
   ]
  },
  {
   "cell_type": "code",
   "execution_count": 8,
   "id": "37a2c5b3-d354-438f-8ad5-e31ee146ac9b",
   "metadata": {},
   "outputs": [
    {
     "name": "stdout",
     "output_type": "stream",
     "text": [
      "lengths.max()=256.0\n",
      "lengths.min()=39.0\n",
      "lengths.mean()=203.6788913436433\n"
     ]
    }
   ],
   "source": [
    "lengths = np.zeros(len(tokenized_ds['train']['input_ids']))\n",
    "for i, ids in enumerate(tokenized_ds['train']['input_ids']):\n",
    "    lengths[i] = len(ids)\n",
    "print(f'{lengths.max()=}')\n",
    "print(f'{lengths.min()=}')\n",
    "print(f'{lengths.mean()=}')"
   ]
  },
  {
   "cell_type": "code",
   "execution_count": 9,
   "id": "a8609e0a-2f5a-4d44-ac0b-c75e291a555b",
   "metadata": {},
   "outputs": [],
   "source": [
    "tokenized_ds = tokenized_ds.remove_columns(['review', 'sentiment'])"
   ]
  },
  {
   "cell_type": "code",
   "execution_count": 10,
   "id": "dde3355e-f9ba-4729-b9bd-fa0b26ac0b3e",
   "metadata": {},
   "outputs": [],
   "source": [
    "tokenized_ds.set_format('torch')"
   ]
  },
  {
   "cell_type": "code",
   "execution_count": 11,
   "id": "6def0969-029a-45fb-a609-13e38eb42d9a",
   "metadata": {},
   "outputs": [],
   "source": [
    "train_dataset = tokenized_ds['train']['input_ids']"
   ]
  },
  {
   "cell_type": "code",
   "execution_count": 12,
   "id": "30874517-2bba-453b-bfdc-c5e2c2f69271",
   "metadata": {},
   "outputs": [
    {
     "name": "stdout",
     "output_type": "stream",
     "text": [
      "torch.Size([256])\n",
      "torch.Size([256])\n",
      "torch.Size([256])\n",
      "torch.Size([256])\n",
      "torch.Size([256])\n",
      "torch.Size([204])\n",
      "torch.Size([143])\n",
      "torch.Size([256])\n",
      "torch.Size([127])\n",
      "torch.Size([151])\n",
      "torch.Size([256])\n"
     ]
    }
   ],
   "source": [
    "for i, train_ds in enumerate(train_dataset):\n",
    "    print(train_ds.shape)\n",
    "    if i == 10: break"
   ]
  },
  {
   "cell_type": "code",
   "execution_count": 13,
   "id": "855e871e-3151-4c58-beb1-11b3e838a59b",
   "metadata": {},
   "outputs": [],
   "source": [
    "tokenizer.pad_token = tokenizer.eos_token"
   ]
  },
  {
   "cell_type": "code",
   "execution_count": 14,
   "id": "bc76d32c-5092-466b-a9c1-bcb5eecba27c",
   "metadata": {},
   "outputs": [],
   "source": [
    "data_collator = DataCollatorForLanguageModeling(tokenizer=tokenizer, mlm=False)"
   ]
  },
  {
   "cell_type": "markdown",
   "id": "732398b9-bd8d-49e9-992d-5c6341bcc5ac",
   "metadata": {},
   "source": [
    "### training"
   ]
  },
  {
   "cell_type": "code",
   "execution_count": 15,
   "id": "54df6ad5-3699-4f8c-b5bf-890a5bee0747",
   "metadata": {},
   "outputs": [],
   "source": [
    "from transformers import Trainer, TrainingArguments\n",
    "\n",
    "training_args = TrainingArguments(\n",
    "    output_dir=\"./finetuned\", # The output directory\n",
    "    overwrite_output_dir=True, # Overwrite the content of the output dir\n",
    "    num_train_epochs=1, # number of training epochs\n",
    "    per_device_train_batch_size=8, # batch size for training\n",
    "    per_device_eval_batch_size=8,  # batch size for evaluation\n",
    "    warmup_steps=10, # number of warmup steps for learning rate scheduler\n",
    "    logging_steps=300,\n",
    "    # gradient_accumulation_steps=16, # to make \"virtual\" batch size larger\n",
    "    )\n",
    "\n",
    "trainer = Trainer(\n",
    "    model=model,\n",
    "    args=training_args,\n",
    "    data_collator=data_collator,\n",
    "    train_dataset=train_dataset,\n",
    "    optimizers = (torch.optim.AdamW(model.parameters(),lr=1e-5), None)\n",
    ")"
   ]
  },
  {
   "cell_type": "code",
   "execution_count": 16,
   "id": "f7df8543-7870-4b71-9f11-406f4654cac3",
   "metadata": {},
   "outputs": [
    {
     "name": "stderr",
     "output_type": "stream",
     "text": [
      "\u001b[34m\u001b[1mwandb\u001b[0m: Currently logged in as: \u001b[33mmaxfil333\u001b[0m. Use \u001b[1m`wandb login --relogin`\u001b[0m to force relogin\n"
     ]
    },
    {
     "data": {
      "text/html": [
       "Tracking run with wandb version 0.15.12"
      ],
      "text/plain": [
       "<IPython.core.display.HTML object>"
      ]
     },
     "metadata": {},
     "output_type": "display_data"
    },
    {
     "data": {
      "text/html": [
       "Run data is saved locally in <code>D:\\my_projects\\gpt2_sentiment\\wandb\\run-20231104_134821-m79gife4</code>"
      ],
      "text/plain": [
       "<IPython.core.display.HTML object>"
      ]
     },
     "metadata": {},
     "output_type": "display_data"
    },
    {
     "data": {
      "text/html": [
       "Syncing run <strong><a href='https://wandb.ai/maxfil333/huggingface/runs/m79gife4' target=\"_blank\">driven-dawn-1</a></strong> to <a href='https://wandb.ai/maxfil333/huggingface' target=\"_blank\">Weights & Biases</a> (<a href='https://wandb.me/run' target=\"_blank\">docs</a>)<br/>"
      ],
      "text/plain": [
       "<IPython.core.display.HTML object>"
      ]
     },
     "metadata": {},
     "output_type": "display_data"
    },
    {
     "data": {
      "text/html": [
       " View project at <a href='https://wandb.ai/maxfil333/huggingface' target=\"_blank\">https://wandb.ai/maxfil333/huggingface</a>"
      ],
      "text/plain": [
       "<IPython.core.display.HTML object>"
      ]
     },
     "metadata": {},
     "output_type": "display_data"
    },
    {
     "data": {
      "text/html": [
       " View run at <a href='https://wandb.ai/maxfil333/huggingface/runs/m79gife4' target=\"_blank\">https://wandb.ai/maxfil333/huggingface/runs/m79gife4</a>"
      ],
      "text/plain": [
       "<IPython.core.display.HTML object>"
      ]
     },
     "metadata": {},
     "output_type": "display_data"
    },
    {
     "data": {
      "text/html": [
       "\n",
       "    <div>\n",
       "      \n",
       "      <progress value='3112' max='3112' style='width:300px; height:20px; vertical-align: middle;'></progress>\n",
       "      [3112/3112 1:45:45, Epoch 1/1]\n",
       "    </div>\n",
       "    <table border=\"1\" class=\"dataframe\">\n",
       "  <thead>\n",
       " <tr style=\"text-align: left;\">\n",
       "      <th>Step</th>\n",
       "      <th>Training Loss</th>\n",
       "    </tr>\n",
       "  </thead>\n",
       "  <tbody>\n",
       "    <tr>\n",
       "      <td>300</td>\n",
       "      <td>3.790000</td>\n",
       "    </tr>\n",
       "    <tr>\n",
       "      <td>600</td>\n",
       "      <td>3.705700</td>\n",
       "    </tr>\n",
       "    <tr>\n",
       "      <td>900</td>\n",
       "      <td>3.676900</td>\n",
       "    </tr>\n",
       "    <tr>\n",
       "      <td>1200</td>\n",
       "      <td>3.672400</td>\n",
       "    </tr>\n",
       "    <tr>\n",
       "      <td>1500</td>\n",
       "      <td>3.662500</td>\n",
       "    </tr>\n",
       "    <tr>\n",
       "      <td>1800</td>\n",
       "      <td>3.660100</td>\n",
       "    </tr>\n",
       "    <tr>\n",
       "      <td>2100</td>\n",
       "      <td>3.660200</td>\n",
       "    </tr>\n",
       "    <tr>\n",
       "      <td>2400</td>\n",
       "      <td>3.649800</td>\n",
       "    </tr>\n",
       "    <tr>\n",
       "      <td>2700</td>\n",
       "      <td>3.647200</td>\n",
       "    </tr>\n",
       "    <tr>\n",
       "      <td>3000</td>\n",
       "      <td>3.661200</td>\n",
       "    </tr>\n",
       "  </tbody>\n",
       "</table><p>"
      ],
      "text/plain": [
       "<IPython.core.display.HTML object>"
      ]
     },
     "metadata": {},
     "output_type": "display_data"
    },
    {
     "data": {
      "text/plain": [
       "TrainOutput(global_step=3112, training_loss=3.6778667714724502, metrics={'train_runtime': 6354.3866, 'train_samples_per_second': 3.918, 'train_steps_per_second': 0.49, 'total_flos': 3247419027456000.0, 'train_loss': 3.6778667714724502, 'epoch': 1.0})"
      ]
     },
     "execution_count": 16,
     "metadata": {},
     "output_type": "execute_result"
    }
   ],
   "source": [
    "trainer.train()"
   ]
  },
  {
   "cell_type": "markdown",
   "id": "115fc818-0117-4501-a3e6-7201cacef112",
   "metadata": {},
   "source": [
    "### evaluation"
   ]
  },
  {
   "cell_type": "code",
   "execution_count": 38,
   "id": "a43991df-8a9a-4ba5-88da-db67430d14bf",
   "metadata": {},
   "outputs": [],
   "source": [
    "generation_kwargs = {'do_sample': True,\n",
    "                     'num_beams': 2,\n",
    "                     'temperature': 1.5,\n",
    "                     'top_p': 0.9,\n",
    "                     'top_k': 30,\n",
    "                     'max_length': 200,\n",
    "                     'pad_token_id': tokenizer.eos_token_id}"
   ]
  },
  {
   "cell_type": "code",
   "execution_count": 39,
   "id": "f243012e-03f9-4982-88ba-e122d8a7b1fe",
   "metadata": {},
   "outputs": [
    {
     "name": "stdout",
     "output_type": "stream",
     "text": [
      "This movie is one of the best I've ever seen.<br /><br />The acting is top notch.<br /><br />The plot is predictable at first, and the acting is a little too predictable at the end. However, I was able to watch this movie with a bunch of other friends, and it really made a great film.<br /><br />I think this is a great movie to see if you want to have fun watching movies.<br /><br />The acting is good, the acting is good, and the story is good. The acting is great, the acting is good, and the story is good. I would recommend this movie to all movie buffs.<br /><br />I recommend this movie to everyone.<br /><br />If you're into movies like this, I recommend this movie. It is a great movie to see if you like watching movies, but not if you're into movies.<br /><br />I would also\n",
      "--------------------\n",
      "I have to say I was very disappointed with this movie. The first time I saw this movie I was completely blown away by how well it made me laugh. I don't mean to compare it to anything else, I just wanted to know what was going on. The plot was a little too good, the characters were a bit over developed, and the acting just wasn't that good. I would say the second time I saw this movie I was completely disappointed. The second time I saw this movie I was totally blown away by how well it made me laugh. I don't mean to compare it to anything else, I just wanted to know what was going on. The plot was a little too good, the characters were a little over developed, and the acting just wasn't that good. I would say the second time I saw this movie I was completely blown away by how well it made me laugh. I don't mean to compare it to anything else, I just wanted to know what was\n",
      "--------------------\n",
      "I'm extremely disappointed in this movie. The acting was terrible and the plot was a total mess. The main character was so pathetic that it was hard to watch. I was also impressed with the acting by the director. I was just hoping that he would do something about this. I don't think he has done anything that could have been done to make this movie better. It's like the best movie of the year, with all the good jokes, good acting, and some really good acting. This movie is a complete waste of time, money, and energy. I would recommend this to everyone. It's a waste of time and money and energy. I would recommend this to everyone. It's a waste of time and money. I would recommend this to everyone. It's a waste of time and money. I would recommend this to everyone. It's a waste of time and money. I would recommend this to everyone. It's a waste of time and money. I would recommend this\n",
      "--------------------\n"
     ]
    }
   ],
   "source": [
    "contexts = [\"This movie is\", \"I have to say\", \"I'm extremely disappointed\"]\n",
    "\n",
    "for text in contexts:\n",
    "    input_ids = tokenizer.encode(text, return_tensors=\"pt\").to(device)\n",
    "    model.eval()\n",
    "    with torch.no_grad():\n",
    "        out = model.generate(input_ids, **generation_kwargs)\n",
    "    generated_text = list(map(tokenizer.decode, out))[0]\n",
    "    print(generated_text)\n",
    "    print('-' * 20)"
   ]
  },
  {
   "cell_type": "markdown",
   "id": "2cd2e930-6d9a-46fe-ac7a-7a62fb181d6a",
   "metadata": {},
   "source": [
    "### pushing to hub"
   ]
  },
  {
   "cell_type": "code",
   "execution_count": 19,
   "id": "a55e8fe0-fe10-4228-a2c7-0068777789a1",
   "metadata": {},
   "outputs": [
    {
     "data": {
      "application/vnd.jupyter.widget-view+json": {
       "model_id": "cc50249092494a2ea1544f5459dd825f",
       "version_major": 2,
       "version_minor": 0
      },
      "text/plain": [
       "pytorch_model.bin:   0%|          | 0.00/498M [00:00<?, ?B/s]"
      ]
     },
     "metadata": {},
     "output_type": "display_data"
    },
    {
     "data": {
      "text/plain": [
       "CommitInfo(commit_url='https://huggingface.co/maxfil333/gpt2_imdb_generator_v2/commit/239e5f3504ac877da8bc72f321d7e02a3a81c2cb', commit_message='Upload model', commit_description='', oid='239e5f3504ac877da8bc72f321d7e02a3a81c2cb', pr_url=None, pr_revision=None, pr_num=None)"
      ]
     },
     "execution_count": 19,
     "metadata": {},
     "output_type": "execute_result"
    }
   ],
   "source": [
    "model.push_to_hub('gpt2_imdb_generator_v2')"
   ]
  },
  {
   "cell_type": "code",
   "execution_count": 20,
   "id": "815aef87-f6a8-45ee-9746-f4ea4cf46154",
   "metadata": {},
   "outputs": [
    {
     "data": {
      "text/plain": [
       "CommitInfo(commit_url='https://huggingface.co/maxfil333/gpt2_imdb_generator_v2/commit/47c15193a4855f212bb70e490dcdefd4bc02be80', commit_message='Upload tokenizer', commit_description='', oid='47c15193a4855f212bb70e490dcdefd4bc02be80', pr_url=None, pr_revision=None, pr_num=None)"
      ]
     },
     "execution_count": 20,
     "metadata": {},
     "output_type": "execute_result"
    }
   ],
   "source": [
    "tokenizer.push_to_hub('gpt2_imdb_generator_v2')"
   ]
  }
 ],
 "metadata": {
  "kernelspec": {
   "display_name": "Python 3 (ipykernel)",
   "language": "python",
   "name": "python3"
  },
  "language_info": {
   "codemirror_mode": {
    "name": "ipython",
    "version": 3
   },
   "file_extension": ".py",
   "mimetype": "text/x-python",
   "name": "python",
   "nbconvert_exporter": "python",
   "pygments_lexer": "ipython3",
   "version": "3.11.5"
  }
 },
 "nbformat": 4,
 "nbformat_minor": 5
}
