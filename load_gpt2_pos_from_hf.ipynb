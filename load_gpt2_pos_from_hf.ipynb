{
 "cells": [
  {
   "cell_type": "code",
   "execution_count": 1,
   "id": "a81aee7d-40e8-4bf4-a358-b744f73475f1",
   "metadata": {},
   "outputs": [],
   "source": [
    "import transformers\n",
    "import torch\n",
    "from torch import nn\n",
    "import pandas as pd\n",
    "from transformers import pipeline\n",
    "from transformers import GPT2Tokenizer, GPT2LMHeadModel"
   ]
  },
  {
   "cell_type": "code",
   "execution_count": 2,
   "id": "7836bd9b-cc2b-4cc8-86bc-6112555f10a9",
   "metadata": {},
   "outputs": [
    {
     "data": {
      "text/plain": [
       "device(type='cuda')"
      ]
     },
     "execution_count": 2,
     "metadata": {},
     "output_type": "execute_result"
    }
   ],
   "source": [
    "device = torch.device(\"cuda\" if torch.cuda.is_available() else \"cpu\")\n",
    "device"
   ]
  },
  {
   "cell_type": "code",
   "execution_count": 3,
   "id": "5763abe5-ed63-451d-be3a-838d3423499f",
   "metadata": {},
   "outputs": [],
   "source": [
    "model_name = 'maxfil333/gpt2_pos_imdb_generator'"
   ]
  },
  {
   "cell_type": "code",
   "execution_count": 4,
   "id": "1285f05a-3c79-439f-903e-c11451bda371",
   "metadata": {},
   "outputs": [],
   "source": [
    "context = 'Well what can I say. Another adaptation of'"
   ]
  },
  {
   "cell_type": "code",
   "execution_count": 16,
   "id": "c9c62681-9136-41fd-949a-6c1750ef7878",
   "metadata": {},
   "outputs": [],
   "source": [
    "generation_kwargs = {\"do_sample\": True,\n",
    "                     \"num_beams\": 2,\n",
    "                     \"temperature\": 1.5,\n",
    "                     \"top_p\": 0.9,\n",
    "                     \"max_length\": 100,\n",
    "                     \"pad_token_id\": tokenizer.eos_token_id}"
   ]
  },
  {
   "cell_type": "markdown",
   "id": "de47bf1f-8102-4fe6-9579-1b0a4105cbbd",
   "metadata": {},
   "source": [
    "После обучения модели мы можем использовать ее, загрузив любым доступным способом. <br>\n",
    "Далее показаны способы загрузки через <b>GPT2LMHeadModel</b> и <b>pipeline</b>"
   ]
  },
  {
   "cell_type": "markdown",
   "id": "6e58dc0c-4c62-4110-89e6-f5ed05604b84",
   "metadata": {},
   "source": [
    "### GPT2LMHeadModel"
   ]
  },
  {
   "cell_type": "code",
   "execution_count": null,
   "id": "f5db5029-e71c-4688-b4d8-c6a92e13f39c",
   "metadata": {},
   "outputs": [],
   "source": [
    "model = GPT2LMHeadModel.from_pretrained(model_name).to(device)\n",
    "tokenizer = GPT2Tokenizer.from_pretrained(model_name)"
   ]
  },
  {
   "cell_type": "code",
   "execution_count": 17,
   "id": "c24f2205-e966-4c52-be5e-250f2d0a3396",
   "metadata": {},
   "outputs": [
    {
     "name": "stdout",
     "output_type": "stream",
     "text": [
      "Well what can I say. Another adaptation of the book that I have seen from a number of friends. This is one of the best I have seen in a long time. The story is interesting and full of mystery, a great story with an element of truth and story, and a great story and characters. A classic, and it is a very good movie. The film is well made and the music is great, and the story is well developed. The movie is well-acted and the characters\n"
     ]
    }
   ],
   "source": [
    "input_ids = tokenizer.encode(context, return_tensors=\"pt\").to(device)\n",
    "model.eval()\n",
    "with torch.no_grad():\n",
    "    out = model.generate(input_ids, **generation_kwargs)\n",
    "\n",
    "generated_text = list(map(tokenizer.decode, out))[0]\n",
    "\n",
    "print(generated_text)"
   ]
  },
  {
   "cell_type": "markdown",
   "id": "ae490cc4-8555-46a4-91b5-47b21956d588",
   "metadata": {},
   "source": [
    "### pipeline('text-generation')"
   ]
  },
  {
   "cell_type": "code",
   "execution_count": null,
   "id": "df8db4b2-e5d9-4b8d-aba1-78b1a87aa84e",
   "metadata": {},
   "outputs": [],
   "source": [
    "pipe = pipeline('text-generation', model=model_name, tokenizer=model_name)"
   ]
  },
  {
   "cell_type": "code",
   "execution_count": 18,
   "id": "777db889-f780-4bb3-8c99-581b51318973",
   "metadata": {},
   "outputs": [
    {
     "data": {
      "text/plain": [
       "[{'generated_text': 'Well what can I say. Another adaptation of this great movie, this is one of the best movie I have ever seen. The story is great, and the acting is great, and the acting is very well done. The acting is great, and it has a lot of humor in it, and a lot of good humor. The story is also very well told, and the story is moving, and it is good and interesting. The story is also very well told, and the humor is very'}]"
      ]
     },
     "execution_count": 18,
     "metadata": {},
     "output_type": "execute_result"
    }
   ],
   "source": [
    "pipe(context, **generation_kwargs)"
   ]
  },
  {
   "cell_type": "markdown",
   "id": "22757a33-6e7b-4b30-a72c-1c7531695346",
   "metadata": {},
   "source": [
    "### comparison of default and pretrained model"
   ]
  },
  {
   "cell_type": "code",
   "execution_count": 9,
   "id": "de446e6d-5a47-44ab-9949-9b3f95e48f9a",
   "metadata": {},
   "outputs": [],
   "source": [
    "common_generator_name = 'maxfil333/gpt2_imdb_generator'\n",
    "positive_generator_name = 'maxfil333/gpt2_pos_imdb_generator'"
   ]
  },
  {
   "cell_type": "code",
   "execution_count": 10,
   "id": "be3e7afb-7e1f-4374-ab09-4cb9e9958c38",
   "metadata": {},
   "outputs": [],
   "source": [
    "inputs = [\"if you ask me\",\n",
    "          \"I was very bored\",\n",
    "          \"It's terrible\",\n",
    "          \"Why is the movie director\",\n",
    "          \"No matter how sad it may sound\"]"
   ]
  },
  {
   "cell_type": "markdown",
   "id": "be004305-e1dc-4501-82a1-026b519adfb3",
   "metadata": {},
   "source": [
    "#### common gpt2 for imdb"
   ]
  },
  {
   "cell_type": "code",
   "execution_count": null,
   "id": "82d748c4-7a2e-4ab1-ba86-8ce7143f473c",
   "metadata": {},
   "outputs": [],
   "source": [
    "common_pipe = pipeline('text-generation', model=common_generator_name, tokenizer=common_generator_name)\n",
    "common_outpus = common_pipe(inputs, **generation_kwargs)\n",
    "common_outpus = [x[0]['generated_text'] for x in common_outpus]"
   ]
  },
  {
   "cell_type": "markdown",
   "id": "fa8604be-d78e-4335-a645-9413fd7c28e7",
   "metadata": {},
   "source": [
    "#### positive gpt2 imdb"
   ]
  },
  {
   "cell_type": "code",
   "execution_count": null,
   "id": "c43c2991-b81d-4d2c-8947-b2d590eeb00e",
   "metadata": {},
   "outputs": [],
   "source": [
    "positive_pipe = pipeline('text-generation', model=positive_generator_name, tokenizer=positive_generator_name)\n",
    "positive_outpus = positive_pipe(inputs, **generation_kwargs)\n",
    "positive_outpus = [x[0]['generated_text'] for x in positive_outpus]"
   ]
  },
  {
   "cell_type": "markdown",
   "id": "4f4dc629-931b-400c-aed0-71a62bb0111b",
   "metadata": {},
   "source": [
    "### results:"
   ]
  },
  {
   "cell_type": "code",
   "execution_count": 21,
   "id": "a2d51ad6-3693-4234-817a-cde4a5ade749",
   "metadata": {},
   "outputs": [
    {
     "data": {
      "text/plain": [
       "[\"if you ask me, the first thing that I want to say is this. You see, I'm not one of the guys that has to go through a grueling, exhausting day to day grind in my life. It's not like I have to deal with it. I am the guy that has to work in the morning, and work in the evening, but that is not the reason I'm here. The reason I am here, is because I am an average guy. I am very\",\n",
       " 'I was very bored watching this movie and I didn\\'t even notice it until the end. I found the plot to be nothing new or interesting. The story was simple and boring, the action was boring and boring, the sex scenes were very boring. The ending was predictable and predictable. The only thing that surprised me was that the \"hero\" of this movie was a girl, but not the hero of this movie was the heroine. And then the movie was over. I thought \"that\\'s what',\n",
       " \"It's terrible. It's bad because the movie is very good and it's not bad. But the movie is nothing but a waste of time and money. And that's it. The only reason I watched this movie was because I thought it was so good. The plot is crap. It's not that bad at all. I think the main reason I was watching it is because I didn't like a lot of movies. But I am not a fan of bad movies and I would like to\",\n",
       " \"Why is the movie director so upset with the movie? Is he scared?<br /><br />I was a bit surprised to see that the movie director doesn't like to talk about his movies in his movie credits. I had never heard of him before. I was curious if this was because he just wasn't interested in talking about movies. Maybe he thinks that he won't have to go to the movies again.<br /><br />Maybe he doesn't think that his movies are\",\n",
       " \"No matter how sad it may sound, I'm not complaining about the movie. It's an enjoyable movie. It's funny, funny, funny, funny, funny, fun. It's a good movie, but not what it should be. The plot is just as bad as it was then. I'm not complaining about the movie, it's an interesting and interesting movie that people want to see more of. Don't watch it if you enjoy this movie, it's an interesting and interesting movie\"]"
      ]
     },
     "execution_count": 21,
     "metadata": {},
     "output_type": "execute_result"
    }
   ],
   "source": [
    "common_outpus"
   ]
  },
  {
   "cell_type": "code",
   "execution_count": 22,
   "id": "68e7d53f-8918-41d3-93f2-f2336ccca47f",
   "metadata": {},
   "outputs": [
    {
     "data": {
      "text/plain": [
       "['if you ask me, this is one of the best movies I have ever seen. The movie is a great movie that is a good story for you to see it. The story is great because it is well told and a great movie of the time for the kids and the kids were very happy and happy with the movie. The movie is well made and that is why it is good. The movie is so great and the story is good because it is so well explained and you get to see it',\n",
       " 'I was very bored watching this movie and it was very boring. I have seen this movie many times and this movie has a lot of plot holes, but it is only partially related to the story. This movie is very similar to the first movie in the series, but with fewer plot holes. There is also a good comedy with good characters, but the ending is basically tied to the events in it, but the ending is mostly tied to that. There is also a good theme song, but nothing',\n",
       " \"It's terrible. This film has no idea what it's supposed to do, but instead relies on the premise of this movie. This is a great comedy, but it never gets any sense of humour. This film has no sense of humour at all, with little explanation or motivation. This movie has no sense of anything happening, with only one scene where there's no sense of anything happening, with no sense of anything happening, and no sense of anything happening. This movie tries very badly to make\",\n",
       " 'Why is the movie director Steven Spielberg good? Yes, but why do the filmmakers make such films as \"The Best of Both Worlds\" and \"The Great Gatsby\" so excellent? Yes, but why do the directors make such films as \"The Great Gatsby\" and \"The Great Gatsby\" so wonderful? Yes, but why do the filmmakers make such films as \"The Great Gatsby\" and \"The Great Gatsby\" so wonderful? Yes, but why',\n",
       " 'No matter how sad it may sound, this is a fantastic film. This is one of the best films I have seen in a long time. The story is well told, with the humor being well-developed, and there is an excellent feel to the film. The acting is well acted, the cinematography is well made, and the cinematography is well done. The performances are well acted, the music is well performed, and the cinematography is well done. The story is told, and']"
      ]
     },
     "execution_count": 22,
     "metadata": {},
     "output_type": "execute_result"
    }
   ],
   "source": [
    "positive_outpus"
   ]
  }
 ],
 "metadata": {
  "kernelspec": {
   "display_name": "Python 3 (ipykernel)",
   "language": "python",
   "name": "python3"
  },
  "language_info": {
   "codemirror_mode": {
    "name": "ipython",
    "version": 3
   },
   "file_extension": ".py",
   "mimetype": "text/x-python",
   "name": "python",
   "nbconvert_exporter": "python",
   "pygments_lexer": "ipython3",
   "version": "3.11.5"
  }
 },
 "nbformat": 4,
 "nbformat_minor": 5
}
