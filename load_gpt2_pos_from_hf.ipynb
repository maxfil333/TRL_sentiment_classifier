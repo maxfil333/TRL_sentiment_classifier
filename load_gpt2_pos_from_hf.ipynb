{
 "cells": [
  {
   "cell_type": "code",
   "execution_count": 1,
   "id": "a81aee7d-40e8-4bf4-a358-b744f73475f1",
   "metadata": {},
   "outputs": [],
   "source": [
    "import transformers\n",
    "import torch\n",
    "from torch import nn\n",
    "import pandas as pd\n",
    "from transformers import pipeline\n",
    "from transformers import GPT2Tokenizer, GPT2LMHeadModel"
   ]
  },
  {
   "cell_type": "code",
   "execution_count": 2,
   "id": "7836bd9b-cc2b-4cc8-86bc-6112555f10a9",
   "metadata": {},
   "outputs": [
    {
     "data": {
      "text/plain": [
       "device(type='cuda')"
      ]
     },
     "execution_count": 2,
     "metadata": {},
     "output_type": "execute_result"
    }
   ],
   "source": [
    "device = torch.device(\"cuda\" if torch.cuda.is_available() else \"cpu\")\n",
    "device"
   ]
  },
  {
   "cell_type": "code",
   "execution_count": null,
   "id": "5763abe5-ed63-451d-be3a-838d3423499f",
   "metadata": {},
   "outputs": [],
   "source": [
    "model_name = 'maxfil333/gpt2_pos_imdb_generator'\n",
    "model = GPT2LMHeadModel.from_pretrained(model_name).to(device)\n",
    "tokenizer = GPT2Tokenizer.from_pretrained(model_name)"
   ]
  },
  {
   "cell_type": "code",
   "execution_count": 4,
   "id": "1285f05a-3c79-439f-903e-c11451bda371",
   "metadata": {},
   "outputs": [],
   "source": [
    "context = 'Well what can I say. Another adaptation of'"
   ]
  },
  {
   "cell_type": "code",
   "execution_count": 5,
   "id": "c9c62681-9136-41fd-949a-6c1750ef7878",
   "metadata": {},
   "outputs": [],
   "source": [
    "generation_kwargs = {\"do_sample\": True,\n",
    "                     \"num_beams\": 2,\n",
    "                     \"temperature\": 1.2,\n",
    "                     \"top_p\": 0.9,\n",
    "                     \"repetition_penalty\": 1.5,\n",
    "                     \"no_repeat_ngram_size\": 2,\n",
    "                     \"renormalize_logits\": True,\n",
    "                     \"max_length\": 100,\n",
    "                     \"pad_token_id\": tokenizer.eos_token_id}"
   ]
  },
  {
   "cell_type": "markdown",
   "id": "de47bf1f-8102-4fe6-9579-1b0a4105cbbd",
   "metadata": {},
   "source": [
    "После обучения модели мы можем использовать ее, загрузив любым доступным способом. <br>\n",
    "Далее показаны способы загрузки через <b>GPT2LMHeadModel</b> и <b>pipeline</b>"
   ]
  },
  {
   "cell_type": "markdown",
   "id": "6e58dc0c-4c62-4110-89e6-f5ed05604b84",
   "metadata": {},
   "source": [
    "### GPT2LMHeadModel"
   ]
  },
  {
   "cell_type": "code",
   "execution_count": 6,
   "id": "c24f2205-e966-4c52-be5e-250f2d0a3396",
   "metadata": {},
   "outputs": [
    {
     "name": "stdout",
     "output_type": "stream",
     "text": [
      "Well what can I say. Another adaptation of the best novel I have ever read, this film is an excellent classic with a great character and a good story. It is a wonderful movie and one that is always in my heart. The story is well done and the story was written and well presented. Great to see it on television. A great movie with great characters and great performances. This is one of those films that I will see on TV for the first time. One of my favorite films I\n"
     ]
    }
   ],
   "source": [
    "input_ids = tokenizer.encode(context, return_tensors=\"pt\").to(device)\n",
    "model.eval()\n",
    "with torch.no_grad():\n",
    "    out = model.generate(input_ids, **generation_kwargs)\n",
    "\n",
    "generated_text = list(map(tokenizer.decode, out))[0]\n",
    "\n",
    "print(generated_text)"
   ]
  },
  {
   "cell_type": "markdown",
   "id": "ae490cc4-8555-46a4-91b5-47b21956d588",
   "metadata": {},
   "source": [
    "### pipeline('text-generation')"
   ]
  },
  {
   "cell_type": "code",
   "execution_count": null,
   "id": "df8db4b2-e5d9-4b8d-aba1-78b1a87aa84e",
   "metadata": {},
   "outputs": [],
   "source": [
    "pipe = pipeline('text-generation', model=model_name, tokenizer=model_name, device=device)"
   ]
  },
  {
   "cell_type": "code",
   "execution_count": 8,
   "id": "777db889-f780-4bb3-8c99-581b51318973",
   "metadata": {},
   "outputs": [
    {
     "data": {
      "text/plain": [
       "[{'generated_text': 'Well what can I say. Another adaptation of the original manga, this is a wonderful movie. It is very well done. This is one of those movies that have a lot of good elements, such as the romance, the story, and the characters. The animation is wonderful. And the overall atmosphere is excellent. There is also some good scenes from the classic manga and it is well made. I have always enjoyed the film and its great character-development. Great for a movie to have it on'}]"
      ]
     },
     "execution_count": 8,
     "metadata": {},
     "output_type": "execute_result"
    }
   ],
   "source": [
    "pipe(context, **generation_kwargs)"
   ]
  },
  {
   "cell_type": "markdown",
   "id": "22757a33-6e7b-4b30-a72c-1c7531695346",
   "metadata": {},
   "source": [
    "### comparison of default and pretrained model"
   ]
  },
  {
   "cell_type": "code",
   "execution_count": 9,
   "id": "de446e6d-5a47-44ab-9949-9b3f95e48f9a",
   "metadata": {},
   "outputs": [],
   "source": [
    "common_generator_name = 'maxfil333/gpt2_imdb_generator'\n",
    "positive_generator_name = 'maxfil333/gpt2_pos_imdb_generator'"
   ]
  },
  {
   "cell_type": "code",
   "execution_count": 10,
   "id": "be3e7afb-7e1f-4374-ab09-4cb9e9958c38",
   "metadata": {},
   "outputs": [],
   "source": [
    "inputs = [\"If you ask me\",\n",
    "          \"I was very bored\",\n",
    "          \"While watching, you get the feeling that the\",\n",
    "          \"Why is the movie director\",\n",
    "          \"No matter how sad it may sound\"]"
   ]
  },
  {
   "cell_type": "markdown",
   "id": "be004305-e1dc-4501-82a1-026b519adfb3",
   "metadata": {},
   "source": [
    "#### common gpt2 for imdb"
   ]
  },
  {
   "cell_type": "code",
   "execution_count": null,
   "id": "82d748c4-7a2e-4ab1-ba86-8ce7143f473c",
   "metadata": {},
   "outputs": [],
   "source": [
    "common_pipe = pipeline('text-generation', model=common_generator_name, tokenizer=common_generator_name, device=device)\n",
    "common_outpus = common_pipe(inputs, **generation_kwargs)\n",
    "common_outpus = [x[0]['generated_text'] for x in common_outpus]"
   ]
  },
  {
   "cell_type": "markdown",
   "id": "fa8604be-d78e-4335-a645-9413fd7c28e7",
   "metadata": {},
   "source": [
    "#### positive gpt2 imdb"
   ]
  },
  {
   "cell_type": "code",
   "execution_count": null,
   "id": "c43c2991-b81d-4d2c-8947-b2d590eeb00e",
   "metadata": {},
   "outputs": [],
   "source": [
    "positive_pipe = pipeline('text-generation', model=positive_generator_name, tokenizer=positive_generator_name, device=device)\n",
    "positive_outpus = positive_pipe(inputs, **generation_kwargs)\n",
    "positive_outpus = [x[0]['generated_text'] for x in positive_outpus]"
   ]
  },
  {
   "cell_type": "markdown",
   "id": "4f4dc629-931b-400c-aed0-71a62bb0111b",
   "metadata": {},
   "source": [
    "### results:"
   ]
  },
  {
   "cell_type": "code",
   "execution_count": 13,
   "id": "a2d51ad6-3693-4234-817a-cde4a5ade749",
   "metadata": {},
   "outputs": [
    {
     "data": {
      "text/plain": [
       "[\"If you ask me what's most important for me is the future, I can't tell you. What I want to know is how the next generation will be affected by this. If you're going to try and make a difference, you'll have to do something. It doesn't matter if you've got a job, an education or a family. Don't let the past ruin your life; go out and create something new. Let it be that change is possible. That will happen in the\",\n",
       " \"I was very bored with this movie when I saw it on DVD. I have to admit I had a good idea of what was going to happen. But I never got around to it. The plot was bad. There were so many things that weren't happening, like the guy who killed his girlfriend, but they were just too predictable and boring. And I really liked the music. It was great to see someone who is not a singer singing or singing. That said, the acting was alright.\",\n",
       " \"While watching, you get the feeling that the actors are trying to figure out a way to do this in a more dramatic way. It's not as if it was scripted or anything, but the direction is what kept me coming back. The actors did a pretty good job of keeping their heads down, as the script was very well thought out and the story seemed to fit into the larger narrative. I really like the fact that they didn't just add one line or two to each scene, they added\",\n",
       " 'Why is the movie director so sure about what he\\'s saying? He\\'s got a big mouth. It\\'s not really his fault that he doesn\\'t seem to have any charisma in his movies.<br /><br />The plot is pretty much the same as the one from the first movie, except for the ending where he says \"OK,\" which was kind of a waste of time.<b>I\\'m glad that the actors were better than I am, but it seems that they\\'re just too',\n",
       " 'No matter how sad it may sound, this movie was one of the worst movies I\\'ve ever seen. It had a good plot, and the acting was decent. However, the only reason that I watched it was because I wanted something to do with it. I\\'ll give you the synopsis: \"I am a young man who is looking for a girl who lives in an old family cabin on a farm in Wyoming. He goes to the cabin to find her and when she doesn\\'t show up he']"
      ]
     },
     "execution_count": 13,
     "metadata": {},
     "output_type": "execute_result"
    }
   ],
   "source": [
    "common_outpus"
   ]
  },
  {
   "cell_type": "code",
   "execution_count": 14,
   "id": "68e7d53f-8918-41d3-93f2-f2336ccca47f",
   "metadata": {},
   "outputs": [
    {
     "data": {
      "text/plain": [
       "['If you ask me, this is the best movie I have ever seen. The story is very well told, and the characters are well developed. I loved the way they were portrayed, but for the most part it was excellent. It was also a great movie in the early days, with beautiful scenery and a wonderful story. A very good movie, because it brought many of the same elements that were present in this film. There is a lot of humor to be seen, as well as a good',\n",
       " 'I was very bored watching this film. This is one of the best movies I have ever seen. The story is interesting, and the characters are well developed. It also has some good elements to it, like a big mystery, which is a good movie, but it lacks many of its own. But that is mostly because of how it works, or because it is set in a small time period. There is no storyline, so much story, only moments, although there are some nice moments.',\n",
       " \"While watching, you get the feeling that the movie is very well done and well made. It's a great movie and I think it's one of the best movies I've ever seen. The story is well told and there's enough suspense to keep you up for the next couple of hours as it goes on. This movie has a good story and good acting and a strong story with a lot of characters. A great story about the way the people come to know the story. Great story-telling\",\n",
       " \"Why is the movie director Quentin Tarantino's favourite? Yes! This is a very good movie. It's well done and I think it's one of the best movies I've seen since it was first released in 1968. The story is very well told and the characters are well developed. There are many great scenes in the film, some of them really interesting, and there's a great story to tell. A very cool movie with an excellent story, a good storyline, beautiful and exciting. Great\",\n",
       " 'No matter how sad it may sound, this movie is one of the best movies I have ever seen. The story is interesting, and the performances are great. Great! I think it is also a great movie to see from the actors. It was such a good movie in its own way, but it had a lot of fun with some other characters. A very good film to watch and for a very long time. I must say that it was a classic, which is a really special movie.']"
      ]
     },
     "execution_count": 14,
     "metadata": {},
     "output_type": "execute_result"
    }
   ],
   "source": [
    "positive_outpus"
   ]
  }
 ],
 "metadata": {
  "kernelspec": {
   "display_name": "Python 3 (ipykernel)",
   "language": "python",
   "name": "python3"
  },
  "language_info": {
   "codemirror_mode": {
    "name": "ipython",
    "version": 3
   },
   "file_extension": ".py",
   "mimetype": "text/x-python",
   "name": "python",
   "nbconvert_exporter": "python",
   "pygments_lexer": "ipython3",
   "version": "3.11.5"
  }
 },
 "nbformat": 4,
 "nbformat_minor": 5
}
